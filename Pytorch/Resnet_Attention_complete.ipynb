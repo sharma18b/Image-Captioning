{
  "nbformat": 4,
  "nbformat_minor": 0,
  "metadata": {
    "colab": {
      "name": "Resnet Attention .ipynb",
      "provenance": [],
      "authorship_tag": "ABX9TyNFgaInXBAcyEeOwWxsNTtL",
      "include_colab_link": true
    },
    "kernelspec": {
      "name": "python3",
      "display_name": "Python 3"
    },
    "language_info": {
      "name": "python"
    },
    "accelerator": "GPU",
    "widgets": {
      "application/vnd.jupyter.widget-state+json": {
        "2befc53e0586446ab9ef7fe7070b4aa5": {
          "model_module": "@jupyter-widgets/controls",
          "model_name": "HBoxModel",
          "model_module_version": "1.5.0",
          "state": {
            "_view_name": "HBoxView",
            "_dom_classes": [],
            "_model_name": "HBoxModel",
            "_view_module": "@jupyter-widgets/controls",
            "_model_module_version": "1.5.0",
            "_view_count": null,
            "_view_module_version": "1.5.0",
            "box_style": "",
            "layout": "IPY_MODEL_b868045d2ee143ca86cd8095e9d6e734",
            "_model_module": "@jupyter-widgets/controls",
            "children": [
              "IPY_MODEL_041520f5cc1d421abf6a5c187bfceb52",
              "IPY_MODEL_2ca6243a916b422ea3bcad5f12a6c84b",
              "IPY_MODEL_34e6c33fba3046aa8dbf417f2e0241c8"
            ]
          }
        },
        "b868045d2ee143ca86cd8095e9d6e734": {
          "model_module": "@jupyter-widgets/base",
          "model_name": "LayoutModel",
          "model_module_version": "1.2.0",
          "state": {
            "_view_name": "LayoutView",
            "grid_template_rows": null,
            "right": null,
            "justify_content": null,
            "_view_module": "@jupyter-widgets/base",
            "overflow": null,
            "_model_module_version": "1.2.0",
            "_view_count": null,
            "flex_flow": null,
            "width": null,
            "min_width": null,
            "border": null,
            "align_items": null,
            "bottom": null,
            "_model_module": "@jupyter-widgets/base",
            "top": null,
            "grid_column": null,
            "overflow_y": null,
            "overflow_x": null,
            "grid_auto_flow": null,
            "grid_area": null,
            "grid_template_columns": null,
            "flex": null,
            "_model_name": "LayoutModel",
            "justify_items": null,
            "grid_row": null,
            "max_height": null,
            "align_content": null,
            "visibility": null,
            "align_self": null,
            "height": null,
            "min_height": null,
            "padding": null,
            "grid_auto_rows": null,
            "grid_gap": null,
            "max_width": null,
            "order": null,
            "_view_module_version": "1.2.0",
            "grid_template_areas": null,
            "object_position": null,
            "object_fit": null,
            "grid_auto_columns": null,
            "margin": null,
            "display": null,
            "left": null
          }
        },
        "041520f5cc1d421abf6a5c187bfceb52": {
          "model_module": "@jupyter-widgets/controls",
          "model_name": "HTMLModel",
          "model_module_version": "1.5.0",
          "state": {
            "_view_name": "HTMLView",
            "style": "IPY_MODEL_85438cc904354ab59d972306d08c5574",
            "_dom_classes": [],
            "description": "",
            "_model_name": "HTMLModel",
            "placeholder": "​",
            "_view_module": "@jupyter-widgets/controls",
            "_model_module_version": "1.5.0",
            "value": "100%",
            "_view_count": null,
            "_view_module_version": "1.5.0",
            "description_tooltip": null,
            "_model_module": "@jupyter-widgets/controls",
            "layout": "IPY_MODEL_e7b2b15bdc4b4e0dbd36a14133e20b99"
          }
        },
        "2ca6243a916b422ea3bcad5f12a6c84b": {
          "model_module": "@jupyter-widgets/controls",
          "model_name": "FloatProgressModel",
          "model_module_version": "1.5.0",
          "state": {
            "_view_name": "ProgressView",
            "style": "IPY_MODEL_6b4dbc523f5646cda09b5a4e682db49d",
            "_dom_classes": [],
            "description": "",
            "_model_name": "FloatProgressModel",
            "bar_style": "success",
            "max": 241627721,
            "_view_module": "@jupyter-widgets/controls",
            "_model_module_version": "1.5.0",
            "value": 241627721,
            "_view_count": null,
            "_view_module_version": "1.5.0",
            "orientation": "horizontal",
            "min": 0,
            "description_tooltip": null,
            "_model_module": "@jupyter-widgets/controls",
            "layout": "IPY_MODEL_30c6b270f9b5411a8fb3fa488ce29691"
          }
        },
        "34e6c33fba3046aa8dbf417f2e0241c8": {
          "model_module": "@jupyter-widgets/controls",
          "model_name": "HTMLModel",
          "model_module_version": "1.5.0",
          "state": {
            "_view_name": "HTMLView",
            "style": "IPY_MODEL_210d9a6a13854d94bd59bc4aaa693611",
            "_dom_classes": [],
            "description": "",
            "_model_name": "HTMLModel",
            "placeholder": "​",
            "_view_module": "@jupyter-widgets/controls",
            "_model_module_version": "1.5.0",
            "value": " 230M/230M [00:04&lt;00:00, 60.0MB/s]",
            "_view_count": null,
            "_view_module_version": "1.5.0",
            "description_tooltip": null,
            "_model_module": "@jupyter-widgets/controls",
            "layout": "IPY_MODEL_2759135b3c71432c9f8bf4d0318b6e31"
          }
        },
        "85438cc904354ab59d972306d08c5574": {
          "model_module": "@jupyter-widgets/controls",
          "model_name": "DescriptionStyleModel",
          "model_module_version": "1.5.0",
          "state": {
            "_view_name": "StyleView",
            "_model_name": "DescriptionStyleModel",
            "description_width": "",
            "_view_module": "@jupyter-widgets/base",
            "_model_module_version": "1.5.0",
            "_view_count": null,
            "_view_module_version": "1.2.0",
            "_model_module": "@jupyter-widgets/controls"
          }
        },
        "e7b2b15bdc4b4e0dbd36a14133e20b99": {
          "model_module": "@jupyter-widgets/base",
          "model_name": "LayoutModel",
          "model_module_version": "1.2.0",
          "state": {
            "_view_name": "LayoutView",
            "grid_template_rows": null,
            "right": null,
            "justify_content": null,
            "_view_module": "@jupyter-widgets/base",
            "overflow": null,
            "_model_module_version": "1.2.0",
            "_view_count": null,
            "flex_flow": null,
            "width": null,
            "min_width": null,
            "border": null,
            "align_items": null,
            "bottom": null,
            "_model_module": "@jupyter-widgets/base",
            "top": null,
            "grid_column": null,
            "overflow_y": null,
            "overflow_x": null,
            "grid_auto_flow": null,
            "grid_area": null,
            "grid_template_columns": null,
            "flex": null,
            "_model_name": "LayoutModel",
            "justify_items": null,
            "grid_row": null,
            "max_height": null,
            "align_content": null,
            "visibility": null,
            "align_self": null,
            "height": null,
            "min_height": null,
            "padding": null,
            "grid_auto_rows": null,
            "grid_gap": null,
            "max_width": null,
            "order": null,
            "_view_module_version": "1.2.0",
            "grid_template_areas": null,
            "object_position": null,
            "object_fit": null,
            "grid_auto_columns": null,
            "margin": null,
            "display": null,
            "left": null
          }
        },
        "6b4dbc523f5646cda09b5a4e682db49d": {
          "model_module": "@jupyter-widgets/controls",
          "model_name": "ProgressStyleModel",
          "model_module_version": "1.5.0",
          "state": {
            "_view_name": "StyleView",
            "_model_name": "ProgressStyleModel",
            "description_width": "",
            "_view_module": "@jupyter-widgets/base",
            "_model_module_version": "1.5.0",
            "_view_count": null,
            "_view_module_version": "1.2.0",
            "bar_color": null,
            "_model_module": "@jupyter-widgets/controls"
          }
        },
        "30c6b270f9b5411a8fb3fa488ce29691": {
          "model_module": "@jupyter-widgets/base",
          "model_name": "LayoutModel",
          "model_module_version": "1.2.0",
          "state": {
            "_view_name": "LayoutView",
            "grid_template_rows": null,
            "right": null,
            "justify_content": null,
            "_view_module": "@jupyter-widgets/base",
            "overflow": null,
            "_model_module_version": "1.2.0",
            "_view_count": null,
            "flex_flow": null,
            "width": null,
            "min_width": null,
            "border": null,
            "align_items": null,
            "bottom": null,
            "_model_module": "@jupyter-widgets/base",
            "top": null,
            "grid_column": null,
            "overflow_y": null,
            "overflow_x": null,
            "grid_auto_flow": null,
            "grid_area": null,
            "grid_template_columns": null,
            "flex": null,
            "_model_name": "LayoutModel",
            "justify_items": null,
            "grid_row": null,
            "max_height": null,
            "align_content": null,
            "visibility": null,
            "align_self": null,
            "height": null,
            "min_height": null,
            "padding": null,
            "grid_auto_rows": null,
            "grid_gap": null,
            "max_width": null,
            "order": null,
            "_view_module_version": "1.2.0",
            "grid_template_areas": null,
            "object_position": null,
            "object_fit": null,
            "grid_auto_columns": null,
            "margin": null,
            "display": null,
            "left": null
          }
        },
        "210d9a6a13854d94bd59bc4aaa693611": {
          "model_module": "@jupyter-widgets/controls",
          "model_name": "DescriptionStyleModel",
          "model_module_version": "1.5.0",
          "state": {
            "_view_name": "StyleView",
            "_model_name": "DescriptionStyleModel",
            "description_width": "",
            "_view_module": "@jupyter-widgets/base",
            "_model_module_version": "1.5.0",
            "_view_count": null,
            "_view_module_version": "1.2.0",
            "_model_module": "@jupyter-widgets/controls"
          }
        },
        "2759135b3c71432c9f8bf4d0318b6e31": {
          "model_module": "@jupyter-widgets/base",
          "model_name": "LayoutModel",
          "model_module_version": "1.2.0",
          "state": {
            "_view_name": "LayoutView",
            "grid_template_rows": null,
            "right": null,
            "justify_content": null,
            "_view_module": "@jupyter-widgets/base",
            "overflow": null,
            "_model_module_version": "1.2.0",
            "_view_count": null,
            "flex_flow": null,
            "width": null,
            "min_width": null,
            "border": null,
            "align_items": null,
            "bottom": null,
            "_model_module": "@jupyter-widgets/base",
            "top": null,
            "grid_column": null,
            "overflow_y": null,
            "overflow_x": null,
            "grid_auto_flow": null,
            "grid_area": null,
            "grid_template_columns": null,
            "flex": null,
            "_model_name": "LayoutModel",
            "justify_items": null,
            "grid_row": null,
            "max_height": null,
            "align_content": null,
            "visibility": null,
            "align_self": null,
            "height": null,
            "min_height": null,
            "padding": null,
            "grid_auto_rows": null,
            "grid_gap": null,
            "max_width": null,
            "order": null,
            "_view_module_version": "1.2.0",
            "grid_template_areas": null,
            "object_position": null,
            "object_fit": null,
            "grid_auto_columns": null,
            "margin": null,
            "display": null,
            "left": null
          }
        }
      }
    }
  },
  "cells": [
    {
      "cell_type": "markdown",
      "metadata": {
        "id": "view-in-github",
        "colab_type": "text"
      },
      "source": [
        "<a href=\"https://colab.research.google.com/github/sharma18b/Image-Captioning/blob/main/Pytorch/Resnet_Attention_complete.ipynb\" target=\"_parent\"><img src=\"https://colab.research.google.com/assets/colab-badge.svg\" alt=\"Open In Colab\"/></a>"
      ]
    },
    {
      "cell_type": "code",
      "metadata": {
        "colab": {
          "base_uri": "https://localhost:8080/"
        },
        "id": "c13vhUU1SLmp",
        "outputId": "19024587-2799-402c-d062-4b0499aeb8cb"
      },
      "source": [
        "!git clone https://github.com/makarovartyom/Image-Captioning-with-Attention.git"
      ],
      "execution_count": 1,
      "outputs": [
        {
          "output_type": "stream",
          "name": "stdout",
          "text": [
            "Cloning into 'Image-Captioning-with-Attention'...\n",
            "remote: Enumerating objects: 204, done.\u001b[K\n",
            "remote: Counting objects: 100% (204/204), done.\u001b[K\n",
            "remote: Compressing objects: 100% (161/161), done.\u001b[K\n",
            "remote: Total 204 (delta 90), reused 140 (delta 42), pack-reused 0\u001b[K\n",
            "Receiving objects: 100% (204/204), 6.79 MiB | 13.85 MiB/s, done.\n",
            "Resolving deltas: 100% (90/90), done.\n"
          ]
        }
      ]
    },
    {
      "cell_type": "code",
      "metadata": {
        "colab": {
          "base_uri": "https://localhost:8080/"
        },
        "id": "g4iZl4AZTXRD",
        "outputId": "600ad087-d1fe-4382-e126-c972f8aadbee"
      },
      "source": [
        "\n",
        "import tensorflow as tf\n",
        "\n",
        "# You'll generate plots of attention in order to see which parts of an image\n",
        "# your model focuses on during captioning\n",
        "import matplotlib.pyplot as plt\n",
        "\n",
        "import collections\n",
        "import random\n",
        "import numpy as np\n",
        "import os\n",
        "import time\n",
        "import json\n",
        "from PIL import Image\n",
        "# Download caption annotation files\n",
        "annotation_folder = '/annotations/'\n",
        "if not os.path.exists(os.path.abspath('.') + annotation_folder):\n",
        "  annotation_zip = tf.keras.utils.get_file('captions.zip',\n",
        "                                           cache_subdir=os.path.abspath('.'),\n",
        "                                           origin='http://images.cocodataset.org/annotations/annotations_trainval2014.zip',\n",
        "                                           extract=True)\n",
        "  annotation_file = os.path.dirname(annotation_zip)+'/annotations/captions_train2014.json'\n",
        "  os.remove(annotation_zip)\n",
        "\n",
        "# Download image files\n",
        "image_folder = '/train2014/'\n",
        "if not os.path.exists(os.path.abspath('.') + image_folder):\n",
        "  image_zip = tf.keras.utils.get_file('train2014.zip',\n",
        "                                      cache_subdir=os.path.abspath('.'),\n",
        "                                      origin='http://images.cocodataset.org/zips/train2014.zip',\n",
        "                                      extract=True)\n",
        "  PATH = os.path.dirname(image_zip) + image_folder\n",
        "  os.remove(image_zip)\n",
        "else:\n",
        "  PATH = os.path.abspath('.') + image_folder"
      ],
      "execution_count": 3,
      "outputs": [
        {
          "output_type": "stream",
          "name": "stdout",
          "text": [
            "Downloading data from http://images.cocodataset.org/annotations/annotations_trainval2014.zip\n",
            "252878848/252872794 [==============================] - 4s 0us/step\n",
            "252887040/252872794 [==============================] - 4s 0us/step\n",
            "Downloading data from http://images.cocodataset.org/zips/train2014.zip\n",
            "13510574080/13510573713 [==============================] - 287s 0us/step\n",
            "13510582272/13510573713 [==============================] - 287s 0us/step\n"
          ]
        }
      ]
    },
    {
      "cell_type": "code",
      "metadata": {
        "colab": {
          "base_uri": "https://localhost:8080/"
        },
        "id": "IjVqU-LCSVtU",
        "outputId": "88d85b67-fea2-4e24-d988-c64ad18e31fe"
      },
      "source": [
        "import os\n",
        "import sys\n",
        "#sys.path.append('/opt/cocoapi/PythonAPI')\n",
        "from pycocotools.coco import COCO\n",
        "\n",
        "# initialize COCO API for instance annotations\n",
        "dataDir = os.getcwd()\n",
        "dataType = 'val2014'\n",
        "instances_annFile = os.path.join(dataDir, 'annotations', 'instances_{}.json'.format(dataType))\n",
        "coco = COCO(instances_annFile)\n",
        "\n",
        "# initialize COCO API for caption annotations\n",
        "captions_annFile = os.path.join(dataDir, 'annotations', 'instances_{}.json'.format(dataType))\n",
        "coco_caps = COCO(captions_annFile)\n",
        "\n",
        "# get image ids \n",
        "ids = list(coco.anns.keys())"
      ],
      "execution_count": 4,
      "outputs": [
        {
          "output_type": "stream",
          "name": "stdout",
          "text": [
            "loading annotations into memory...\n",
            "Done (t=10.15s)\n",
            "creating index...\n",
            "index created!\n",
            "loading annotations into memory...\n",
            "Done (t=6.86s)\n",
            "creating index...\n",
            "index created!\n"
          ]
        }
      ]
    },
    {
      "cell_type": "code",
      "metadata": {
        "colab": {
          "base_uri": "https://localhost:8080/"
        },
        "id": "0HYNIN2SS5Hm",
        "outputId": "ff176af6-db30-4ebe-9586-2f2275e3288a"
      },
      "source": [
        "print('The length of image dataset:',len(ids))"
      ],
      "execution_count": 6,
      "outputs": [
        {
          "output_type": "stream",
          "name": "stdout",
          "text": [
            "The length of image dataset: 291875\n"
          ]
        }
      ]
    },
    {
      "cell_type": "code",
      "metadata": {
        "colab": {
          "base_uri": "https://localhost:8080/"
        },
        "id": "t6H6NGZnWSKC",
        "outputId": "fac97a05-ca18-42e6-a4e1-5fc443fc69e0"
      },
      "source": [
        "print('Example of an image annotation:', coco.anns[649222])"
      ],
      "execution_count": 7,
      "outputs": [
        {
          "output_type": "stream",
          "name": "stdout",
          "text": [
            "Example of an image annotation: {'segmentation': [[355.15, 138.93, 360.08, 94.54, 366.0, 78.76, 368.96, 75.8, 371.92, 74.81, 376.85, 79.74, 376.85, 92.57, 392.63, 142.88, 398.55, 169.52, 388.69, 186.29, 398.55, 207.0, 420.26, 230.68, 419.27, 266.2, 422.23, 300.72, 427.16, 318.48, 430.12, 344.13, 425.19, 353.01, 414.34, 354.98, 402.5, 345.12, 385.73, 301.71, 366.0, 235.61, 362.05, 207.99, 365.01, 199.11, 369.94, 194.18, 372.9, 190.23, 369.94, 182.34, 361.07, 176.42, 355.15, 176.42, 354.16, 166.56, 352.19, 153.73, 354.16, 142.88]], 'area': 9664.586099999999, 'iscrowd': 0, 'image_id': 222788, 'bbox': [352.19, 74.81, 77.93, 280.17], 'category_id': 42, 'id': 649222}\n"
          ]
        }
      ]
    },
    {
      "cell_type": "code",
      "metadata": {
        "colab": {
          "base_uri": "https://localhost:8080/",
          "height": 517
        },
        "id": "IQHS-0KjWkPu",
        "outputId": "c86166ea-7ed1-4c9e-ef48-510b2fcd9efc"
      },
      "source": [
        "import numpy as np\n",
        "import skimage.io as io\n",
        "import matplotlib.pyplot as plt\n",
        "%matplotlib inline\n",
        "\n",
        "# pick a random image and obtain the corresponding URL\n",
        "ann_id = np.random.choice(ids)\n",
        "img_id = coco.anns[ann_id]['image_id']\n",
        "img = coco.loadImgs(img_id)[0]\n",
        "url = img['coco_url']\n",
        "\n",
        "# print URL and visualize corresponding image\n",
        "print(url)\n",
        "I = io.imread(url)\n",
        "plt.axis('off')\n",
        "plt.imshow(I)\n",
        "plt.show()\n",
        "\n",
        "# load and display captions\n",
        "annIds = coco_caps.getAnnIds(imgIds=img['id']);\n",
        "anns = coco_caps.loadAnns(annIds)\n",
        "coco_caps.showAnns(anns)"
      ],
      "execution_count": 8,
      "outputs": [
        {
          "output_type": "stream",
          "name": "stdout",
          "text": [
            "http://images.cocodataset.org/val2014/COCO_val2014_000000338108.jpg\n"
          ]
        },
        {
          "output_type": "display_data",
          "data": {
            "image/png": "[encoded data removed]",
            "text/plain": [
              "<Figure size 432x288 with 1 Axes>"
            ]
          },
          "metadata": {
            "needs_background": "light"
          }
        },
        {
          "output_type": "display_data",
          "data": {
            "image/png": "[encoded data removed]",
            "text/plain": [
              "<Figure size 432x288 with 1 Axes>"
            ]
          },
          "metadata": {
            "needs_background": "light"
          }
        }
      ]
    },
    {
      "cell_type": "code",
      "metadata": {
        "colab": {
          "base_uri": "https://localhost:8080/"
        },
        "id": "xiRtrWiEXG2j",
        "outputId": "fe6cf4b8-e3e6-4de4-f04f-3010b06bb0f6"
      },
      "source": [
        "import sys\n",
        "#sys.path.append('/opt/cocoapi/PythonAPI')\n",
        "from pycocotools.coco import COCO\n",
        "!pip install nltk\n",
        "import nltk\n",
        "nltk.download('punkt')\n",
        "from data_loader import get_loader\n",
        "from torchvision import transforms\n",
        "\n",
        "# Define a transform to pre-process the training images.\n",
        "transform_train = transforms.Compose([ \n",
        "    transforms.Resize(256),                          # smaller edge of image resized to 256\n",
        "    transforms.RandomCrop(224),                      # get 224x224 crop from random location\n",
        "    transforms.RandomHorizontalFlip(),               # horizontally flip image with probability=0.5\n",
        "    transforms.ToTensor(),                           # convert the PIL Image to a tensor\n",
        "    # for each color channel we pass 2 values: \n",
        "    # mean and std. deviation\n",
        "    # since out image has 3 color channels, we pass 3 values for mean and  values for std. deviation\n",
        "    transforms.Normalize((0.485, 0.456, 0.406),      # normalize image for pre-trained model\n",
        "                         (0.229, 0.224, 0.225))])\n",
        "\n",
        "# Set the minimum word count threshold.\n",
        "vocab_threshold = 5\n",
        "\n",
        "# Specify the batch size.\n",
        "# we will pass 10 images at a time. So, m = 10\n",
        "batch_size = 10\n",
        "\n",
        "# Obtain the data loader.\n",
        "data_loader = get_loader(transform=transform_train,\n",
        "                         mode='train',\n",
        "                         batch_size=batch_size,\n",
        "                         vocab_threshold=vocab_threshold,\n",
        "                         vocab_from_file=False)"
      ],
      "execution_count": 9,
      "outputs": [
        {
          "output_type": "stream",
          "name": "stdout",
          "text": [
            "Requirement already satisfied: nltk in /usr/local/lib/python3.7/dist-packages (3.2.5)\n",
            "Requirement already satisfied: six in /usr/local/lib/python3.7/dist-packages (from nltk) (1.15.0)\n",
            "[nltk_data] Downloading package punkt to /root/nltk_data...\n",
            "[nltk_data]   Unzipping tokenizers/punkt.zip.\n",
            "loading annotations into memory...\n",
            "Done (t=2.34s)\n",
            "creating index...\n",
            "index created!\n",
            "[0/414113] Tokenizing captions...\n",
            "[100000/414113] Tokenizing captions...\n",
            "[200000/414113] Tokenizing captions...\n",
            "[300000/414113] Tokenizing captions...\n",
            "[400000/414113] Tokenizing captions...\n",
            "loading annotations into memory...\n",
            "Done (t=0.71s)\n",
            "creating index...\n",
            "index created!\n",
            "Obtaining caption lengths...\n"
          ]
        },
        {
          "output_type": "stream",
          "name": "stderr",
          "text": [
            "100%|██████████| 414113/414113 [00:56<00:00, 7283.72it/s]\n"
          ]
        }
      ]
    },
    {
      "cell_type": "code",
      "metadata": {
        "colab": {
          "base_uri": "https://localhost:8080/"
        },
        "id": "_YSifLS2XHj_",
        "outputId": "d285ccd4-5944-4a43-8795-07039eb17772"
      },
      "source": [
        "print('The shape of first image:', data_loader.dataset[0][0].shape)"
      ],
      "execution_count": 11,
      "outputs": [
        {
          "output_type": "stream",
          "name": "stdout",
          "text": [
            "The shape of first image: torch.Size([3, 224, 224])\n"
          ]
        }
      ]
    },
    {
      "cell_type": "code",
      "metadata": {
        "colab": {
          "base_uri": "https://localhost:8080/"
        },
        "id": "06GOieQnXvQG",
        "outputId": "30f123e6-c23e-484f-b367-19989e91c5e0"
      },
      "source": [
        "sample_caption = 'A person doing a trick on a rail while riding a skateboard.'\n",
        "import nltk\n",
        "\n",
        "sample_tokens = nltk.tokenize.word_tokenize(str(sample_caption).lower())\n",
        "print(sample_tokens)\n",
        "sample_caption = []\n",
        "\n",
        "start_word = data_loader.dataset.vocab.start_word\n",
        "print('Special start word:', start_word)\n",
        "sample_caption.append(data_loader.dataset.vocab(start_word))\n",
        "print(sample_caption)\n",
        "\n",
        "sample_caption.append(data_loader.dataset.vocab(start_word))"
      ],
      "execution_count": 12,
      "outputs": [
        {
          "output_type": "stream",
          "name": "stdout",
          "text": [
            "['a', 'person', 'doing', 'a', 'trick', 'on', 'a', 'rail', 'while', 'riding', 'a', 'skateboard', '.']\n",
            "Special start word: <start>\n",
            "[0]\n"
          ]
        }
      ]
    },
    {
      "cell_type": "code",
      "metadata": {
        "colab": {
          "base_uri": "https://localhost:8080/"
        },
        "id": "aMFBvpqEYThb",
        "outputId": "07c95f0d-b550-4c4e-d81d-35221e107e39"
      },
      "source": [
        "print(sample_caption)"
      ],
      "execution_count": 13,
      "outputs": [
        {
          "output_type": "stream",
          "name": "stdout",
          "text": [
            "[0, 0]\n"
          ]
        }
      ]
    },
    {
      "cell_type": "code",
      "metadata": {
        "colab": {
          "base_uri": "https://localhost:8080/"
        },
        "id": "nFH0avUIYVVV",
        "outputId": "0bb3495b-dc8b-48f2-fee2-d39e15543d6a"
      },
      "source": [
        "sample_caption.extend([data_loader.dataset.vocab(token) for token in sample_tokens])\n",
        "print(sample_caption)"
      ],
      "execution_count": 14,
      "outputs": [
        {
          "output_type": "stream",
          "name": "stdout",
          "text": [
            "[0, 0, 3, 98, 754, 3, 396, 39, 3, 1009, 207, 139, 3, 753, 18]\n"
          ]
        }
      ]
    },
    {
      "cell_type": "code",
      "metadata": {
        "colab": {
          "base_uri": "https://localhost:8080/"
        },
        "id": "yNtHhaEdYYMj",
        "outputId": "ffa2ca53-9b75-42a6-d90b-81cfe0c3b6da"
      },
      "source": [
        "print('The start word is:', data_loader.dataset.vocab.start_word)\n",
        "print('The end word is:', data_loader.dataset.vocab.end_word)\n",
        "print('The annotations file is:', data_loader.dataset.vocab.annotations_file)"
      ],
      "execution_count": 15,
      "outputs": [
        {
          "output_type": "stream",
          "name": "stdout",
          "text": [
            "The start word is: <start>\n",
            "The end word is: <end>\n",
            "The annotations file is: /content/annotations/captions_train2014.json\n"
          ]
        }
      ]
    },
    {
      "cell_type": "code",
      "metadata": {
        "colab": {
          "base_uri": "https://localhost:8080/"
        },
        "id": "wKQG6m9rYaMJ",
        "outputId": "51ff1c16-1f4a-4cb8-96d0-0489ebfc825e"
      },
      "source": [
        "end_word = data_loader.dataset.vocab.end_word\n",
        "print('Special end word:', end_word)\n",
        "\n",
        "sample_caption.append(data_loader.dataset.vocab(end_word))\n",
        "print(sample_caption)"
      ],
      "execution_count": 16,
      "outputs": [
        {
          "output_type": "stream",
          "name": "stdout",
          "text": [
            "Special end word: <end>\n",
            "[0, 0, 3, 98, 754, 3, 396, 39, 3, 1009, 207, 139, 3, 753, 18, 1]\n"
          ]
        }
      ]
    },
    {
      "cell_type": "code",
      "metadata": {
        "colab": {
          "base_uri": "https://localhost:8080/"
        },
        "id": "i3Jyro6QYdO8",
        "outputId": "7e072aa6-e0cc-4e9c-a0a1-7442b4d23498"
      },
      "source": [
        "import torch\n",
        "\n",
        "sample_caption = torch.Tensor(sample_caption).long()\n",
        "print(sample_caption)"
      ],
      "execution_count": 17,
      "outputs": [
        {
          "output_type": "stream",
          "name": "stdout",
          "text": [
            "tensor([   0,    0,    3,   98,  754,    3,  396,   39,    3, 1009,  207,  139,\n",
            "           3,  753,   18,    1])\n"
          ]
        }
      ]
    },
    {
      "cell_type": "code",
      "metadata": {
        "colab": {
          "base_uri": "https://localhost:8080/"
        },
        "id": "4dKipmgfYfjW",
        "outputId": "4103a5f3-6951-4f4e-f590-9eb1281d8169"
      },
      "source": [
        "# Preview the word2idx dictionary.\n",
        "dict(list(data_loader.dataset.vocab.word2idx.items())[:10])"
      ],
      "execution_count": 18,
      "outputs": [
        {
          "output_type": "execute_result",
          "data": {
            "text/plain": [
              "{'<end>': 1,\n",
              " '<start>': 0,\n",
              " '<unk>': 2,\n",
              " 'a': 3,\n",
              " 'and': 6,\n",
              " 'clean': 5,\n",
              " 'decorated': 8,\n",
              " 'empty': 9,\n",
              " 'very': 4,\n",
              " 'well': 7}"
            ]
          },
          "metadata": {},
          "execution_count": 18
        }
      ]
    },
    {
      "cell_type": "code",
      "metadata": {
        "colab": {
          "base_uri": "https://localhost:8080/"
        },
        "id": "jgEC9VkpYiKu",
        "outputId": "a50b0d99-15ae-4338-84b1-af028b1f8f3e"
      },
      "source": [
        "print('The length of entire vocabulary is:', len(data_loader.dataset.vocab.word2idx.items()))"
      ],
      "execution_count": 19,
      "outputs": [
        {
          "output_type": "stream",
          "name": "stdout",
          "text": [
            "The length of entire vocabulary is: 8855\n"
          ]
        }
      ]
    },
    {
      "cell_type": "code",
      "metadata": {
        "colab": {
          "base_uri": "https://localhost:8080/"
        },
        "id": "9w8smbneYkEx",
        "outputId": "58a842e6-9bbc-4727-8f00-a90e4656dcc6"
      },
      "source": [
        "dict(list(data_loader.dataset.vocab.idx2word.items())[:10])"
      ],
      "execution_count": 20,
      "outputs": [
        {
          "output_type": "execute_result",
          "data": {
            "text/plain": [
              "{0: '<start>',\n",
              " 1: '<end>',\n",
              " 2: '<unk>',\n",
              " 3: 'a',\n",
              " 4: 'very',\n",
              " 5: 'clean',\n",
              " 6: 'and',\n",
              " 7: 'well',\n",
              " 8: 'decorated',\n",
              " 9: 'empty'}"
            ]
          },
          "metadata": {},
          "execution_count": 20
        }
      ]
    },
    {
      "cell_type": "code",
      "metadata": {
        "colab": {
          "base_uri": "https://localhost:8080/"
        },
        "id": "rYLWyhnoYmC9",
        "outputId": "286ca97e-9ec5-4911-f072-83fee601d807"
      },
      "source": [
        "# Print the total number of keys in the word2idx dictionary.\n",
        "print('Total number of tokens in vocabulary:', len(data_loader.dataset.vocab))"
      ],
      "execution_count": 21,
      "outputs": [
        {
          "output_type": "stream",
          "name": "stdout",
          "text": [
            "Total number of tokens in vocabulary: 8855\n"
          ]
        }
      ]
    },
    {
      "cell_type": "code",
      "metadata": {
        "colab": {
          "base_uri": "https://localhost:8080/"
        },
        "id": "0_brodccYn-a",
        "outputId": "2c958e68-3d37-4966-d547-9666f13d9ae1"
      },
      "source": [
        "# Modify the minimum word count threshold.\n",
        "vocab_threshold = 4\n",
        "\n",
        "# Obtain the data loader.\n",
        "data_loader = get_loader(transform=transform_train,\n",
        "                         mode='train',\n",
        "                         batch_size=batch_size,\n",
        "                         vocab_threshold=vocab_threshold,\n",
        "                         vocab_from_file=False)"
      ],
      "execution_count": 22,
      "outputs": [
        {
          "output_type": "stream",
          "name": "stdout",
          "text": [
            "loading annotations into memory...\n",
            "Done (t=0.75s)\n",
            "creating index...\n",
            "index created!\n",
            "[0/414113] Tokenizing captions...\n",
            "[100000/414113] Tokenizing captions...\n",
            "[200000/414113] Tokenizing captions...\n",
            "[300000/414113] Tokenizing captions...\n",
            "[400000/414113] Tokenizing captions...\n",
            "loading annotations into memory...\n",
            "Done (t=0.72s)\n",
            "creating index...\n",
            "index created!\n",
            "Obtaining caption lengths...\n"
          ]
        },
        {
          "output_type": "stream",
          "name": "stderr",
          "text": [
            "100%|██████████| 414113/414113 [00:58<00:00, 7107.86it/s]\n"
          ]
        }
      ]
    },
    {
      "cell_type": "code",
      "metadata": {
        "colab": {
          "base_uri": "https://localhost:8080/"
        },
        "id": "8DL8wdYFYp1d",
        "outputId": "13fbe6d2-636b-49c1-c899-053880fde28f"
      },
      "source": [
        "# Print the total number of keys in the word2idx dictionary.\n",
        "print('Total number of tokens in vocabulary:', len(data_loader.dataset.vocab))"
      ],
      "execution_count": 23,
      "outputs": [
        {
          "output_type": "stream",
          "name": "stdout",
          "text": [
            "Total number of tokens in vocabulary: 9955\n"
          ]
        }
      ]
    },
    {
      "cell_type": "code",
      "metadata": {
        "colab": {
          "base_uri": "https://localhost:8080/"
        },
        "id": "-9gHUy2zYsD7",
        "outputId": "79436768-98a5-48c0-9dfb-620643da6d14"
      },
      "source": [
        "unk_word = data_loader.dataset.vocab.unk_word\n",
        "print('Special unknown word:', unk_word)\n",
        "\n",
        "print('All unknown words are mapped to this integer:', data_loader.dataset.vocab(unk_word))"
      ],
      "execution_count": 24,
      "outputs": [
        {
          "output_type": "stream",
          "name": "stdout",
          "text": [
            "Special unknown word: <unk>\n",
            "All unknown words are mapped to this integer: 2\n"
          ]
        }
      ]
    },
    {
      "cell_type": "code",
      "metadata": {
        "colab": {
          "base_uri": "https://localhost:8080/"
        },
        "id": "HF7bGQuDYvX5",
        "outputId": "2c1df8c2-424e-489a-a479-1aa59e697df4"
      },
      "source": [
        "# nonsense words that never appear in the training captions.\n",
        "print(data_loader.dataset.vocab('jfkafejw'))\n",
        "print(data_loader.dataset.vocab('ieowoqjf'))"
      ],
      "execution_count": 25,
      "outputs": [
        {
          "output_type": "stream",
          "name": "stdout",
          "text": [
            "2\n",
            "2\n"
          ]
        }
      ]
    },
    {
      "cell_type": "code",
      "metadata": {
        "colab": {
          "base_uri": "https://localhost:8080/"
        },
        "id": "INn_KG13Y1ou",
        "outputId": "e316f5b9-02b4-4160-92d7-bafc169581f9"
      },
      "source": [
        "# Obtain the data loader (from file). Note that it runs much faster than before!\n",
        "data_loader = get_loader(transform=transform_train,\n",
        "                         mode='train',\n",
        "                         batch_size=batch_size,\n",
        "                         vocab_from_file=True)"
      ],
      "execution_count": 26,
      "outputs": [
        {
          "output_type": "stream",
          "name": "stdout",
          "text": [
            "Vocabulary successfully loaded from vocab.pkl file!\n",
            "loading annotations into memory...\n",
            "Done (t=0.74s)\n",
            "creating index...\n",
            "index created!\n",
            "Obtaining caption lengths...\n"
          ]
        },
        {
          "output_type": "stream",
          "name": "stderr",
          "text": [
            "100%|██████████| 414113/414113 [00:56<00:00, 7287.37it/s]\n"
          ]
        }
      ]
    },
    {
      "cell_type": "code",
      "metadata": {
        "colab": {
          "base_uri": "https://localhost:8080/"
        },
        "id": "vcQYsw6-Y3wJ",
        "outputId": "37c9196f-70c5-4cc1-ed2c-52ffbd72c9d3"
      },
      "source": [
        "from collections import Counter\n",
        "\n",
        "# Tally the total number of training captions with each length.\n",
        "counter = Counter(data_loader.dataset.caption_lengths)\n",
        "lengths = sorted(counter.items(), key=lambda pair: pair[1], reverse=True)\n",
        "for value, count in lengths:\n",
        "    print('value: %2d --- count: %5d' % (value, count))"
      ],
      "execution_count": 27,
      "outputs": [
        {
          "output_type": "stream",
          "name": "stdout",
          "text": [
            "value: 10 --- count: 86334\n",
            "value: 11 --- count: 79948\n",
            "value:  9 --- count: 71934\n",
            "value: 12 --- count: 57637\n",
            "value: 13 --- count: 37645\n",
            "value: 14 --- count: 22335\n",
            "value:  8 --- count: 20771\n",
            "value: 15 --- count: 12841\n",
            "value: 16 --- count:  7729\n",
            "value: 17 --- count:  4842\n",
            "value: 18 --- count:  3104\n",
            "value: 19 --- count:  2014\n",
            "value:  7 --- count:  1597\n",
            "value: 20 --- count:  1451\n",
            "value: 21 --- count:   999\n",
            "value: 22 --- count:   683\n",
            "value: 23 --- count:   534\n",
            "value: 24 --- count:   383\n",
            "value: 25 --- count:   277\n",
            "value: 26 --- count:   215\n",
            "value: 27 --- count:   159\n",
            "value: 28 --- count:   115\n",
            "value: 29 --- count:    86\n",
            "value: 30 --- count:    58\n",
            "value: 31 --- count:    49\n",
            "value: 32 --- count:    44\n",
            "value: 34 --- count:    39\n",
            "value: 37 --- count:    32\n",
            "value: 33 --- count:    31\n",
            "value: 35 --- count:    31\n",
            "value: 36 --- count:    26\n",
            "value: 38 --- count:    18\n",
            "value: 39 --- count:    18\n",
            "value: 43 --- count:    16\n",
            "value: 44 --- count:    16\n",
            "value: 48 --- count:    12\n",
            "value: 45 --- count:    11\n",
            "value: 42 --- count:    10\n",
            "value: 40 --- count:     9\n",
            "value: 49 --- count:     9\n",
            "value: 46 --- count:     9\n",
            "value: 47 --- count:     7\n",
            "value: 50 --- count:     6\n",
            "value: 51 --- count:     6\n",
            "value: 41 --- count:     6\n",
            "value: 52 --- count:     5\n",
            "value: 54 --- count:     3\n",
            "value: 56 --- count:     2\n",
            "value:  6 --- count:     2\n",
            "value: 53 --- count:     2\n",
            "value: 55 --- count:     2\n",
            "value: 57 --- count:     1\n"
          ]
        }
      ]
    },
    {
      "cell_type": "code",
      "metadata": {
        "colab": {
          "base_uri": "https://localhost:8080/"
        },
        "id": "IdE7mIs0Y6O_",
        "outputId": "4c48cfba-ef6f-4801-a6b0-ded803d8c6d4"
      },
      "source": [
        "\n",
        "import numpy as np\n",
        "import torch.utils.data as data\n",
        "\n",
        "# Randomly sample a caption length, and sample indices with that length.\n",
        "#indices = data_loader.dataset.get_indices()\n",
        "#print('sampled indices:', indices)\n",
        "\n",
        "# Create and assign a batch sampler to retrieve a batch with the sampled indices.\n",
        "#new_sampler = data.sampler.SubsetRandomSampler(indices=indices)\n",
        "#data_loader.batch_sampler.sampler = new_sampler\n",
        "    \n",
        "# Obtain the batch.\n",
        "images, captions = next(iter(data_loader))\n",
        "    \n",
        "print('images.shape:', images.shape)\n",
        "print('captions.shape:', captions.shape)\n",
        "\n",
        "# (Optional) Uncomment the lines of code below to print the pre-processed images and captions."
      ],
      "execution_count": 31,
      "outputs": [
        {
          "output_type": "stream",
          "name": "stdout",
          "text": [
            "images.shape: torch.Size([10, 3, 224, 224])\n",
            "captions.shape: torch.Size([10, 11])\n"
          ]
        }
      ]
    },
    {
      "cell_type": "code",
      "metadata": {
        "id": "urgt1ejQY8sX"
      },
      "source": [
        "# Watch for any changes in model.py, and re-load it automatically.\n",
        "#% load_ext autoreload\n",
        "#% autoreload 2\n",
        "\n",
        "# Import EncoderCNN and DecoderRNN. \n",
        "from model import EncoderCNN, DecoderRNN"
      ],
      "execution_count": 32,
      "outputs": []
    },
    {
      "cell_type": "code",
      "metadata": {
        "id": "mJxaqcsdZCU9"
      },
      "source": [
        "device = torch.device(\"cuda\" if torch.cuda.is_available() else \"cpu\")"
      ],
      "execution_count": 33,
      "outputs": []
    },
    {
      "cell_type": "code",
      "metadata": {
        "colab": {
          "base_uri": "https://localhost:8080/",
          "height": 153,
          "referenced_widgets": [
            "2befc53e0586446ab9ef7fe7070b4aa5",
            "b868045d2ee143ca86cd8095e9d6e734",
            "041520f5cc1d421abf6a5c187bfceb52",
            "2ca6243a916b422ea3bcad5f12a6c84b",
            "34e6c33fba3046aa8dbf417f2e0241c8",
            "85438cc904354ab59d972306d08c5574",
            "e7b2b15bdc4b4e0dbd36a14133e20b99",
            "6b4dbc523f5646cda09b5a4e682db49d",
            "30c6b270f9b5411a8fb3fa488ce29691",
            "210d9a6a13854d94bd59bc4aaa693611",
            "2759135b3c71432c9f8bf4d0318b6e31"
          ]
        },
        "id": "N28UC7QcZESm",
        "outputId": "7231ec88-9a47-4b79-eeff-91bd226f3960"
      },
      "source": [
        "# Specify the dimensionality of the image embedding.\n",
        "embed_size = 256\n",
        "\n",
        "#-#-#-# Do NOT modify the code below this line. #-#-#-#\n",
        "\n",
        "# Initialize the encoder. (Optional: Add additional arguments if necessary.)\n",
        "encoder = EncoderCNN()\n",
        "\n",
        "# Move the encoder to GPU if CUDA is available.\n",
        "encoder.to(device)\n",
        "    \n",
        "# Move last batch of images (from Step 2) to GPU if CUDA is available.   \n",
        "images = images.to(device)\n",
        "\n",
        "# Pass the images through the encoder.\n",
        "features = encoder(images)\n",
        "\n",
        "print('type(features):', type(features))\n",
        "print('features.shape:', features.shape)\n",
        "\n",
        "# Check that your encoder satisfies some requirements of the project! :D\n",
        "assert type(features)==torch.Tensor, \"Encoder output needs to be a PyTorch Tensor.\" \n",
        "assert (features.shape[0]==batch_size), \"The shape of the encoder output is incorrect.\""
      ],
      "execution_count": 34,
      "outputs": [
        {
          "output_type": "stream",
          "name": "stderr",
          "text": [
            "Downloading: \"https://download.pytorch.org/models/resnet152-394f9c45.pth\" to /root/.cache/torch/hub/checkpoints/resnet152-394f9c45.pth\n"
          ]
        },
        {
          "output_type": "display_data",
          "data": {
            "application/vnd.jupyter.widget-view+json": {
              "model_id": "2befc53e0586446ab9ef7fe7070b4aa5",
              "version_minor": 0,
              "version_major": 2
            },
            "text/plain": [
              "  0%|          | 0.00/230M [00:00<?, ?B/s]"
            ]
          },
          "metadata": {}
        },
        {
          "output_type": "stream",
          "name": "stdout",
          "text": [
            "type(features): <class 'torch.Tensor'>\n",
            "features.shape: torch.Size([10, 49, 2048])\n"
          ]
        },
        {
          "output_type": "stream",
          "name": "stderr",
          "text": [
            "/usr/local/lib/python3.7/dist-packages/torch/nn/functional.py:718: UserWarning: Named tensors and all their associated APIs are an experimental feature and subject to change. Please do not use them for anything important until they are released as stable. (Triggered internally at  /pytorch/c10/core/TensorImpl.h:1156.)\n",
            "  return torch.max_pool2d(input, kernel_size, stride, padding, dilation, ceil_mode)\n"
          ]
        }
      ]
    },
    {
      "cell_type": "code",
      "metadata": {
        "colab": {
          "base_uri": "https://localhost:8080/"
        },
        "id": "vH-A8XCtZGV_",
        "outputId": "6f9a731e-dfce-4bd3-8bb3-6d6cb7074e35"
      },
      "source": [
        "print(encoder)"
      ],
      "execution_count": 35,
      "outputs": [
        {
          "output_type": "stream",
          "name": "stdout",
          "text": [
            "EncoderCNN(\n",
            "  (resnet): Sequential(\n",
            "    (0): Conv2d(3, 64, kernel_size=(7, 7), stride=(2, 2), padding=(3, 3), bias=False)\n",
            "    (1): BatchNorm2d(64, eps=1e-05, momentum=0.1, affine=True, track_running_stats=True)\n",
            "    (2): ReLU(inplace=True)\n",
            "    (3): MaxPool2d(kernel_size=3, stride=2, padding=1, dilation=1, ceil_mode=False)\n",
            "    (4): Sequential(\n",
            "      (0): Bottleneck(\n",
            "        (conv1): Conv2d(64, 64, kernel_size=(1, 1), stride=(1, 1), bias=False)\n",
            "        (bn1): BatchNorm2d(64, eps=1e-05, momentum=0.1, affine=True, track_running_stats=True)\n",
            "        (conv2): Conv2d(64, 64, kernel_size=(3, 3), stride=(1, 1), padding=(1, 1), bias=False)\n",
            "        (bn2): BatchNorm2d(64, eps=1e-05, momentum=0.1, affine=True, track_running_stats=True)\n",
            "        (conv3): Conv2d(64, 256, kernel_size=(1, 1), stride=(1, 1), bias=False)\n",
            "        (bn3): BatchNorm2d(256, eps=1e-05, momentum=0.1, affine=True, track_running_stats=True)\n",
            "        (relu): ReLU(inplace=True)\n",
            "        (downsample): Sequential(\n",
            "          (0): Conv2d(64, 256, kernel_size=(1, 1), stride=(1, 1), bias=False)\n",
            "          (1): BatchNorm2d(256, eps=1e-05, momentum=0.1, affine=True, track_running_stats=True)\n",
            "        )\n",
            "      )\n",
            "      (1): Bottleneck(\n",
            "        (conv1): Conv2d(256, 64, kernel_size=(1, 1), stride=(1, 1), bias=False)\n",
            "        (bn1): BatchNorm2d(64, eps=1e-05, momentum=0.1, affine=True, track_running_stats=True)\n",
            "        (conv2): Conv2d(64, 64, kernel_size=(3, 3), stride=(1, 1), padding=(1, 1), bias=False)\n",
            "        (bn2): BatchNorm2d(64, eps=1e-05, momentum=0.1, affine=True, track_running_stats=True)\n",
            "        (conv3): Conv2d(64, 256, kernel_size=(1, 1), stride=(1, 1), bias=False)\n",
            "        (bn3): BatchNorm2d(256, eps=1e-05, momentum=0.1, affine=True, track_running_stats=True)\n",
            "        (relu): ReLU(inplace=True)\n",
            "      )\n",
            "      (2): Bottleneck(\n",
            "        (conv1): Conv2d(256, 64, kernel_size=(1, 1), stride=(1, 1), bias=False)\n",
            "        (bn1): BatchNorm2d(64, eps=1e-05, momentum=0.1, affine=True, track_running_stats=True)\n",
            "        (conv2): Conv2d(64, 64, kernel_size=(3, 3), stride=(1, 1), padding=(1, 1), bias=False)\n",
            "        (bn2): BatchNorm2d(64, eps=1e-05, momentum=0.1, affine=True, track_running_stats=True)\n",
            "        (conv3): Conv2d(64, 256, kernel_size=(1, 1), stride=(1, 1), bias=False)\n",
            "        (bn3): BatchNorm2d(256, eps=1e-05, momentum=0.1, affine=True, track_running_stats=True)\n",
            "        (relu): ReLU(inplace=True)\n",
            "      )\n",
            "    )\n",
            "    (5): Sequential(\n",
            "      (0): Bottleneck(\n",
            "        (conv1): Conv2d(256, 128, kernel_size=(1, 1), stride=(1, 1), bias=False)\n",
            "        (bn1): BatchNorm2d(128, eps=1e-05, momentum=0.1, affine=True, track_running_stats=True)\n",
            "        (conv2): Conv2d(128, 128, kernel_size=(3, 3), stride=(2, 2), padding=(1, 1), bias=False)\n",
            "        (bn2): BatchNorm2d(128, eps=1e-05, momentum=0.1, affine=True, track_running_stats=True)\n",
            "        (conv3): Conv2d(128, 512, kernel_size=(1, 1), stride=(1, 1), bias=False)\n",
            "        (bn3): BatchNorm2d(512, eps=1e-05, momentum=0.1, affine=True, track_running_stats=True)\n",
            "        (relu): ReLU(inplace=True)\n",
            "        (downsample): Sequential(\n",
            "          (0): Conv2d(256, 512, kernel_size=(1, 1), stride=(2, 2), bias=False)\n",
            "          (1): BatchNorm2d(512, eps=1e-05, momentum=0.1, affine=True, track_running_stats=True)\n",
            "        )\n",
            "      )\n",
            "      (1): Bottleneck(\n",
            "        (conv1): Conv2d(512, 128, kernel_size=(1, 1), stride=(1, 1), bias=False)\n",
            "        (bn1): BatchNorm2d(128, eps=1e-05, momentum=0.1, affine=True, track_running_stats=True)\n",
            "        (conv2): Conv2d(128, 128, kernel_size=(3, 3), stride=(1, 1), padding=(1, 1), bias=False)\n",
            "        (bn2): BatchNorm2d(128, eps=1e-05, momentum=0.1, affine=True, track_running_stats=True)\n",
            "        (conv3): Conv2d(128, 512, kernel_size=(1, 1), stride=(1, 1), bias=False)\n",
            "        (bn3): BatchNorm2d(512, eps=1e-05, momentum=0.1, affine=True, track_running_stats=True)\n",
            "        (relu): ReLU(inplace=True)\n",
            "      )\n",
            "      (2): Bottleneck(\n",
            "        (conv1): Conv2d(512, 128, kernel_size=(1, 1), stride=(1, 1), bias=False)\n",
            "        (bn1): BatchNorm2d(128, eps=1e-05, momentum=0.1, affine=True, track_running_stats=True)\n",
            "        (conv2): Conv2d(128, 128, kernel_size=(3, 3), stride=(1, 1), padding=(1, 1), bias=False)\n",
            "        (bn2): BatchNorm2d(128, eps=1e-05, momentum=0.1, affine=True, track_running_stats=True)\n",
            "        (conv3): Conv2d(128, 512, kernel_size=(1, 1), stride=(1, 1), bias=False)\n",
            "        (bn3): BatchNorm2d(512, eps=1e-05, momentum=0.1, affine=True, track_running_stats=True)\n",
            "        (relu): ReLU(inplace=True)\n",
            "      )\n",
            "      (3): Bottleneck(\n",
            "        (conv1): Conv2d(512, 128, kernel_size=(1, 1), stride=(1, 1), bias=False)\n",
            "        (bn1): BatchNorm2d(128, eps=1e-05, momentum=0.1, affine=True, track_running_stats=True)\n",
            "        (conv2): Conv2d(128, 128, kernel_size=(3, 3), stride=(1, 1), padding=(1, 1), bias=False)\n",
            "        (bn2): BatchNorm2d(128, eps=1e-05, momentum=0.1, affine=True, track_running_stats=True)\n",
            "        (conv3): Conv2d(128, 512, kernel_size=(1, 1), stride=(1, 1), bias=False)\n",
            "        (bn3): BatchNorm2d(512, eps=1e-05, momentum=0.1, affine=True, track_running_stats=True)\n",
            "        (relu): ReLU(inplace=True)\n",
            "      )\n",
            "      (4): Bottleneck(\n",
            "        (conv1): Conv2d(512, 128, kernel_size=(1, 1), stride=(1, 1), bias=False)\n",
            "        (bn1): BatchNorm2d(128, eps=1e-05, momentum=0.1, affine=True, track_running_stats=True)\n",
            "        (conv2): Conv2d(128, 128, kernel_size=(3, 3), stride=(1, 1), padding=(1, 1), bias=False)\n",
            "        (bn2): BatchNorm2d(128, eps=1e-05, momentum=0.1, affine=True, track_running_stats=True)\n",
            "        (conv3): Conv2d(128, 512, kernel_size=(1, 1), stride=(1, 1), bias=False)\n",
            "        (bn3): BatchNorm2d(512, eps=1e-05, momentum=0.1, affine=True, track_running_stats=True)\n",
            "        (relu): ReLU(inplace=True)\n",
            "      )\n",
            "      (5): Bottleneck(\n",
            "        (conv1): Conv2d(512, 128, kernel_size=(1, 1), stride=(1, 1), bias=False)\n",
            "        (bn1): BatchNorm2d(128, eps=1e-05, momentum=0.1, affine=True, track_running_stats=True)\n",
            "        (conv2): Conv2d(128, 128, kernel_size=(3, 3), stride=(1, 1), padding=(1, 1), bias=False)\n",
            "        (bn2): BatchNorm2d(128, eps=1e-05, momentum=0.1, affine=True, track_running_stats=True)\n",
            "        (conv3): Conv2d(128, 512, kernel_size=(1, 1), stride=(1, 1), bias=False)\n",
            "        (bn3): BatchNorm2d(512, eps=1e-05, momentum=0.1, affine=True, track_running_stats=True)\n",
            "        (relu): ReLU(inplace=True)\n",
            "      )\n",
            "      (6): Bottleneck(\n",
            "        (conv1): Conv2d(512, 128, kernel_size=(1, 1), stride=(1, 1), bias=False)\n",
            "        (bn1): BatchNorm2d(128, eps=1e-05, momentum=0.1, affine=True, track_running_stats=True)\n",
            "        (conv2): Conv2d(128, 128, kernel_size=(3, 3), stride=(1, 1), padding=(1, 1), bias=False)\n",
            "        (bn2): BatchNorm2d(128, eps=1e-05, momentum=0.1, affine=True, track_running_stats=True)\n",
            "        (conv3): Conv2d(128, 512, kernel_size=(1, 1), stride=(1, 1), bias=False)\n",
            "        (bn3): BatchNorm2d(512, eps=1e-05, momentum=0.1, affine=True, track_running_stats=True)\n",
            "        (relu): ReLU(inplace=True)\n",
            "      )\n",
            "      (7): Bottleneck(\n",
            "        (conv1): Conv2d(512, 128, kernel_size=(1, 1), stride=(1, 1), bias=False)\n",
            "        (bn1): BatchNorm2d(128, eps=1e-05, momentum=0.1, affine=True, track_running_stats=True)\n",
            "        (conv2): Conv2d(128, 128, kernel_size=(3, 3), stride=(1, 1), padding=(1, 1), bias=False)\n",
            "        (bn2): BatchNorm2d(128, eps=1e-05, momentum=0.1, affine=True, track_running_stats=True)\n",
            "        (conv3): Conv2d(128, 512, kernel_size=(1, 1), stride=(1, 1), bias=False)\n",
            "        (bn3): BatchNorm2d(512, eps=1e-05, momentum=0.1, affine=True, track_running_stats=True)\n",
            "        (relu): ReLU(inplace=True)\n",
            "      )\n",
            "    )\n",
            "    (6): Sequential(\n",
            "      (0): Bottleneck(\n",
            "        (conv1): Conv2d(512, 256, kernel_size=(1, 1), stride=(1, 1), bias=False)\n",
            "        (bn1): BatchNorm2d(256, eps=1e-05, momentum=0.1, affine=True, track_running_stats=True)\n",
            "        (conv2): Conv2d(256, 256, kernel_size=(3, 3), stride=(2, 2), padding=(1, 1), bias=False)\n",
            "        (bn2): BatchNorm2d(256, eps=1e-05, momentum=0.1, affine=True, track_running_stats=True)\n",
            "        (conv3): Conv2d(256, 1024, kernel_size=(1, 1), stride=(1, 1), bias=False)\n",
            "        (bn3): BatchNorm2d(1024, eps=1e-05, momentum=0.1, affine=True, track_running_stats=True)\n",
            "        (relu): ReLU(inplace=True)\n",
            "        (downsample): Sequential(\n",
            "          (0): Conv2d(512, 1024, kernel_size=(1, 1), stride=(2, 2), bias=False)\n",
            "          (1): BatchNorm2d(1024, eps=1e-05, momentum=0.1, affine=True, track_running_stats=True)\n",
            "        )\n",
            "      )\n",
            "      (1): Bottleneck(\n",
            "        (conv1): Conv2d(1024, 256, kernel_size=(1, 1), stride=(1, 1), bias=False)\n",
            "        (bn1): BatchNorm2d(256, eps=1e-05, momentum=0.1, affine=True, track_running_stats=True)\n",
            "        (conv2): Conv2d(256, 256, kernel_size=(3, 3), stride=(1, 1), padding=(1, 1), bias=False)\n",
            "        (bn2): BatchNorm2d(256, eps=1e-05, momentum=0.1, affine=True, track_running_stats=True)\n",
            "        (conv3): Conv2d(256, 1024, kernel_size=(1, 1), stride=(1, 1), bias=False)\n",
            "        (bn3): BatchNorm2d(1024, eps=1e-05, momentum=0.1, affine=True, track_running_stats=True)\n",
            "        (relu): ReLU(inplace=True)\n",
            "      )\n",
            "      (2): Bottleneck(\n",
            "        (conv1): Conv2d(1024, 256, kernel_size=(1, 1), stride=(1, 1), bias=False)\n",
            "        (bn1): BatchNorm2d(256, eps=1e-05, momentum=0.1, affine=True, track_running_stats=True)\n",
            "        (conv2): Conv2d(256, 256, kernel_size=(3, 3), stride=(1, 1), padding=(1, 1), bias=False)\n",
            "        (bn2): BatchNorm2d(256, eps=1e-05, momentum=0.1, affine=True, track_running_stats=True)\n",
            "        (conv3): Conv2d(256, 1024, kernel_size=(1, 1), stride=(1, 1), bias=False)\n",
            "        (bn3): BatchNorm2d(1024, eps=1e-05, momentum=0.1, affine=True, track_running_stats=True)\n",
            "        (relu): ReLU(inplace=True)\n",
            "      )\n",
            "      (3): Bottleneck(\n",
            "        (conv1): Conv2d(1024, 256, kernel_size=(1, 1), stride=(1, 1), bias=False)\n",
            "        (bn1): BatchNorm2d(256, eps=1e-05, momentum=0.1, affine=True, track_running_stats=True)\n",
            "        (conv2): Conv2d(256, 256, kernel_size=(3, 3), stride=(1, 1), padding=(1, 1), bias=False)\n",
            "        (bn2): BatchNorm2d(256, eps=1e-05, momentum=0.1, affine=True, track_running_stats=True)\n",
            "        (conv3): Conv2d(256, 1024, kernel_size=(1, 1), stride=(1, 1), bias=False)\n",
            "        (bn3): BatchNorm2d(1024, eps=1e-05, momentum=0.1, affine=True, track_running_stats=True)\n",
            "        (relu): ReLU(inplace=True)\n",
            "      )\n",
            "      (4): Bottleneck(\n",
            "        (conv1): Conv2d(1024, 256, kernel_size=(1, 1), stride=(1, 1), bias=False)\n",
            "        (bn1): BatchNorm2d(256, eps=1e-05, momentum=0.1, affine=True, track_running_stats=True)\n",
            "        (conv2): Conv2d(256, 256, kernel_size=(3, 3), stride=(1, 1), padding=(1, 1), bias=False)\n",
            "        (bn2): BatchNorm2d(256, eps=1e-05, momentum=0.1, affine=True, track_running_stats=True)\n",
            "        (conv3): Conv2d(256, 1024, kernel_size=(1, 1), stride=(1, 1), bias=False)\n",
            "        (bn3): BatchNorm2d(1024, eps=1e-05, momentum=0.1, affine=True, track_running_stats=True)\n",
            "        (relu): ReLU(inplace=True)\n",
            "      )\n",
            "      (5): Bottleneck(\n",
            "        (conv1): Conv2d(1024, 256, kernel_size=(1, 1), stride=(1, 1), bias=False)\n",
            "        (bn1): BatchNorm2d(256, eps=1e-05, momentum=0.1, affine=True, track_running_stats=True)\n",
            "        (conv2): Conv2d(256, 256, kernel_size=(3, 3), stride=(1, 1), padding=(1, 1), bias=False)\n",
            "        (bn2): BatchNorm2d(256, eps=1e-05, momentum=0.1, affine=True, track_running_stats=True)\n",
            "        (conv3): Conv2d(256, 1024, kernel_size=(1, 1), stride=(1, 1), bias=False)\n",
            "        (bn3): BatchNorm2d(1024, eps=1e-05, momentum=0.1, affine=True, track_running_stats=True)\n",
            "        (relu): ReLU(inplace=True)\n",
            "      )\n",
            "      (6): Bottleneck(\n",
            "        (conv1): Conv2d(1024, 256, kernel_size=(1, 1), stride=(1, 1), bias=False)\n",
            "        (bn1): BatchNorm2d(256, eps=1e-05, momentum=0.1, affine=True, track_running_stats=True)\n",
            "        (conv2): Conv2d(256, 256, kernel_size=(3, 3), stride=(1, 1), padding=(1, 1), bias=False)\n",
            "        (bn2): BatchNorm2d(256, eps=1e-05, momentum=0.1, affine=True, track_running_stats=True)\n",
            "        (conv3): Conv2d(256, 1024, kernel_size=(1, 1), stride=(1, 1), bias=False)\n",
            "        (bn3): BatchNorm2d(1024, eps=1e-05, momentum=0.1, affine=True, track_running_stats=True)\n",
            "        (relu): ReLU(inplace=True)\n",
            "      )\n",
            "      (7): Bottleneck(\n",
            "        (conv1): Conv2d(1024, 256, kernel_size=(1, 1), stride=(1, 1), bias=False)\n",
            "        (bn1): BatchNorm2d(256, eps=1e-05, momentum=0.1, affine=True, track_running_stats=True)\n",
            "        (conv2): Conv2d(256, 256, kernel_size=(3, 3), stride=(1, 1), padding=(1, 1), bias=False)\n",
            "        (bn2): BatchNorm2d(256, eps=1e-05, momentum=0.1, affine=True, track_running_stats=True)\n",
            "        (conv3): Conv2d(256, 1024, kernel_size=(1, 1), stride=(1, 1), bias=False)\n",
            "        (bn3): BatchNorm2d(1024, eps=1e-05, momentum=0.1, affine=True, track_running_stats=True)\n",
            "        (relu): ReLU(inplace=True)\n",
            "      )\n",
            "      (8): Bottleneck(\n",
            "        (conv1): Conv2d(1024, 256, kernel_size=(1, 1), stride=(1, 1), bias=False)\n",
            "        (bn1): BatchNorm2d(256, eps=1e-05, momentum=0.1, affine=True, track_running_stats=True)\n",
            "        (conv2): Conv2d(256, 256, kernel_size=(3, 3), stride=(1, 1), padding=(1, 1), bias=False)\n",
            "        (bn2): BatchNorm2d(256, eps=1e-05, momentum=0.1, affine=True, track_running_stats=True)\n",
            "        (conv3): Conv2d(256, 1024, kernel_size=(1, 1), stride=(1, 1), bias=False)\n",
            "        (bn3): BatchNorm2d(1024, eps=1e-05, momentum=0.1, affine=True, track_running_stats=True)\n",
            "        (relu): ReLU(inplace=True)\n",
            "      )\n",
            "      (9): Bottleneck(\n",
            "        (conv1): Conv2d(1024, 256, kernel_size=(1, 1), stride=(1, 1), bias=False)\n",
            "        (bn1): BatchNorm2d(256, eps=1e-05, momentum=0.1, affine=True, track_running_stats=True)\n",
            "        (conv2): Conv2d(256, 256, kernel_size=(3, 3), stride=(1, 1), padding=(1, 1), bias=False)\n",
            "        (bn2): BatchNorm2d(256, eps=1e-05, momentum=0.1, affine=True, track_running_stats=True)\n",
            "        (conv3): Conv2d(256, 1024, kernel_size=(1, 1), stride=(1, 1), bias=False)\n",
            "        (bn3): BatchNorm2d(1024, eps=1e-05, momentum=0.1, affine=True, track_running_stats=True)\n",
            "        (relu): ReLU(inplace=True)\n",
            "      )\n",
            "      (10): Bottleneck(\n",
            "        (conv1): Conv2d(1024, 256, kernel_size=(1, 1), stride=(1, 1), bias=False)\n",
            "        (bn1): BatchNorm2d(256, eps=1e-05, momentum=0.1, affine=True, track_running_stats=True)\n",
            "        (conv2): Conv2d(256, 256, kernel_size=(3, 3), stride=(1, 1), padding=(1, 1), bias=False)\n",
            "        (bn2): BatchNorm2d(256, eps=1e-05, momentum=0.1, affine=True, track_running_stats=True)\n",
            "        (conv3): Conv2d(256, 1024, kernel_size=(1, 1), stride=(1, 1), bias=False)\n",
            "        (bn3): BatchNorm2d(1024, eps=1e-05, momentum=0.1, affine=True, track_running_stats=True)\n",
            "        (relu): ReLU(inplace=True)\n",
            "      )\n",
            "      (11): Bottleneck(\n",
            "        (conv1): Conv2d(1024, 256, kernel_size=(1, 1), stride=(1, 1), bias=False)\n",
            "        (bn1): BatchNorm2d(256, eps=1e-05, momentum=0.1, affine=True, track_running_stats=True)\n",
            "        (conv2): Conv2d(256, 256, kernel_size=(3, 3), stride=(1, 1), padding=(1, 1), bias=False)\n",
            "        (bn2): BatchNorm2d(256, eps=1e-05, momentum=0.1, affine=True, track_running_stats=True)\n",
            "        (conv3): Conv2d(256, 1024, kernel_size=(1, 1), stride=(1, 1), bias=False)\n",
            "        (bn3): BatchNorm2d(1024, eps=1e-05, momentum=0.1, affine=True, track_running_stats=True)\n",
            "        (relu): ReLU(inplace=True)\n",
            "      )\n",
            "      (12): Bottleneck(\n",
            "        (conv1): Conv2d(1024, 256, kernel_size=(1, 1), stride=(1, 1), bias=False)\n",
            "        (bn1): BatchNorm2d(256, eps=1e-05, momentum=0.1, affine=True, track_running_stats=True)\n",
            "        (conv2): Conv2d(256, 256, kernel_size=(3, 3), stride=(1, 1), padding=(1, 1), bias=False)\n",
            "        (bn2): BatchNorm2d(256, eps=1e-05, momentum=0.1, affine=True, track_running_stats=True)\n",
            "        (conv3): Conv2d(256, 1024, kernel_size=(1, 1), stride=(1, 1), bias=False)\n",
            "        (bn3): BatchNorm2d(1024, eps=1e-05, momentum=0.1, affine=True, track_running_stats=True)\n",
            "        (relu): ReLU(inplace=True)\n",
            "      )\n",
            "      (13): Bottleneck(\n",
            "        (conv1): Conv2d(1024, 256, kernel_size=(1, 1), stride=(1, 1), bias=False)\n",
            "        (bn1): BatchNorm2d(256, eps=1e-05, momentum=0.1, affine=True, track_running_stats=True)\n",
            "        (conv2): Conv2d(256, 256, kernel_size=(3, 3), stride=(1, 1), padding=(1, 1), bias=False)\n",
            "        (bn2): BatchNorm2d(256, eps=1e-05, momentum=0.1, affine=True, track_running_stats=True)\n",
            "        (conv3): Conv2d(256, 1024, kernel_size=(1, 1), stride=(1, 1), bias=False)\n",
            "        (bn3): BatchNorm2d(1024, eps=1e-05, momentum=0.1, affine=True, track_running_stats=True)\n",
            "        (relu): ReLU(inplace=True)\n",
            "      )\n",
            "      (14): Bottleneck(\n",
            "        (conv1): Conv2d(1024, 256, kernel_size=(1, 1), stride=(1, 1), bias=False)\n",
            "        (bn1): BatchNorm2d(256, eps=1e-05, momentum=0.1, affine=True, track_running_stats=True)\n",
            "        (conv2): Conv2d(256, 256, kernel_size=(3, 3), stride=(1, 1), padding=(1, 1), bias=False)\n",
            "        (bn2): BatchNorm2d(256, eps=1e-05, momentum=0.1, affine=True, track_running_stats=True)\n",
            "        (conv3): Conv2d(256, 1024, kernel_size=(1, 1), stride=(1, 1), bias=False)\n",
            "        (bn3): BatchNorm2d(1024, eps=1e-05, momentum=0.1, affine=True, track_running_stats=True)\n",
            "        (relu): ReLU(inplace=True)\n",
            "      )\n",
            "      (15): Bottleneck(\n",
            "        (conv1): Conv2d(1024, 256, kernel_size=(1, 1), stride=(1, 1), bias=False)\n",
            "        (bn1): BatchNorm2d(256, eps=1e-05, momentum=0.1, affine=True, track_running_stats=True)\n",
            "        (conv2): Conv2d(256, 256, kernel_size=(3, 3), stride=(1, 1), padding=(1, 1), bias=False)\n",
            "        (bn2): BatchNorm2d(256, eps=1e-05, momentum=0.1, affine=True, track_running_stats=True)\n",
            "        (conv3): Conv2d(256, 1024, kernel_size=(1, 1), stride=(1, 1), bias=False)\n",
            "        (bn3): BatchNorm2d(1024, eps=1e-05, momentum=0.1, affine=True, track_running_stats=True)\n",
            "        (relu): ReLU(inplace=True)\n",
            "      )\n",
            "      (16): Bottleneck(\n",
            "        (conv1): Conv2d(1024, 256, kernel_size=(1, 1), stride=(1, 1), bias=False)\n",
            "        (bn1): BatchNorm2d(256, eps=1e-05, momentum=0.1, affine=True, track_running_stats=True)\n",
            "        (conv2): Conv2d(256, 256, kernel_size=(3, 3), stride=(1, 1), padding=(1, 1), bias=False)\n",
            "        (bn2): BatchNorm2d(256, eps=1e-05, momentum=0.1, affine=True, track_running_stats=True)\n",
            "        (conv3): Conv2d(256, 1024, kernel_size=(1, 1), stride=(1, 1), bias=False)\n",
            "        (bn3): BatchNorm2d(1024, eps=1e-05, momentum=0.1, affine=True, track_running_stats=True)\n",
            "        (relu): ReLU(inplace=True)\n",
            "      )\n",
            "      (17): Bottleneck(\n",
            "        (conv1): Conv2d(1024, 256, kernel_size=(1, 1), stride=(1, 1), bias=False)\n",
            "        (bn1): BatchNorm2d(256, eps=1e-05, momentum=0.1, affine=True, track_running_stats=True)\n",
            "        (conv2): Conv2d(256, 256, kernel_size=(3, 3), stride=(1, 1), padding=(1, 1), bias=False)\n",
            "        (bn2): BatchNorm2d(256, eps=1e-05, momentum=0.1, affine=True, track_running_stats=True)\n",
            "        (conv3): Conv2d(256, 1024, kernel_size=(1, 1), stride=(1, 1), bias=False)\n",
            "        (bn3): BatchNorm2d(1024, eps=1e-05, momentum=0.1, affine=True, track_running_stats=True)\n",
            "        (relu): ReLU(inplace=True)\n",
            "      )\n",
            "      (18): Bottleneck(\n",
            "        (conv1): Conv2d(1024, 256, kernel_size=(1, 1), stride=(1, 1), bias=False)\n",
            "        (bn1): BatchNorm2d(256, eps=1e-05, momentum=0.1, affine=True, track_running_stats=True)\n",
            "        (conv2): Conv2d(256, 256, kernel_size=(3, 3), stride=(1, 1), padding=(1, 1), bias=False)\n",
            "        (bn2): BatchNorm2d(256, eps=1e-05, momentum=0.1, affine=True, track_running_stats=True)\n",
            "        (conv3): Conv2d(256, 1024, kernel_size=(1, 1), stride=(1, 1), bias=False)\n",
            "        (bn3): BatchNorm2d(1024, eps=1e-05, momentum=0.1, affine=True, track_running_stats=True)\n",
            "        (relu): ReLU(inplace=True)\n",
            "      )\n",
            "      (19): Bottleneck(\n",
            "        (conv1): Conv2d(1024, 256, kernel_size=(1, 1), stride=(1, 1), bias=False)\n",
            "        (bn1): BatchNorm2d(256, eps=1e-05, momentum=0.1, affine=True, track_running_stats=True)\n",
            "        (conv2): Conv2d(256, 256, kernel_size=(3, 3), stride=(1, 1), padding=(1, 1), bias=False)\n",
            "        (bn2): BatchNorm2d(256, eps=1e-05, momentum=0.1, affine=True, track_running_stats=True)\n",
            "        (conv3): Conv2d(256, 1024, kernel_size=(1, 1), stride=(1, 1), bias=False)\n",
            "        (bn3): BatchNorm2d(1024, eps=1e-05, momentum=0.1, affine=True, track_running_stats=True)\n",
            "        (relu): ReLU(inplace=True)\n",
            "      )\n",
            "      (20): Bottleneck(\n",
            "        (conv1): Conv2d(1024, 256, kernel_size=(1, 1), stride=(1, 1), bias=False)\n",
            "        (bn1): BatchNorm2d(256, eps=1e-05, momentum=0.1, affine=True, track_running_stats=True)\n",
            "        (conv2): Conv2d(256, 256, kernel_size=(3, 3), stride=(1, 1), padding=(1, 1), bias=False)\n",
            "        (bn2): BatchNorm2d(256, eps=1e-05, momentum=0.1, affine=True, track_running_stats=True)\n",
            "        (conv3): Conv2d(256, 1024, kernel_size=(1, 1), stride=(1, 1), bias=False)\n",
            "        (bn3): BatchNorm2d(1024, eps=1e-05, momentum=0.1, affine=True, track_running_stats=True)\n",
            "        (relu): ReLU(inplace=True)\n",
            "      )\n",
            "      (21): Bottleneck(\n",
            "        (conv1): Conv2d(1024, 256, kernel_size=(1, 1), stride=(1, 1), bias=False)\n",
            "        (bn1): BatchNorm2d(256, eps=1e-05, momentum=0.1, affine=True, track_running_stats=True)\n",
            "        (conv2): Conv2d(256, 256, kernel_size=(3, 3), stride=(1, 1), padding=(1, 1), bias=False)\n",
            "        (bn2): BatchNorm2d(256, eps=1e-05, momentum=0.1, affine=True, track_running_stats=True)\n",
            "        (conv3): Conv2d(256, 1024, kernel_size=(1, 1), stride=(1, 1), bias=False)\n",
            "        (bn3): BatchNorm2d(1024, eps=1e-05, momentum=0.1, affine=True, track_running_stats=True)\n",
            "        (relu): ReLU(inplace=True)\n",
            "      )\n",
            "      (22): Bottleneck(\n",
            "        (conv1): Conv2d(1024, 256, kernel_size=(1, 1), stride=(1, 1), bias=False)\n",
            "        (bn1): BatchNorm2d(256, eps=1e-05, momentum=0.1, affine=True, track_running_stats=True)\n",
            "        (conv2): Conv2d(256, 256, kernel_size=(3, 3), stride=(1, 1), padding=(1, 1), bias=False)\n",
            "        (bn2): BatchNorm2d(256, eps=1e-05, momentum=0.1, affine=True, track_running_stats=True)\n",
            "        (conv3): Conv2d(256, 1024, kernel_size=(1, 1), stride=(1, 1), bias=False)\n",
            "        (bn3): BatchNorm2d(1024, eps=1e-05, momentum=0.1, affine=True, track_running_stats=True)\n",
            "        (relu): ReLU(inplace=True)\n",
            "      )\n",
            "      (23): Bottleneck(\n",
            "        (conv1): Conv2d(1024, 256, kernel_size=(1, 1), stride=(1, 1), bias=False)\n",
            "        (bn1): BatchNorm2d(256, eps=1e-05, momentum=0.1, affine=True, track_running_stats=True)\n",
            "        (conv2): Conv2d(256, 256, kernel_size=(3, 3), stride=(1, 1), padding=(1, 1), bias=False)\n",
            "        (bn2): BatchNorm2d(256, eps=1e-05, momentum=0.1, affine=True, track_running_stats=True)\n",
            "        (conv3): Conv2d(256, 1024, kernel_size=(1, 1), stride=(1, 1), bias=False)\n",
            "        (bn3): BatchNorm2d(1024, eps=1e-05, momentum=0.1, affine=True, track_running_stats=True)\n",
            "        (relu): ReLU(inplace=True)\n",
            "      )\n",
            "      (24): Bottleneck(\n",
            "        (conv1): Conv2d(1024, 256, kernel_size=(1, 1), stride=(1, 1), bias=False)\n",
            "        (bn1): BatchNorm2d(256, eps=1e-05, momentum=0.1, affine=True, track_running_stats=True)\n",
            "        (conv2): Conv2d(256, 256, kernel_size=(3, 3), stride=(1, 1), padding=(1, 1), bias=False)\n",
            "        (bn2): BatchNorm2d(256, eps=1e-05, momentum=0.1, affine=True, track_running_stats=True)\n",
            "        (conv3): Conv2d(256, 1024, kernel_size=(1, 1), stride=(1, 1), bias=False)\n",
            "        (bn3): BatchNorm2d(1024, eps=1e-05, momentum=0.1, affine=True, track_running_stats=True)\n",
            "        (relu): ReLU(inplace=True)\n",
            "      )\n",
            "      (25): Bottleneck(\n",
            "        (conv1): Conv2d(1024, 256, kernel_size=(1, 1), stride=(1, 1), bias=False)\n",
            "        (bn1): BatchNorm2d(256, eps=1e-05, momentum=0.1, affine=True, track_running_stats=True)\n",
            "        (conv2): Conv2d(256, 256, kernel_size=(3, 3), stride=(1, 1), padding=(1, 1), bias=False)\n",
            "        (bn2): BatchNorm2d(256, eps=1e-05, momentum=0.1, affine=True, track_running_stats=True)\n",
            "        (conv3): Conv2d(256, 1024, kernel_size=(1, 1), stride=(1, 1), bias=False)\n",
            "        (bn3): BatchNorm2d(1024, eps=1e-05, momentum=0.1, affine=True, track_running_stats=True)\n",
            "        (relu): ReLU(inplace=True)\n",
            "      )\n",
            "      (26): Bottleneck(\n",
            "        (conv1): Conv2d(1024, 256, kernel_size=(1, 1), stride=(1, 1), bias=False)\n",
            "        (bn1): BatchNorm2d(256, eps=1e-05, momentum=0.1, affine=True, track_running_stats=True)\n",
            "        (conv2): Conv2d(256, 256, kernel_size=(3, 3), stride=(1, 1), padding=(1, 1), bias=False)\n",
            "        (bn2): BatchNorm2d(256, eps=1e-05, momentum=0.1, affine=True, track_running_stats=True)\n",
            "        (conv3): Conv2d(256, 1024, kernel_size=(1, 1), stride=(1, 1), bias=False)\n",
            "        (bn3): BatchNorm2d(1024, eps=1e-05, momentum=0.1, affine=True, track_running_stats=True)\n",
            "        (relu): ReLU(inplace=True)\n",
            "      )\n",
            "      (27): Bottleneck(\n",
            "        (conv1): Conv2d(1024, 256, kernel_size=(1, 1), stride=(1, 1), bias=False)\n",
            "        (bn1): BatchNorm2d(256, eps=1e-05, momentum=0.1, affine=True, track_running_stats=True)\n",
            "        (conv2): Conv2d(256, 256, kernel_size=(3, 3), stride=(1, 1), padding=(1, 1), bias=False)\n",
            "        (bn2): BatchNorm2d(256, eps=1e-05, momentum=0.1, affine=True, track_running_stats=True)\n",
            "        (conv3): Conv2d(256, 1024, kernel_size=(1, 1), stride=(1, 1), bias=False)\n",
            "        (bn3): BatchNorm2d(1024, eps=1e-05, momentum=0.1, affine=True, track_running_stats=True)\n",
            "        (relu): ReLU(inplace=True)\n",
            "      )\n",
            "      (28): Bottleneck(\n",
            "        (conv1): Conv2d(1024, 256, kernel_size=(1, 1), stride=(1, 1), bias=False)\n",
            "        (bn1): BatchNorm2d(256, eps=1e-05, momentum=0.1, affine=True, track_running_stats=True)\n",
            "        (conv2): Conv2d(256, 256, kernel_size=(3, 3), stride=(1, 1), padding=(1, 1), bias=False)\n",
            "        (bn2): BatchNorm2d(256, eps=1e-05, momentum=0.1, affine=True, track_running_stats=True)\n",
            "        (conv3): Conv2d(256, 1024, kernel_size=(1, 1), stride=(1, 1), bias=False)\n",
            "        (bn3): BatchNorm2d(1024, eps=1e-05, momentum=0.1, affine=True, track_running_stats=True)\n",
            "        (relu): ReLU(inplace=True)\n",
            "      )\n",
            "      (29): Bottleneck(\n",
            "        (conv1): Conv2d(1024, 256, kernel_size=(1, 1), stride=(1, 1), bias=False)\n",
            "        (bn1): BatchNorm2d(256, eps=1e-05, momentum=0.1, affine=True, track_running_stats=True)\n",
            "        (conv2): Conv2d(256, 256, kernel_size=(3, 3), stride=(1, 1), padding=(1, 1), bias=False)\n",
            "        (bn2): BatchNorm2d(256, eps=1e-05, momentum=0.1, affine=True, track_running_stats=True)\n",
            "        (conv3): Conv2d(256, 1024, kernel_size=(1, 1), stride=(1, 1), bias=False)\n",
            "        (bn3): BatchNorm2d(1024, eps=1e-05, momentum=0.1, affine=True, track_running_stats=True)\n",
            "        (relu): ReLU(inplace=True)\n",
            "      )\n",
            "      (30): Bottleneck(\n",
            "        (conv1): Conv2d(1024, 256, kernel_size=(1, 1), stride=(1, 1), bias=False)\n",
            "        (bn1): BatchNorm2d(256, eps=1e-05, momentum=0.1, affine=True, track_running_stats=True)\n",
            "        (conv2): Conv2d(256, 256, kernel_size=(3, 3), stride=(1, 1), padding=(1, 1), bias=False)\n",
            "        (bn2): BatchNorm2d(256, eps=1e-05, momentum=0.1, affine=True, track_running_stats=True)\n",
            "        (conv3): Conv2d(256, 1024, kernel_size=(1, 1), stride=(1, 1), bias=False)\n",
            "        (bn3): BatchNorm2d(1024, eps=1e-05, momentum=0.1, affine=True, track_running_stats=True)\n",
            "        (relu): ReLU(inplace=True)\n",
            "      )\n",
            "      (31): Bottleneck(\n",
            "        (conv1): Conv2d(1024, 256, kernel_size=(1, 1), stride=(1, 1), bias=False)\n",
            "        (bn1): BatchNorm2d(256, eps=1e-05, momentum=0.1, affine=True, track_running_stats=True)\n",
            "        (conv2): Conv2d(256, 256, kernel_size=(3, 3), stride=(1, 1), padding=(1, 1), bias=False)\n",
            "        (bn2): BatchNorm2d(256, eps=1e-05, momentum=0.1, affine=True, track_running_stats=True)\n",
            "        (conv3): Conv2d(256, 1024, kernel_size=(1, 1), stride=(1, 1), bias=False)\n",
            "        (bn3): BatchNorm2d(1024, eps=1e-05, momentum=0.1, affine=True, track_running_stats=True)\n",
            "        (relu): ReLU(inplace=True)\n",
            "      )\n",
            "      (32): Bottleneck(\n",
            "        (conv1): Conv2d(1024, 256, kernel_size=(1, 1), stride=(1, 1), bias=False)\n",
            "        (bn1): BatchNorm2d(256, eps=1e-05, momentum=0.1, affine=True, track_running_stats=True)\n",
            "        (conv2): Conv2d(256, 256, kernel_size=(3, 3), stride=(1, 1), padding=(1, 1), bias=False)\n",
            "        (bn2): BatchNorm2d(256, eps=1e-05, momentum=0.1, affine=True, track_running_stats=True)\n",
            "        (conv3): Conv2d(256, 1024, kernel_size=(1, 1), stride=(1, 1), bias=False)\n",
            "        (bn3): BatchNorm2d(1024, eps=1e-05, momentum=0.1, affine=True, track_running_stats=True)\n",
            "        (relu): ReLU(inplace=True)\n",
            "      )\n",
            "      (33): Bottleneck(\n",
            "        (conv1): Conv2d(1024, 256, kernel_size=(1, 1), stride=(1, 1), bias=False)\n",
            "        (bn1): BatchNorm2d(256, eps=1e-05, momentum=0.1, affine=True, track_running_stats=True)\n",
            "        (conv2): Conv2d(256, 256, kernel_size=(3, 3), stride=(1, 1), padding=(1, 1), bias=False)\n",
            "        (bn2): BatchNorm2d(256, eps=1e-05, momentum=0.1, affine=True, track_running_stats=True)\n",
            "        (conv3): Conv2d(256, 1024, kernel_size=(1, 1), stride=(1, 1), bias=False)\n",
            "        (bn3): BatchNorm2d(1024, eps=1e-05, momentum=0.1, affine=True, track_running_stats=True)\n",
            "        (relu): ReLU(inplace=True)\n",
            "      )\n",
            "      (34): Bottleneck(\n",
            "        (conv1): Conv2d(1024, 256, kernel_size=(1, 1), stride=(1, 1), bias=False)\n",
            "        (bn1): BatchNorm2d(256, eps=1e-05, momentum=0.1, affine=True, track_running_stats=True)\n",
            "        (conv2): Conv2d(256, 256, kernel_size=(3, 3), stride=(1, 1), padding=(1, 1), bias=False)\n",
            "        (bn2): BatchNorm2d(256, eps=1e-05, momentum=0.1, affine=True, track_running_stats=True)\n",
            "        (conv3): Conv2d(256, 1024, kernel_size=(1, 1), stride=(1, 1), bias=False)\n",
            "        (bn3): BatchNorm2d(1024, eps=1e-05, momentum=0.1, affine=True, track_running_stats=True)\n",
            "        (relu): ReLU(inplace=True)\n",
            "      )\n",
            "      (35): Bottleneck(\n",
            "        (conv1): Conv2d(1024, 256, kernel_size=(1, 1), stride=(1, 1), bias=False)\n",
            "        (bn1): BatchNorm2d(256, eps=1e-05, momentum=0.1, affine=True, track_running_stats=True)\n",
            "        (conv2): Conv2d(256, 256, kernel_size=(3, 3), stride=(1, 1), padding=(1, 1), bias=False)\n",
            "        (bn2): BatchNorm2d(256, eps=1e-05, momentum=0.1, affine=True, track_running_stats=True)\n",
            "        (conv3): Conv2d(256, 1024, kernel_size=(1, 1), stride=(1, 1), bias=False)\n",
            "        (bn3): BatchNorm2d(1024, eps=1e-05, momentum=0.1, affine=True, track_running_stats=True)\n",
            "        (relu): ReLU(inplace=True)\n",
            "      )\n",
            "    )\n",
            "    (7): Sequential(\n",
            "      (0): Bottleneck(\n",
            "        (conv1): Conv2d(1024, 512, kernel_size=(1, 1), stride=(1, 1), bias=False)\n",
            "        (bn1): BatchNorm2d(512, eps=1e-05, momentum=0.1, affine=True, track_running_stats=True)\n",
            "        (conv2): Conv2d(512, 512, kernel_size=(3, 3), stride=(2, 2), padding=(1, 1), bias=False)\n",
            "        (bn2): BatchNorm2d(512, eps=1e-05, momentum=0.1, affine=True, track_running_stats=True)\n",
            "        (conv3): Conv2d(512, 2048, kernel_size=(1, 1), stride=(1, 1), bias=False)\n",
            "        (bn3): BatchNorm2d(2048, eps=1e-05, momentum=0.1, affine=True, track_running_stats=True)\n",
            "        (relu): ReLU(inplace=True)\n",
            "        (downsample): Sequential(\n",
            "          (0): Conv2d(1024, 2048, kernel_size=(1, 1), stride=(2, 2), bias=False)\n",
            "          (1): BatchNorm2d(2048, eps=1e-05, momentum=0.1, affine=True, track_running_stats=True)\n",
            "        )\n",
            "      )\n",
            "      (1): Bottleneck(\n",
            "        (conv1): Conv2d(2048, 512, kernel_size=(1, 1), stride=(1, 1), bias=False)\n",
            "        (bn1): BatchNorm2d(512, eps=1e-05, momentum=0.1, affine=True, track_running_stats=True)\n",
            "        (conv2): Conv2d(512, 512, kernel_size=(3, 3), stride=(1, 1), padding=(1, 1), bias=False)\n",
            "        (bn2): BatchNorm2d(512, eps=1e-05, momentum=0.1, affine=True, track_running_stats=True)\n",
            "        (conv3): Conv2d(512, 2048, kernel_size=(1, 1), stride=(1, 1), bias=False)\n",
            "        (bn3): BatchNorm2d(2048, eps=1e-05, momentum=0.1, affine=True, track_running_stats=True)\n",
            "        (relu): ReLU(inplace=True)\n",
            "      )\n",
            "      (2): Bottleneck(\n",
            "        (conv1): Conv2d(2048, 512, kernel_size=(1, 1), stride=(1, 1), bias=False)\n",
            "        (bn1): BatchNorm2d(512, eps=1e-05, momentum=0.1, affine=True, track_running_stats=True)\n",
            "        (conv2): Conv2d(512, 512, kernel_size=(3, 3), stride=(1, 1), padding=(1, 1), bias=False)\n",
            "        (bn2): BatchNorm2d(512, eps=1e-05, momentum=0.1, affine=True, track_running_stats=True)\n",
            "        (conv3): Conv2d(512, 2048, kernel_size=(1, 1), stride=(1, 1), bias=False)\n",
            "        (bn3): BatchNorm2d(2048, eps=1e-05, momentum=0.1, affine=True, track_running_stats=True)\n",
            "        (relu): ReLU(inplace=True)\n",
            "      )\n",
            "    )\n",
            "  )\n",
            ")\n"
          ]
        }
      ]
    },
    {
      "cell_type": "code",
      "metadata": {
        "colab": {
          "base_uri": "https://localhost:8080/"
        },
        "id": "gltHHKBkZI1O",
        "outputId": "2c825ca1-bae3-4ef4-8700-0a0451ce8411"
      },
      "source": [
        "\n",
        "# Specify the number of features in the hidden state of the RNN decoder.\n",
        "hidden_size = 512\n",
        "num_features = features.size(2)\n",
        "#-#-#-# Do NOT modify the code below this line. #-#-#-#\n",
        "\n",
        "# Store the size of the vocabulary.\n",
        "vocab_size = len(data_loader.dataset.vocab)\n",
        "\n",
        "# Initialize the decoder.\n",
        "decoder = DecoderRNN( num_features = num_features,\n",
        "                     embedding_dim = embed_size,\n",
        "                     hidden_dim = hidden_size,\n",
        "                     vocab_size=vocab_size,\n",
        "                    )\n",
        "\n",
        "# Move the decoder to GPU if CUDA is available.\n",
        "decoder.to(device)\n",
        "    \n",
        "# Move last batch of captions (from Step 1) to GPU if CUDA is available \n",
        "#captions = torch.tensor(captions).to(torch.int64)\n",
        "captions = captions.to(device)\n",
        "\n",
        "\n",
        "# Pass the encoder output and captions through the decoder.\n",
        "outputs = decoder(captions = captions,\n",
        "                  features = features)\n",
        "\n",
        "print('Decoder outputs type:', type(outputs[0]))\n",
        "print('Decoder outputs shape:', outputs[0].shape)"
      ],
      "execution_count": 36,
      "outputs": [
        {
          "output_type": "stream",
          "name": "stdout",
          "text": [
            "Decoder outputs type: <class 'torch.Tensor'>\n",
            "Decoder outputs shape: torch.Size([10, 11, 9955])\n"
          ]
        }
      ]
    },
    {
      "cell_type": "code",
      "metadata": {
        "colab": {
          "base_uri": "https://localhost:8080/"
        },
        "id": "p2MPB6r4cHee",
        "outputId": "d8e19d96-58ae-4492-adc8-8a2c50626184"
      },
      "source": [
        "import torch\n",
        "import torch.nn as nn\n",
        "from torchvision import transforms\n",
        "import numpy as np\n",
        "import sys\n",
        "import os\n",
        "from pycocotools.coco import COCO\n",
        "from data_loader import get_loader\n",
        "from model import EncoderCNN, DecoderRNN\n",
        "import math\n",
        "\n",
        "import torch.utils.data as data\n",
        "from utils import get_batch_caps, get_hypothesis\n",
        "\n",
        "import nltk\n",
        "from nltk.translate.bleu_score import corpus_bleu\n",
        "nltk.download('punkt')\n",
        "\n",
        "\n",
        "## TODO #1: Select appropriate values for the Python variables below.\n",
        "batch_size = 64          # batch size, change to 64\n",
        "vocab_threshold = 3        # minimum word count threshold\n",
        "vocab_from_file = True    # if True, load existing vocab file\n",
        "embed_size = 256           # dimensionality of image and word embeddings\n",
        "hidden_size = 512          # number of features in hidden state of the RNN decoder\n",
        "num_features = 2048        # number of feature maps, produced by Encoder\n",
        "num_epochs = 14             # number of training epochs\n",
        "save_every = 1             # determines frequency of saving model weights\n",
        "print_every = 100          # determines window for printing average loss\n",
        "\n",
        "log_train = 'training_log.txt'       # name of files with saved training loss and perplexity\n",
        "log_val = 'validation_log.txt'\n",
        "bleu = 'bleu.txt'\n",
        "\n",
        "# (Optional) TODO #2: Amend the image transform below.\n",
        "transform_train = transforms.Compose([ \n",
        "    transforms.Resize(256),                          # smaller edge of image resized to 256\n",
        "    transforms.RandomCrop(224),                      # get 224x224 crop from random location\n",
        "    transforms.RandomHorizontalFlip(),               # horizontally flip image with probability=0.5\n",
        "    transforms.ToTensor(),                           # convert the PIL Image to a tensor\n",
        "    transforms.Normalize((0.485, 0.456, 0.406),      # normalize image for pre-trained model\n",
        "                         (0.229, 0.224, 0.225))])\n",
        "\n",
        "# Build data loader.\n",
        "data_loader = get_loader(transform=transform_train,\n",
        "                         mode='train',\n",
        "                         batch_size=batch_size,\n",
        "                         vocab_threshold=vocab_threshold,\n",
        "                         vocab_from_file=vocab_from_file)\n",
        "\n",
        "# The size of the vocabulary.\n",
        "vocab_size = len(data_loader.dataset.vocab)\n",
        "\n",
        "# Initialize the encoder and decoder. \n",
        "encoder = EncoderCNN()\n",
        "decoder = DecoderRNN(num_features = num_features, \n",
        "                     embedding_dim = embed_size, \n",
        "                     hidden_dim = hidden_size, \n",
        "                     vocab_size = vocab_size)\n",
        "\n",
        "# Move models to GPU if CUDA is available. \n",
        "device = torch.device(\"cuda\" if torch.cuda.is_available() else \"cpu\")\n",
        "encoder.to(device)\n",
        "decoder.to(device)\n",
        "\n",
        "\n",
        "# Define the loss function. \n",
        "criterion = nn.CrossEntropyLoss().cuda() if torch.cuda.is_available() else nn.CrossEntropyLoss()\n",
        "\n",
        "# TODO #3: Specify the learnable parameters of the model.\n",
        "#params = list(decoder.parameters()) + list(encoder.parameters()) \n",
        "params = list(decoder.parameters())\n",
        "\n",
        "# TODO #4: Define the optimizer.\n",
        "optimizer = torch.optim.Adam(params, lr = 1e-4)\n",
        "\n",
        "# Set the total number of training steps per epoch.\n",
        "total_step = math.ceil(len(data_loader.dataset.caption_lengths) / data_loader.batch_sampler.batch_size)"
      ],
      "execution_count": 37,
      "outputs": [
        {
          "output_type": "stream",
          "name": "stdout",
          "text": [
            "[nltk_data] Downloading package punkt to /root/nltk_data...\n",
            "[nltk_data]   Package punkt is already up-to-date!\n",
            "Vocabulary successfully loaded from vocab.pkl file!\n",
            "loading annotations into memory...\n",
            "Done (t=0.75s)\n",
            "creating index...\n",
            "index created!\n",
            "Obtaining caption lengths...\n"
          ]
        },
        {
          "output_type": "stream",
          "name": "stderr",
          "text": [
            "100%|██████████| 414113/414113 [00:59<00:00, 7009.54it/s]\n"
          ]
        }
      ]
    },
    {
      "cell_type": "code",
      "metadata": {
        "colab": {
          "base_uri": "https://localhost:8080/"
        },
        "id": "nw9hT8h8cIVa",
        "outputId": "ed8c0ba1-6da5-494f-a113-29c182ecd1d8"
      },
      "source": [
        "# Setup the transforms\n",
        "transform_test = transforms.Compose([ \n",
        "    transforms.Resize((224,224)),                   # smaller edge of image resized to 256\n",
        "    transforms.ToTensor(),                           # convert the PIL Image to a tensor\n",
        "    transforms.Normalize((0.485, 0.456, 0.406),      # normalize image for pre-trained model\n",
        "                         (0.229, 0.224, 0.225))])\n",
        "\n",
        "# Create the data loader.\n",
        "valid_data_loader = get_loader(transform=transform_test,\n",
        "                                    batch_size=batch_size,\n",
        "                         mode='valid')"
      ],
      "execution_count": 38,
      "outputs": [
        {
          "output_type": "stream",
          "name": "stdout",
          "text": [
            "Vocabulary successfully loaded from vocab.pkl file!\n",
            "loading annotations into memory...\n",
            "Done (t=1.06s)\n",
            "creating index...\n",
            "index created!\n",
            "Obtaining caption lengths...\n"
          ]
        },
        {
          "output_type": "stream",
          "name": "stderr",
          "text": [
            "100%|██████████| 202654/202654 [00:27<00:00, 7394.63it/s]\n"
          ]
        }
      ]
    },
    {
      "cell_type": "code",
      "metadata": {
        "id": "st92QC10cp2e"
      },
      "source": [
        "total_step_valid = math.ceil(len(valid_data_loader.dataset.caption_lengths) / valid_data_loader.batch_sampler.batch_size)"
      ],
      "execution_count": 39,
      "outputs": []
    },
    {
      "cell_type": "code",
      "metadata": {
        "id": "USStKanqczY-"
      },
      "source": [
        "def train(epoch, \n",
        "          encoder, \n",
        "          decoder, \n",
        "          optimizer, \n",
        "          criterion, total_step, num_epochs, data_loader, write_file, save_every = 1):\n",
        "    \"\"\" Train function for a single epoch. \n",
        "    Arguments: \n",
        "    ----------\n",
        "    - epoch - number of current epoch\n",
        "    - encoder - model's Encoder\n",
        "    - decoder - model's Decoder\n",
        "    - optimizer - model's optimizer (Adam in our case)\n",
        "    - criterion - loss function to optimize\n",
        "    - num_epochs - total number of epochs\n",
        "    - data_loader - specified data loader (for training, validation or test)\n",
        "    - write_file - file to write the training logs\n",
        "    \n",
        "    \"\"\"\n",
        "    epoch_loss = 0.0\n",
        "    epoch_perplex = 0.0\n",
        "    \n",
        "    for i_step in range(1, total_step+1):\n",
        "        # training mode on\n",
        "        encoder.eval() # no fine-tuning for Encoder\n",
        "        decoder.train()\n",
        "        \n",
        "        # Randomly sample a caption length, and sample indices with that length.\n",
        "        indices = data_loader.dataset.get_indices()\n",
        "        # Create and assign a batch sampler to retrieve a batch with the sampled indices.\n",
        "        new_sampler = data.sampler.SubsetRandomSampler(indices=indices)\n",
        "        data_loader.batch_sampler.sampler = new_sampler\n",
        "        \n",
        "        # Obtain the batch.\n",
        "        images, captions = next(iter(data_loader))\n",
        "        # target captions, excluding the first word\n",
        "        captions_target = captions[:, 1:].to(device) \n",
        "        # captions for training without the last word\n",
        "        captions_train = captions[:, :-1].to(device)\n",
        "\n",
        "        # Move batch of images and captions to GPU if CUDA is available.\n",
        "        images = images.to(device)\n",
        "        \n",
        "        # Zero the gradients.\n",
        "        decoder.zero_grad()\n",
        "        encoder.zero_grad()\n",
        "        \n",
        "        # Pass the inputs through the CNN-RNN model.\n",
        "        features = encoder(images)\n",
        "        outputs, atten_weights = decoder(captions= captions_train,\n",
        "                                         features = features)\n",
        "        \n",
        "        # Calculate the batch loss.\n",
        "        loss = criterion(outputs.view(-1, vocab_size), captions_target.reshape(-1))\n",
        "        \n",
        "        # Backward pass.\n",
        "        loss.backward()\n",
        "        \n",
        "        # Update the parameters in the optimizer.\n",
        "        optimizer.step()\n",
        "        \n",
        "        perplex = np.exp(loss.item())\n",
        "        epoch_loss += loss.item()\n",
        "        epoch_perplex += perplex\n",
        "        \n",
        "        stats = 'Epoch train: [%d/%d], Step train: [%d/%d], Loss train: %.4f, Perplexity train: %5.4f' % (epoch, num_epochs, i_step, total_step, loss.item(), perplex)\n",
        "        \n",
        "        # Print training statistics (on same line).\n",
        "        print('\\r' + stats, end=\"\")\n",
        "        sys.stdout.flush()\n",
        "        \n",
        "        # Print training statistics to file.\n",
        "        write_file.write(stats + '\\n')\n",
        "        write_file.flush()\n",
        "        \n",
        "        # Print training statistics (on different line).\n",
        "        if i_step % print_every == 0:\n",
        "            print('\\r' + stats)\n",
        "        \n",
        "    epoch_loss_avg = epoch_loss / total_step\n",
        "    epoch_perp_avg = epoch_perplex / total_step\n",
        "    \n",
        "    print('\\r')\n",
        "    print('Epoch train:', epoch)\n",
        "    print('\\r' + 'Avg. Loss train: %.4f, Avg. Perplexity train: %5.4f' % (epoch_loss_avg, epoch_perp_avg), end=\"\")\n",
        "    print('\\r')\n",
        "    \n",
        "    # Save the weights.\n",
        "    if epoch % save_every == 0:\n",
        "        torch.save(decoder.state_dict(), os.path.join('./models_new', 'decoder-%d.pkl' % epoch))\n",
        "        torch.save(encoder.state_dict(), os.path.join('./models_new', 'encoder-%d.pkl' % epoch))"
      ],
      "execution_count": 44,
      "outputs": []
    },
    {
      "cell_type": "code",
      "metadata": {
        "id": "cYzFYizXc8WE"
      },
      "source": [
        "def validate(epoch, \n",
        "             encoder, \n",
        "             decoder, \n",
        "             optimizer, \n",
        "             criterion, \n",
        "             total_step, num_epochs, data_loader, write_file, bleu_score_file):\n",
        "    \"\"\" Validation function for a single epoch. \n",
        "    Arguments: \n",
        "    ----------\n",
        "    - epoch - number of current epoch\n",
        "    - encoder - model's Encoder (evaluation)\n",
        "    - decoder - model's Decoder (evaluation)\n",
        "    - optimizer - model's optimizer (Adam in our case)\n",
        "    - criterion - optimized loss function\n",
        "    - num_epochs - total number of epochs\n",
        "    - data_loader - specified data loader (for training, validation or test)\n",
        "    - write_file - file to write the validation logs\n",
        "    \"\"\"\n",
        "    epoch_loss = 0.0\n",
        "    epoch_perplex = 0.0\n",
        "    references = []\n",
        "    hypothesis = []\n",
        "      \n",
        "    for i_step in range(1, total_step+1):\n",
        "        # evaluation of encoder and decoder\n",
        "        encoder.eval()\n",
        "        decoder.eval()\n",
        "        val_images, val_captions, caps_all = next(iter(data_loader))\n",
        "        \n",
        "        val_captions_target = val_captions[:, 1:].to(device) \n",
        "        val_captions = val_captions[:, :-1].to(device)\n",
        "        val_images = val_images.to(device)\n",
        "    \n",
        "        \n",
        "        features_val = encoder(val_images)\n",
        "        outputs_val, atten_weights_val = decoder(captions= val_captions,\n",
        "                                         features = features_val)\n",
        "        loss_val = criterion(outputs_val.view(-1, vocab_size), \n",
        "                             val_captions_target.reshape(-1))\n",
        "        \n",
        "        # preprocess captions and add them to the list\n",
        "        caps_processed = get_batch_caps(caps_all, batch_size=batch_size)\n",
        "        references.append(caps_processed)\n",
        "        # get corresponding indicies from predictions\n",
        "        # and form hypothesis from output\n",
        "        terms_idx = torch.max(outputs_val, dim=2)[1]\n",
        "        hyp_list = get_hypothesis(terms_idx, data_loader=data_loader)\n",
        "        hypothesis.append(hyp_list)\n",
        "        \n",
        "        perplex = np.exp(loss_val.item())\n",
        "        epoch_loss += loss_val.item()\n",
        "        epoch_perplex += perplex\n",
        "        \n",
        "        stats = 'Epoch valid: [%d/%d], Step valid: [%d/%d], Loss valid: %.4f, Perplexity valid: %5.4f' % (epoch, num_epochs, i_step, total_step, loss_val.item(), perplex)\n",
        "        \n",
        "        # Print training statistics (on same line).\n",
        "        print('\\r' + stats, end=\"\")\n",
        "        sys.stdout.flush()\n",
        "        \n",
        "        # Print training statistics to file.\n",
        "        write_file.write(stats + '\\n')\n",
        "        write_file.flush()\n",
        "        \n",
        "        # Print training statistics (on different line).\n",
        "        if i_step % print_every == 0:\n",
        "            print('\\r' + stats)\n",
        "    \n",
        "    epoch_loss_avg = epoch_loss / total_step\n",
        "    epoch_perp_avg = epoch_perplex / total_step\n",
        "            \n",
        "    # prepare the proper shape for computing BLEU scores\n",
        "    references = np.array(references).reshape(total_step*batch_size, -1)\n",
        "    #hyps = np.array(hypothesis).reshape(total_step*batch_size, -1)\n",
        "    hyps = np.concatenate(np.array(hypothesis))\n",
        "        \n",
        "    bleu_1 = corpus_bleu(references, hyps, weights = (1.0, 0, 0, 0))\n",
        "    bleu_2 = corpus_bleu(references, hyps, weights = (0.5, 0.5, 0, 0))\n",
        "    bleu_3 = corpus_bleu(references, hyps, weights = (1.0/3.0, 1.0/3.0, 1.0/3.0, 0))\n",
        "    bleu_4 = corpus_bleu(references, hyps, weights = (0.25, 0.25, 0.25, 0.25))\n",
        "    # append individual n_gram scores\n",
        "    #bleu_score_list.append((bleu_1, bleu_2, bleu_3, bleu_4))\n",
        "    \n",
        "    print('\\r')\n",
        "    print('Epoch valid:', epoch)\n",
        "    epoch_stat = 'Avg. Loss valid: %.4f, Avg. Perplexity valid: %5.4f, \\\n",
        "    BLEU-1: %.2f, BLEU-2: %.2f, BLEU-3: %.2f, BLEU-4: %.2f' % (epoch_loss_avg, epoch_perp_avg, bleu_1, bleu_2, bleu_3, bleu_4)\n",
        "    \n",
        "    print('\\r' + epoch_stat, end=\"\")\n",
        "    print('\\r')\n",
        "    \n",
        "    bleu_score_file.write(epoch_stat + '\\n')\n",
        "    bleu_score_file.flush()"
      ],
      "execution_count": 41,
      "outputs": []
    },
    {
      "cell_type": "code",
      "metadata": {
        "id": "m22yexk-dh-m"
      },
      "source": [
        "CoCo"
      ],
      "execution_count": null,
      "outputs": []
    },
    {
      "cell_type": "code",
      "metadata": {
        "colab": {
          "base_uri": "https://localhost:8080/"
        },
        "id": "9KQL58lwdDbI",
        "outputId": "48c22db7-ad7c-44f4-b92a-03e44b70c7be"
      },
      "source": [
        "# Open the training log file.\n",
        "file_train = open(log_train, 'w')\n",
        "file_val = open(log_val, 'w')\n",
        "bleu_score_file = open(bleu, 'w')\n",
        "\n",
        "\n",
        "# store BLEU scores in list \n",
        "bleu_scores = []\n",
        "total_step_valid = math.ceil(len(valid_data_loader.dataset.caption_lengths) / valid_data_loader.batch_sampler.batch_size)\n",
        "num_epochs = 3\n",
        "for epoch in range(0, 2):   \n",
        "    train(epoch, encoder, decoder, optimizer, criterion, total_step, num_epochs =num_epochs,\n",
        "          data_loader = data_loader,\n",
        "          write_file = file_train, \n",
        "          save_every = 1)\n",
        "    \n",
        "    validate(epoch, encoder, decoder, optimizer, criterion, \n",
        "             total_step = total_step_valid, \n",
        "             num_epochs = num_epochs, \n",
        "             data_loader = valid_data_loader, write_file=file_val, bleu_score_file=bleu_score_file)\n",
        "    \n",
        "file_train.close()\n",
        "file_val.close()\n",
        "bleu_score_file.close()"
      ],
      "execution_count": null,
      "outputs": [
        {
          "output_type": "stream",
          "name": "stdout",
          "text": [
            "Epoch train: [0/3], Step train: [100/6471], Loss train: 5.2832, Perplexity train: 197.0028\n",
            "Epoch train: [0/3], Step train: [200/6471], Loss train: 5.0426, Perplexity train: 154.8719\n",
            "Epoch train: [0/3], Step train: [300/6471], Loss train: 4.6882, Perplexity train: 108.6622\n",
            "Epoch train: [0/3], Step train: [400/6471], Loss train: 4.6914, Perplexity train: 109.0048\n",
            "Epoch train: [0/3], Step train: [500/6471], Loss train: 4.6539, Perplexity train: 104.9951\n",
            "Epoch train: [0/3], Step train: [600/6471], Loss train: 5.4521, Perplexity train: 233.2428\n",
            "Epoch train: [0/3], Step train: [700/6471], Loss train: 4.5217, Perplexity train: 91.9964\n",
            "Epoch train: [0/3], Step train: [800/6471], Loss train: 4.6776, Perplexity train: 107.5123\n",
            "Epoch train: [0/3], Step train: [900/6471], Loss train: 4.1892, Perplexity train: 65.9716\n",
            "Epoch train: [0/3], Step train: [1000/6471], Loss train: 4.3756, Perplexity train: 79.4871\n",
            "Epoch train: [0/3], Step train: [1100/6471], Loss train: 4.6677, Perplexity train: 106.4496\n",
            "Epoch train: [0/3], Step train: [1189/6471], Loss train: 4.1706, Perplexity train: 64.7520"
          ]
        }
      ]
    },
    {
      "cell_type": "code",
      "metadata": {
        "id": "a7Hj4Zt_jj0h"
      },
      "source": [
        "# Setup the transforms\n",
        "transform_test = transforms.Compose([ \n",
        "    transforms.Resize((224,224)),                          # smaller edge of image resized to 256\n",
        "    transforms.ToTensor(),                           # convert the PIL Image to a tensor\n",
        "    transforms.Normalize((0.485, 0.456, 0.406),      # normalize image for pre-trained model\n",
        "                         (0.229, 0.224, 0.225))])"
      ],
      "execution_count": null,
      "outputs": []
    },
    {
      "cell_type": "code",
      "metadata": {
        "id": "itFvQLnYoBdc"
      },
      "source": [
        "test_data_loader = get_loader(transform=transform_test,\n",
        "                                    batch_size=1,\n",
        "                         mode='test')"
      ],
      "execution_count": null,
      "outputs": []
    },
    {
      "cell_type": "code",
      "metadata": {
        "id": "zoE6Gu3poDeK"
      },
      "source": [
        "vocab_size = len(test_data_loader.dataset.vocab)\n",
        "vocab_size"
      ],
      "execution_count": null,
      "outputs": []
    },
    {
      "cell_type": "code",
      "metadata": {
        "id": "Iuy_49GAoGeZ"
      },
      "source": [
        "encoder_file = 'encoder-14.pkl' \n",
        "decoder_file = 'decoder-14.pkl'\n",
        "\n",
        "\n",
        "embed_size = 256           # dimensionality of image and word embeddings\n",
        "hidden_size = 512          # number of features in hidden state of the RNN decoder\n",
        "num_features = 2048        # number of feature maps, produced by Encoder\n",
        "\n",
        "# The size of the vocabulary.\n",
        "vocab_size = len(test_data_loader.dataset.vocab)\n",
        "\n",
        "# Initialize the encoder and decoder, and set each to inference mode.\n",
        "encoder = EncoderCNN()\n",
        "encoder.eval()\n",
        "decoder = DecoderRNN(num_features = num_features, \n",
        "                     embedding_dim = embed_size, \n",
        "                     hidden_dim = hidden_size, \n",
        "                     vocab_size = vocab_size)\n",
        "decoder.eval()\n",
        "\n",
        "\n",
        "# Load the trained weights.\n",
        "encoder.load_state_dict(torch.load(os.path.join('./models_new', encoder_file), map_location='cpu'))\n",
        "decoder.load_state_dict(torch.load(os.path.join('./models_new', decoder_file), map_location='cpu'))\n",
        "\n",
        "device = torch.device(\"cuda\" if torch.cuda.is_available() else \"cpu\")\n",
        "\n",
        "# Move models to GPU if CUDA is available.\n",
        "encoder.to(device)\n",
        "decoder.to(device)"
      ],
      "execution_count": null,
      "outputs": []
    },
    {
      "cell_type": "code",
      "metadata": {
        "id": "DtKcIpDfoKT0"
      },
      "source": [
        "orig_image, image = next(iter(test_data_loader))"
      ],
      "execution_count": null,
      "outputs": []
    },
    {
      "cell_type": "code",
      "metadata": {
        "id": "kScgB3VHoNOT"
      },
      "source": [
        "print('Image shape:', list(image.size()))\n",
        "print('Original image shape:', list(orig_image.size()))"
      ],
      "execution_count": null,
      "outputs": []
    },
    {
      "cell_type": "code",
      "metadata": {
        "id": "Q4ycGZ1PoO1m"
      },
      "source": [
        "def clean_sentence(output, data_loader):\n",
        "    vocab = data_loader.dataset.vocab.idx2word\n",
        "    words = [vocab.get(idx) for idx in output]\n",
        "    words = [word for word in words if word not in (',', '.', '<end>')]\n",
        "    sentence = \" \".join(words)\n",
        "    \n",
        "    return sentence"
      ],
      "execution_count": null,
      "outputs": []
    },
    {
      "cell_type": "code",
      "metadata": {
        "id": "VIPhiZXnoRgj"
      },
      "source": [
        "def get_prediction(data_loader):\n",
        "    orig_image, image = next(iter(data_loader))\n",
        "    plt.imshow(orig_image.squeeze())\n",
        "    plt.title('Sample Image')\n",
        "    plt.show()\n",
        "    image = image.to(device)\n",
        "    features = encoder(image)\n",
        "    output = decoder.sample(features)    \n",
        "    sentence = clean_sentence(output)\n",
        "    print(sentence)"
      ],
      "execution_count": null,
      "outputs": []
    },
    {
      "cell_type": "code",
      "metadata": {
        "id": "uH7f1UZHoTYY"
      },
      "source": [
        "# Visualize sample image, before pre-processing.\n",
        "plt.imshow(np.squeeze(orig_image))\n",
        "plt.title('example image')\n",
        "plt.show()"
      ],
      "execution_count": null,
      "outputs": []
    },
    {
      "cell_type": "code",
      "metadata": {
        "id": "rWiIJSQXoVcI"
      },
      "source": [
        "image = image.to(device)\n",
        "\n",
        "# Obtain the embedded image features.\n",
        "print(image.shape)\n",
        "features = encoder(image)\n",
        "\n",
        "# Pass the embedded image features through the model to get a predicted caption.\n",
        "output = decoder.sample(features)\n",
        "print('example output:', output)\n",
        "assert (type(output)==list), \"Output needs to be a Python list\" \n",
        "assert all([type(x)==int for x in output]), \"Output should be a list of integers.\" \n",
        "assert all([x in test_data_loader.dataset.vocab.idx2word for x in output]), \"Each entry in the output needs to correspond to an integer that indicates a token in the vocabulary.\""
      ],
      "execution_count": null,
      "outputs": []
    },
    {
      "cell_type": "code",
      "metadata": {
        "id": "A6K0rirjoW64"
      },
      "source": [
        "\n",
        "sentence = clean_sentence(output, test_data_loader)\n",
        "print('example sentence:', sentence)"
      ],
      "execution_count": null,
      "outputs": []
    },
    {
      "cell_type": "code",
      "metadata": {
        "id": "LjGQV5DPoeDR"
      },
      "source": [
        "import sys\n",
        "from pycocotools.coco import COCO\n",
        "from data_loader import get_loader\n",
        "from torchvision import transforms\n",
        "from beam_search import BeamSearch\n",
        "from utils import visualize_attention\n",
        "\n",
        "# TODO #1: Define a transform to pre-process the testing images.\n",
        "transform_test = transform_test = transforms.Compose([transforms.Resize(256),\n",
        "                                     transforms.CenterCrop(224),\n",
        "                                     transforms.ToTensor(),\n",
        "                                     transforms.Normalize((0.485, 0.456, 0.406),\n",
        "                                                          (0.229, 0.224, 0.225))\n",
        "                                    ])\n",
        "\n",
        "#-#-#-# Do NOT modify the code below this line. #-#-#-#\n",
        "\n",
        "# Create the data loader.\n",
        "data_loader = get_loader(transform=transform_test,    \n",
        "                         mode='test')"
      ],
      "execution_count": null,
      "outputs": []
    },
    {
      "cell_type": "code",
      "metadata": {
        "id": "QyvUKvsRogo1"
      },
      "source": [
        "import numpy as np\n",
        "import matplotlib.pyplot as plt\n",
        "%matplotlib inline\n",
        "\n",
        "# Obtain sample image before and after pre-processing.\n",
        "orig_image, image = next(iter(data_loader))\n",
        "\n",
        "# Visualize sample image, before pre-processing.\n",
        "plt.imshow(np.squeeze(orig_image))\n",
        "plt.title('example image')\n",
        "plt.show()"
      ],
      "execution_count": null,
      "outputs": []
    },
    {
      "cell_type": "code",
      "metadata": {
        "id": "cet642afooBi"
      },
      "source": [
        "import torch\n",
        "\n",
        "device = torch.device(\"cuda\" if torch.cuda.is_available() else \"cpu\")"
      ],
      "execution_count": null,
      "outputs": []
    },
    {
      "cell_type": "code",
      "metadata": {
        "id": "VMLuPuf0osNj"
      },
      "source": [
        "import os\n",
        "import torch\n",
        "from model import EncoderCNN, DecoderRNN\n",
        "\n",
        "# TODO #2: Specify the saved models to load.\n",
        "encoder_file = 'encoder-14.pkl' \n",
        "decoder_file = 'decoder-14.pkl'\n",
        "\n",
        "# TODO #3: Select appropriate values for the Python variables below.\n",
        "embed_size = 256\n",
        "hidden_size = 512\n",
        "num_features = 2048\n",
        "vocab_size = 9955\n",
        "\n",
        "\n",
        "# The size of the vocabulary.\n",
        "vocab_size = len(data_loader.dataset.vocab)\n",
        "\n",
        "# Initialize the encoder and decoder, and set each to inference mode.\n",
        "encoder = EncoderCNN()\n",
        "encoder.eval()\n",
        "decoder = DecoderRNN(num_features = num_features, \n",
        "                     embedding_dim = embed_size, \n",
        "                     hidden_dim = hidden_size, \n",
        "                     vocab_size = vocab_size)\n",
        "decoder.eval()\n",
        "\n",
        "# Load the trained weights.\n",
        "encoder.load_state_dict(torch.load(os.path.join('./models_simple', encoder_file), map_location='cpu'))\n",
        "decoder.load_state_dict(torch.load(os.path.join('./models_simple', decoder_file), map_location='cpu'))\n",
        "\n",
        "# Move models to GPU if CUDA is available.\n",
        "encoder.to(device)\n",
        "decoder.to(device)"
      ],
      "execution_count": null,
      "outputs": []
    },
    {
      "cell_type": "code",
      "metadata": {
        "id": "DQEiQ3sRoue7"
      },
      "source": [
        "# Move image Pytorch Tensor to GPU if CUDA is available.\n",
        "image = image.to(device)\n",
        "\n",
        "# Obtain the embedded image features.\n",
        "print(image.shape)\n",
        "features = encoder(image)\n",
        "\n",
        "# Pass the embedded image features through the model to get a predicted caption.\n",
        "output, atten_weights = decoder.greedy_search(features)\n",
        "print('example output:', output)\n",
        "\n",
        "assert (type(output)==list), \"Output needs to be a Python list\" \n",
        "assert all([type(x)==int for x in output]), \"Output should be a list of integers.\" \n",
        "assert all([x in data_loader.dataset.vocab.idx2word for x in output]), \"Each entry in the output needs to correspond to an integer that indicates a token in the vocabulary.\""
      ],
      "execution_count": null,
      "outputs": []
    },
    {
      "cell_type": "code",
      "metadata": {
        "id": "N8r02p8Co8mo"
      },
      "source": [
        "# TODO #4: Complete the function.\n",
        "def clean_sentence(output):\n",
        "    vocab = data_loader.dataset.vocab.idx2word\n",
        "    words = [vocab.get(idx) for idx in output]\n",
        "    words = [word for word in words if word not in ('<start>', ',', '.', '<end>')]\n",
        "    sentence = \" \".join(words)\n",
        "    \n",
        "    return sentence"
      ],
      "execution_count": null,
      "outputs": []
    },
    {
      "cell_type": "code",
      "metadata": {
        "id": "7klTnizAo-wx"
      },
      "source": [
        "sentence = clean_sentence(output)\n",
        "print('example sentence:', sentence)\n",
        "\n",
        "assert type(sentence)==str, 'Sentence needs to be a Python string!'"
      ],
      "execution_count": null,
      "outputs": []
    },
    {
      "cell_type": "code",
      "metadata": {
        "id": "iMfMJXF_pBMc"
      },
      "source": [
        "def get_prediction():\n",
        "    orig_image, image = next(iter(data_loader))\n",
        "    plt.imshow(np.squeeze(orig_image))\n",
        "    plt.title('Sample Image')\n",
        "    plt.show()\n",
        "    image = image.to(device)\n",
        "    features = encoder(image)\n",
        "    output, atten_weights = decoder.greedy_search(features)    \n",
        "    sentence = clean_sentence(output)\n",
        "    print(sentence)"
      ],
      "execution_count": null,
      "outputs": []
    },
    {
      "cell_type": "code",
      "metadata": {
        "id": "hkwK6hsApC9h"
      },
      "source": [
        "get_prediction()"
      ],
      "execution_count": null,
      "outputs": []
    },
    {
      "cell_type": "code",
      "metadata": {
        "id": "VyxlGPnEpFBt"
      },
      "source": [
        "get_prediction()"
      ],
      "execution_count": null,
      "outputs": []
    },
    {
      "cell_type": "code",
      "metadata": {
        "id": "u3BYCMJCpKRF"
      },
      "source": [
        "# Beam search sampling k=3\n",
        "beam = BeamSearch(decoder=decoder,\n",
        "                 features = features,\n",
        "                 k = 3, \n",
        "                 max_sentence =20)"
      ],
      "execution_count": null,
      "outputs": []
    },
    {
      "cell_type": "code",
      "metadata": {
        "id": "yyezJWNvpOkW"
      },
      "source": [
        "sent, score = beam.generate_caption()"
      ],
      "execution_count": null,
      "outputs": []
    },
    {
      "cell_type": "code",
      "metadata": {
        "id": "8JrB5kWFpQVh"
      },
      "source": [
        "clean_sentence(sent)"
      ],
      "execution_count": null,
      "outputs": []
    },
    {
      "cell_type": "code",
      "metadata": {
        "id": "hY_bGiYwpSO1"
      },
      "source": [
        "vocab = data_loader.dataset.vocab.idx2word\n",
        "words = [vocab.get(idx) for idx in output]\n",
        "words = [word for word in words if word not in ('<start>', ',', '.', '<end>')]"
      ],
      "execution_count": null,
      "outputs": []
    },
    {
      "cell_type": "code",
      "metadata": {
        "id": "ralbmsmupUYz"
      },
      "source": [
        "visualize_attention(orig_image, words, atten_weights)"
      ],
      "execution_count": null,
      "outputs": []
    }
  ]
}