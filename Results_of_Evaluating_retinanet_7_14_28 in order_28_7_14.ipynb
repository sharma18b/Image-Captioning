{
  "nbformat": 4,
  "nbformat_minor": 0,
  "metadata": {
    "colab": {
      "name": "Evaluating .ipynb",
      "provenance": [],
      "mount_file_id": "1XOLxZR_yVhIMwUK2cj0y3c-0riOTJdOP",
      "authorship_tag": "ABX9TyN6YU1+kGpYOdWeTPKSeBlQ",
      "include_colab_link": true
    },
    "kernelspec": {
      "name": "python3",
      "display_name": "Python 3"
    },
    "language_info": {
      "name": "python"
    },
    "accelerator": "GPU"
  },
  "cells": [
    {
      "cell_type": "markdown",
      "metadata": {
        "id": "view-in-github",
        "colab_type": "text"
      },
      "source": [
        "<a href=\"https://colab.research.google.com/github/sharma18b/Image-Captioning/blob/main/Results_of_Evaluating_retinanet_7_14_28%20in%20order_28_7_14.ipynb\" target=\"_parent\"><img src=\"https://colab.research.google.com/assets/colab-badge.svg\" alt=\"Open In Colab\"/></a>"
      ]
    },
    {
      "cell_type": "code",
      "execution_count": 2,
      "metadata": {
        "colab": {
          "base_uri": "https://localhost:8080/"
        },
        "id": "gpSCSaha6ngA",
        "outputId": "25cae6e0-f764-43e1-9d9e-f8710bf65168"
      },
      "outputs": [
        {
          "output_type": "stream",
          "name": "stdout",
          "text": [
            "Warning: Your Kaggle API key is readable by other users on this system! To fix this, you can run 'chmod 600 /content/kaggle.json'\n",
            "Downloading baseline.zip to /content\n",
            "100% 4.77G/4.79G [00:39<00:00, 184MB/s]\n",
            "100% 4.79G/4.79G [00:39<00:00, 129MB/s]\n"
          ]
        }
      ],
      "source": [
        "import os\n",
        "os.environ['KAGGLE_CONFIG_DIR']='/content/'\n",
        "!kaggle datasets download -d 'rishisharma18/baseline'"
      ]
    },
    {
      "cell_type": "code",
      "source": [
        "!unzip baseline.zip"
      ],
      "metadata": {
        "colab": {
          "base_uri": "https://localhost:8080/"
        },
        "id": "oPKWZq3fqAls",
        "outputId": "6ce0b4bb-8336-4672-c7ee-032cad222a19"
      },
      "execution_count": 3,
      "outputs": [
        {
          "output_type": "stream",
          "name": "stdout",
          "text": [
            "Archive:  baseline.zip\n",
            "  inflating: Image-Caption/caption.py  \n",
            "  inflating: Image-Caption/create_input_files.py  \n",
            "  inflating: Image-Caption/dataset/dataset_flickr30k.json  \n",
            "  inflating: Image-Caption/dataset/generated_data/TEST_CAPLENS_flickr30k_5_cap_per_img_5_min_word_freq.json  \n",
            "  inflating: Image-Caption/dataset/generated_data/TEST_CAPTIONS_flickr30k_5_cap_per_img_5_min_word_freq.json  \n",
            "  inflating: Image-Caption/dataset/generated_data/TEST_IMAGES_flickr30k_5_cap_per_img_5_min_word_freq.hdf5  \n",
            "  inflating: Image-Caption/dataset/generated_data/TRAIN_CAPLENS_flickr30k_5_cap_per_img_5_min_word_freq.json  \n",
            "  inflating: Image-Caption/dataset/generated_data/TRAIN_CAPTIONS_flickr30k_5_cap_per_img_5_min_word_freq.json  \n",
            "  inflating: Image-Caption/dataset/generated_data/TRAIN_IMAGES_flickr30k_5_cap_per_img_5_min_word_freq.hdf5  \n",
            "  inflating: Image-Caption/dataset/generated_data/VAL_CAPLENS_flickr30k_5_cap_per_img_5_min_word_freq.json  \n",
            "  inflating: Image-Caption/dataset/generated_data/VAL_CAPTIONS_flickr30k_5_cap_per_img_5_min_word_freq.json  \n",
            "  inflating: Image-Caption/dataset/generated_data/VAL_IMAGES_flickr30k_5_cap_per_img_5_min_word_freq.hdf5  \n",
            "  inflating: Image-Caption/dataset/generated_data/WORDMAP_flickr30k_5_cap_per_img_5_min_word_freq.json  \n",
            "  inflating: Image-Caption/datasets.py  \n",
            "  inflating: Image-Caption/eval.py   \n",
            "  inflating: Image-Caption/eval_func/bleu/LICENSE  \n",
            "  inflating: Image-Caption/eval_func/bleu/__init__.py  \n",
            "  inflating: Image-Caption/eval_func/bleu/bleu.py  \n",
            "  inflating: Image-Caption/eval_func/bleu/bleu_scorer.py  \n",
            "  inflating: Image-Caption/eval_func/cider/__init__.py  \n",
            "  inflating: Image-Caption/eval_func/cider/cider.py  \n",
            "  inflating: Image-Caption/eval_func/cider/cider_scorer.py  \n",
            "  inflating: Image-Caption/eval_func/meteor/__init__.py  \n",
            "  inflating: Image-Caption/eval_func/meteor/data/paraphrase-en-clean  \n",
            "  inflating: Image-Caption/eval_func/meteor/meteor-1.5.jar  \n",
            "  inflating: Image-Caption/eval_func/meteor/meteor.py  \n",
            "  inflating: Image-Caption/eval_func/rouge/__init__.py  \n",
            "  inflating: Image-Caption/eval_func/rouge/rouge.py  \n",
            "  inflating: Image-Caption/img/1.png  \n",
            "  inflating: Image-Caption/img/2.png  \n",
            "  inflating: Image-Caption/img/3.png  \n",
            "  inflating: Image-Caption/img/4.png  \n",
            "  inflating: Image-Caption/img/5.png  \n",
            "  inflating: Image-Caption/img/6.png  \n",
            "  inflating: Image-Caption/img/7.png  \n",
            "  inflating: Image-Caption/img/8.png  \n",
            "  inflating: Image-Caption/img/error_repeat.png  \n",
            "  inflating: Image-Caption/models.py  \n",
            "  inflating: Image-Caption/train.py  \n",
            "  inflating: Image-Caption/transformer.py  \n",
            "  inflating: Image-Caption/utils.py  \n"
          ]
        }
      ]
    },
    {
      "cell_type": "code",
      "source": [
        "cd Image-Caption/"
      ],
      "metadata": {
        "colab": {
          "base_uri": "https://localhost:8080/"
        },
        "id": "oW9EAgUOqCz8",
        "outputId": "f8f07109-5d77-4e9c-959f-832f4a2d45eb"
      },
      "execution_count": 4,
      "outputs": [
        {
          "output_type": "stream",
          "name": "stdout",
          "text": [
            "/content/Image-Caption\n"
          ]
        }
      ]
    },
    {
      "cell_type": "code",
      "source": [
        "ls"
      ],
      "metadata": {
        "colab": {
          "base_uri": "https://localhost:8080/"
        },
        "id": "Lw9OV8nSqFE6",
        "outputId": "253339e1-d059-404c-ae26-1a0504c675f9"
      },
      "execution_count": 5,
      "outputs": [
        {
          "output_type": "stream",
          "name": "stdout",
          "text": [
            "caption.py             datasets.py  \u001b[0m\u001b[01;34mimg\u001b[0m/       transformer.py\n",
            "create_input_files.py  \u001b[01;34meval_func\u001b[0m/   models.py  utils.py\n",
            "\u001b[01;34mdataset\u001b[0m/               eval.py      train.py\n"
          ]
        }
      ]
    },
    {
      "cell_type": "code",
      "source": [
        "!python eval.py"
      ],
      "metadata": {
        "colab": {
          "base_uri": "https://localhost:8080/"
        },
        "id": "eXxV9JS_qHNG",
        "outputId": "45673814-89e0-4b37-d555-df8624603a67"
      },
      "execution_count": 15,
      "outputs": [
        {
          "output_type": "stream",
          "name": "stdout",
          "text": [
            "cuda\n",
            "EVALUATING AT BEAM SIZE 3:   0% 0/5000 [00:00<?, ?it/s]eval.py:86: UserWarning: __floordiv__ is deprecated, and its behavior will change in a future version of pytorch. It currently rounds toward 0 (like the 'trunc' function NOT 'floor'). This results in incorrect rounding for negative values. To keep the current behavior, use torch.div(a, b, rounding_mode='trunc'), or for actual floor division, use torch.div(a, b, rounding_mode='floor').\n",
            "  prev_word_inds = top_k_words // vocab_size  # (s)\n",
            "EVALUATING AT BEAM SIZE 3: 100% 5000/5000 [16:29<00:00,  5.05it/s]\n",
            "['Bleu_1', 'Bleu_2', 'Bleu_3', 'Bleu_4'] [0.6201503372232604, 0.4227705106502431, 0.2836608997838421, 0.18929439748804647]\n",
            "ROUGE_L 0.4226694815333258\n",
            "CIDEr 0.39379876332222374\n",
            "lstm - beam size 3: BLEU-1 0.6201503372232604 BLEU-2 0.4227705106502431 BLEU-3 0.2836608997838421 BLEU-4 0.18929439748804647 ROUGE_L 0.4226694815333258 CIDEr 0.39379876332222374\n"
          ]
        }
      ]
    },
    {
      "cell_type": "code",
      "source": [
        "!python eval.py"
      ],
      "metadata": {
        "colab": {
          "base_uri": "https://localhost:8080/"
        },
        "id": "b1OMLHaVrq1N",
        "outputId": "c79608bc-0106-40a3-e562-c904017b0c0c"
      },
      "execution_count": 16,
      "outputs": [
        {
          "output_type": "stream",
          "name": "stdout",
          "text": [
            "cuda\n",
            "EVALUATING AT BEAM SIZE 3:   0% 0/5000 [00:00<?, ?it/s]eval.py:86: UserWarning: __floordiv__ is deprecated, and its behavior will change in a future version of pytorch. It currently rounds toward 0 (like the 'trunc' function NOT 'floor'). This results in incorrect rounding for negative values. To keep the current behavior, use torch.div(a, b, rounding_mode='trunc'), or for actual floor division, use torch.div(a, b, rounding_mode='floor').\n",
            "  prev_word_inds = top_k_words // vocab_size  # (s)\n",
            "EVALUATING AT BEAM SIZE 3: 100% 5000/5000 [13:09<00:00,  6.34it/s]\n",
            "['Bleu_1', 'Bleu_2', 'Bleu_3', 'Bleu_4'] [0.6133430358153976, 0.41899822861980607, 0.28055505296825795, 0.18690531813879524]\n",
            "ROUGE_L 0.42307027039744743\n",
            "CIDEr 0.39689691531161486\n",
            "lstm - beam size 3: BLEU-1 0.6133430358153976 BLEU-2 0.41899822861980607 BLEU-3 0.28055505296825795 BLEU-4 0.18690531813879524 ROUGE_L 0.42307027039744743 CIDEr 0.39689691531161486\n"
          ]
        }
      ]
    },
    {
      "cell_type": "code",
      "source": [
        "!python eval.py"
      ],
      "metadata": {
        "colab": {
          "base_uri": "https://localhost:8080/"
        },
        "id": "p72uy05I7xQs",
        "outputId": "4be07181-c98b-4986-885d-ffcf5a570124"
      },
      "execution_count": 17,
      "outputs": [
        {
          "output_type": "stream",
          "name": "stdout",
          "text": [
            "cuda\n",
            "EVALUATING AT BEAM SIZE 3:   0% 0/5000 [00:00<?, ?it/s]eval.py:86: UserWarning: __floordiv__ is deprecated, and its behavior will change in a future version of pytorch. It currently rounds toward 0 (like the 'trunc' function NOT 'floor'). This results in incorrect rounding for negative values. To keep the current behavior, use torch.div(a, b, rounding_mode='trunc'), or for actual floor division, use torch.div(a, b, rounding_mode='floor').\n",
            "  prev_word_inds = top_k_words // vocab_size  # (s)\n",
            "EVALUATING AT BEAM SIZE 3: 100% 5000/5000 [11:52<00:00,  7.02it/s]\n",
            "['Bleu_1', 'Bleu_2', 'Bleu_3', 'Bleu_4'] [0.6127919682537597, 0.41900231583899966, 0.27713772206596465, 0.1807377110487365]\n",
            "ROUGE_L 0.42226504250574487\n",
            "CIDEr 0.3792202279945042\n",
            "lstm - beam size 3: BLEU-1 0.6127919682537597 BLEU-2 0.41900231583899966 BLEU-3 0.27713772206596465 BLEU-4 0.1807377110487365 ROUGE_L 0.42226504250574487 CIDEr 0.3792202279945042\n"
          ]
        }
      ]
    },
    {
      "cell_type": "code",
      "source": [
        ""
      ],
      "metadata": {
        "id": "hec3QhKa_xO_"
      },
      "execution_count": null,
      "outputs": []
    }
  ]
}