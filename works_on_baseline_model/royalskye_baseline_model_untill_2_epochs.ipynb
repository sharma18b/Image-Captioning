{
  "nbformat": 4,
  "nbformat_minor": 0,
  "metadata": {
    "colab": {
      "name": "royalskye saat train test .ipynb",
      "provenance": [],
      "authorship_tag": "ABX9TyMy299ch7YYkqDjWvjl1+S5",
      "include_colab_link": true
    },
    "kernelspec": {
      "name": "python3",
      "display_name": "Python 3"
    },
    "language_info": {
      "name": "python"
    },
    "accelerator": "GPU"
  },
  "cells": [
    {
      "cell_type": "markdown",
      "metadata": {
        "id": "view-in-github",
        "colab_type": "text"
      },
      "source": [
        "<a href=\"https://colab.research.google.com/github/sharma18b/Image-Captioning/blob/main/works_on_baseline_model/royalskye_baseline_model_untill_2_epochs.ipynb\" target=\"_parent\"><img src=\"https://colab.research.google.com/assets/colab-badge.svg\" alt=\"Open In Colab\"/></a>"
      ]
    },
    {
      "cell_type": "code",
      "execution_count": 18,
      "metadata": {
        "colab": {
          "base_uri": "https://localhost:8080/"
        },
        "id": "P1-HLWIUx1-N",
        "outputId": "166584ce-9a01-4494-8051-cdbd49da1c98"
      },
      "outputs": [
        {
          "output_type": "stream",
          "name": "stdout",
          "text": [
            "Warning: Your Kaggle API key is readable by other users on this system! To fix this, you can run 'chmod 600 /content/kaggle.json'\n",
            "Downloading baseline.zip to /content\n",
            "100% 4.79G/4.79G [01:27<00:00, 40.1MB/s]\n",
            "100% 4.79G/4.79G [01:27<00:00, 59.1MB/s]\n"
          ]
        }
      ],
      "source": [
        "import os\n",
        "os.environ['KAGGLE_CONFIG_DIR']='/content/'\n",
        "!kaggle datasets download -d 'rishisharma18/baseline'"
      ]
    },
    {
      "cell_type": "code",
      "source": [
        "!unzip baseline.zip"
      ],
      "metadata": {
        "colab": {
          "base_uri": "https://localhost:8080/"
        },
        "id": "ZUQH6ISvmqmj",
        "outputId": "4509a2fa-fda9-4901-f41c-9453f02b970b"
      },
      "execution_count": 19,
      "outputs": [
        {
          "output_type": "stream",
          "name": "stdout",
          "text": [
            "Archive:  baseline.zip\n",
            "  inflating: Image-Caption/caption.py  \n",
            "  inflating: Image-Caption/create_input_files.py  \n",
            "  inflating: Image-Caption/dataset/dataset_flickr30k.json  \n",
            "  inflating: Image-Caption/dataset/generated_data/TEST_CAPLENS_flickr30k_5_cap_per_img_5_min_word_freq.json  \n",
            "  inflating: Image-Caption/dataset/generated_data/TEST_CAPTIONS_flickr30k_5_cap_per_img_5_min_word_freq.json  \n",
            "  inflating: Image-Caption/dataset/generated_data/TEST_IMAGES_flickr30k_5_cap_per_img_5_min_word_freq.hdf5  \n",
            "  inflating: Image-Caption/dataset/generated_data/TRAIN_CAPLENS_flickr30k_5_cap_per_img_5_min_word_freq.json  \n",
            "  inflating: Image-Caption/dataset/generated_data/TRAIN_CAPTIONS_flickr30k_5_cap_per_img_5_min_word_freq.json  \n",
            "  inflating: Image-Caption/dataset/generated_data/TRAIN_IMAGES_flickr30k_5_cap_per_img_5_min_word_freq.hdf5  \n",
            "  inflating: Image-Caption/dataset/generated_data/VAL_CAPLENS_flickr30k_5_cap_per_img_5_min_word_freq.json  \n",
            "  inflating: Image-Caption/dataset/generated_data/VAL_CAPTIONS_flickr30k_5_cap_per_img_5_min_word_freq.json  \n",
            "  inflating: Image-Caption/dataset/generated_data/VAL_IMAGES_flickr30k_5_cap_per_img_5_min_word_freq.hdf5  \n",
            "  inflating: Image-Caption/dataset/generated_data/WORDMAP_flickr30k_5_cap_per_img_5_min_word_freq.json  \n",
            "  inflating: Image-Caption/datasets.py  \n",
            "  inflating: Image-Caption/eval.py   \n",
            "  inflating: Image-Caption/eval_func/bleu/LICENSE  \n",
            "  inflating: Image-Caption/eval_func/bleu/__init__.py  \n",
            "  inflating: Image-Caption/eval_func/bleu/bleu.py  \n",
            "  inflating: Image-Caption/eval_func/bleu/bleu_scorer.py  \n",
            "  inflating: Image-Caption/eval_func/cider/__init__.py  \n",
            "  inflating: Image-Caption/eval_func/cider/cider.py  \n",
            "  inflating: Image-Caption/eval_func/cider/cider_scorer.py  \n",
            "  inflating: Image-Caption/eval_func/meteor/__init__.py  \n",
            "  inflating: Image-Caption/eval_func/meteor/data/paraphrase-en-clean  \n",
            "  inflating: Image-Caption/eval_func/meteor/meteor-1.5.jar  \n",
            "  inflating: Image-Caption/eval_func/meteor/meteor.py  \n",
            "  inflating: Image-Caption/eval_func/rouge/__init__.py  \n",
            "  inflating: Image-Caption/eval_func/rouge/rouge.py  \n",
            "  inflating: Image-Caption/img/1.png  \n",
            "  inflating: Image-Caption/img/2.png  \n",
            "  inflating: Image-Caption/img/3.png  \n",
            "  inflating: Image-Caption/img/4.png  \n",
            "  inflating: Image-Caption/img/5.png  \n",
            "  inflating: Image-Caption/img/6.png  \n",
            "  inflating: Image-Caption/img/7.png  \n",
            "  inflating: Image-Caption/img/8.png  \n",
            "  inflating: Image-Caption/img/error_repeat.png  \n",
            "  inflating: Image-Caption/models.py  \n",
            "  inflating: Image-Caption/train.py  \n",
            "  inflating: Image-Caption/transformer.py  \n",
            "  inflating: Image-Caption/utils.py  \n"
          ]
        }
      ]
    },
    {
      "cell_type": "code",
      "source": [
        "cd Image-Caption/"
      ],
      "metadata": {
        "colab": {
          "base_uri": "https://localhost:8080/"
        },
        "id": "mclJ_KnWmtRg",
        "outputId": "6f958218-1286-405b-a97d-07f514e9e392"
      },
      "execution_count": 20,
      "outputs": [
        {
          "output_type": "stream",
          "name": "stdout",
          "text": [
            "/content/Image-Caption\n"
          ]
        }
      ]
    },
    {
      "cell_type": "code",
      "source": [
        "!python train.py"
      ],
      "metadata": {
        "colab": {
          "base_uri": "https://localhost:8080/"
        },
        "id": "0a8xoYSWuJj2",
        "outputId": "9110d09d-ad33-4f67-e5e4-53439566c459"
      },
      "execution_count": null,
      "outputs": [
        {
          "output_type": "stream",
          "name": "stdout",
          "text": [
            "cuda\n",
            "Downloading: \"https://download.pytorch.org/models/resnet101-63fe2227.pth\" to /root/.cache/torch/hub/checkpoints/resnet101-63fe2227.pth\n",
            "100% 171M/171M [00:02<00:00, 77.2MB/s]\n",
            "Epoch: 1/100 step: 1/4532 Loss: 9.497530937194824 AVG_Loss: 9.497530937194824 Top-5 Accuracy: 0.0 Batch_time: 3.897824287414551s\n",
            "Epoch: 1/100 step: 101/4532 Loss: 5.849649906158447 AVG_Loss: 6.822275296192191 Top-5 Accuracy: 37.81902552204176 Batch_time: 0.8932845592498779s\n",
            "Epoch: 1/100 step: 201/4532 Loss: 5.345052242279053 AVG_Loss: 6.18117766906975 Top-5 Accuracy: 48.1042654028436 Batch_time: 0.9207801818847656s\n",
            "Epoch: 1/100 step: 301/4532 Loss: 5.176060199737549 AVG_Loss: 5.865065886344696 Top-5 Accuracy: 48.604651162790695 Batch_time: 0.9363281726837158s\n",
            "Epoch: 1/100 step: 401/4532 Loss: 5.053378105163574 AVG_Loss: 5.657714033740134 Top-5 Accuracy: 46.8671679197995 Batch_time: 0.9318885803222656s\n",
            "Epoch: 1/100 step: 501/4532 Loss: 4.653905868530273 AVG_Loss: 5.5032446781545925 Top-5 Accuracy: 51.546391752577314 Batch_time: 0.9336249828338623s\n",
            "Epoch: 1/100 step: 601/4532 Loss: 4.948808193206787 AVG_Loss: 5.388721657097595 Top-5 Accuracy: 49.67032967032967 Batch_time: 0.9326162338256836s\n",
            "Epoch: 1/100 step: 701/4532 Loss: 4.519792079925537 AVG_Loss: 5.288377626018358 Top-5 Accuracy: 56.01851851851852 Batch_time: 0.9323971271514893s\n",
            "Epoch: 1/100 step: 801/4532 Loss: 4.569653034210205 AVG_Loss: 5.207250208973401 Top-5 Accuracy: 51.73160173160173 Batch_time: 0.9334189891815186s\n",
            "Epoch: 1/100 step: 901/4532 Loss: 4.579830169677734 AVG_Loss: 5.132960068715107 Top-5 Accuracy: 51.879699248120296 Batch_time: 0.9329347610473633s\n",
            "Epoch: 1/100 step: 1001/4532 Loss: 4.432593822479248 AVG_Loss: 5.0693728645684875 Top-5 Accuracy: 54.87179487179487 Batch_time: 0.9329426288604736s\n",
            "Epoch: 1/100 step: 1101/4532 Loss: 4.82170295715332 AVG_Loss: 5.012785362301466 Top-5 Accuracy: 52.579852579852584 Batch_time: 0.9328069686889648s\n",
            "Epoch: 1/100 step: 1201/4532 Loss: 4.563048362731934 AVG_Loss: 4.962955880869281 Top-5 Accuracy: 55.21327014218009 Batch_time: 0.931297779083252s\n",
            "Epoch: 1/100 step: 1301/4532 Loss: 4.55181360244751 AVG_Loss: 4.91767135148645 Top-5 Accuracy: 56.28997867803837 Batch_time: 0.9327948093414307s\n",
            "Epoch: 1/100 step: 1401/4532 Loss: 4.245883941650391 AVG_Loss: 4.878000156527983 Top-5 Accuracy: 56.057007125890735 Batch_time: 0.9338667392730713s\n",
            "Epoch: 1/100 step: 1501/4532 Loss: 4.086089134216309 AVG_Loss: 4.838874288377762 Top-5 Accuracy: 62.14285714285714 Batch_time: 0.929983377456665s\n",
            "Epoch: 1/100 step: 1601/4532 Loss: 4.3134589195251465 AVG_Loss: 4.801593206776243 Top-5 Accuracy: 56.25 Batch_time: 0.9308931827545166s\n",
            "Epoch: 1/100 step: 1701/4532 Loss: 4.28275728225708 AVG_Loss: 4.769233151694171 Top-5 Accuracy: 55.55555555555555 Batch_time: 0.9329900741577148s\n",
            "Epoch: 1/100 step: 1801/4532 Loss: 3.988197088241577 AVG_Loss: 4.738178187965751 Top-5 Accuracy: 63.11300639658848 Batch_time: 0.9337849617004395s\n",
            "Epoch: 1/100 step: 1901/4532 Loss: 4.078405380249023 AVG_Loss: 4.709667842316396 Top-5 Accuracy: 58.43520782396088 Batch_time: 0.9331552982330322s\n",
            "Epoch: 1/100 step: 2001/4532 Loss: 4.077551364898682 AVG_Loss: 4.681766451806249 Top-5 Accuracy: 60.731707317073166 Batch_time: 0.931865930557251s\n",
            "Epoch: 1/100 step: 2101/4532 Loss: 4.093522071838379 AVG_Loss: 4.655174293372671 Top-5 Accuracy: 62.12765957446808 Batch_time: 0.9337804317474365s\n",
            "Epoch: 1/100 step: 2201/4532 Loss: 3.8378970623016357 AVG_Loss: 4.630030494203626 Top-5 Accuracy: 65.18847006651885 Batch_time: 0.9314513206481934s\n",
            "Epoch: 1/100 step: 2301/4532 Loss: 3.815366506576538 AVG_Loss: 4.605059588102506 Top-5 Accuracy: 66.10576923076923 Batch_time: 0.9313855171203613s\n",
            "Epoch: 1/100 step: 2401/4532 Loss: 4.095541000366211 AVG_Loss: 4.582617162498877 Top-5 Accuracy: 61.09725685785536 Batch_time: 0.9328036308288574s\n",
            "Epoch: 1/100 step: 2501/4532 Loss: 4.081279754638672 AVG_Loss: 4.559898015905201 Top-5 Accuracy: 61.96868008948545 Batch_time: 0.9314742088317871s\n",
            "Epoch: 1/100 step: 2601/4532 Loss: 3.844517469406128 AVG_Loss: 4.539335539137968 Top-5 Accuracy: 63.88888888888889 Batch_time: 0.9314734935760498s\n",
            "Epoch: 1/100 step: 2701/4532 Loss: 3.9134323596954346 AVG_Loss: 4.519613718227652 Top-5 Accuracy: 64.26735218508998 Batch_time: 0.9294896125793457s\n",
            "Epoch: 1/100 step: 2801/4532 Loss: 3.905479907989502 AVG_Loss: 4.501465403800314 Top-5 Accuracy: 63.392857142857146 Batch_time: 0.9309897422790527s\n",
            "Epoch: 1/100 step: 2901/4532 Loss: 3.841545343399048 AVG_Loss: 4.48294993167089 Top-5 Accuracy: 64.73429951690821 Batch_time: 0.9329366683959961s\n",
            "Epoch: 1/100 step: 3001/4532 Loss: 3.6845242977142334 AVG_Loss: 4.465615841977377 Top-5 Accuracy: 65.27415143603133 Batch_time: 0.930976390838623s\n",
            "Epoch: 1/100 step: 3101/4532 Loss: 3.9234845638275146 AVG_Loss: 4.448955414852016 Top-5 Accuracy: 63.1236442516269 Batch_time: 0.9330804347991943s\n",
            "Epoch: 1/100 step: 3201/4532 Loss: 3.937230348587036 AVG_Loss: 4.4331591944587 Top-5 Accuracy: 62.46786632390745 Batch_time: 0.9316306114196777s\n",
            "Epoch: 1/100 step: 3301/4532 Loss: 3.9896435737609863 AVG_Loss: 4.4174523048464795 Top-5 Accuracy: 60.21739130434783 Batch_time: 0.9311988353729248s\n",
            "Epoch: 1/100 step: 3401/4532 Loss: 3.691368579864502 AVG_Loss: 4.402897643171342 Top-5 Accuracy: 66.7481662591687 Batch_time: 0.9325070381164551s\n",
            "Epoch: 1/100 step: 3501/4532 Loss: 4.094735622406006 AVG_Loss: 4.388124013298822 Top-5 Accuracy: 60.659898477157356 Batch_time: 0.9322474002838135s\n",
            "Epoch: 1/100 step: 3601/4532 Loss: 3.866941452026367 AVG_Loss: 4.373822733406833 Top-5 Accuracy: 63.970588235294116 Batch_time: 0.9347867965698242s\n",
            "Epoch: 1/100 step: 3701/4532 Loss: 3.6880998611450195 AVG_Loss: 4.359528107295785 Top-5 Accuracy: 66.81818181818181 Batch_time: 0.9327268600463867s\n",
            "Epoch: 1/100 step: 3801/4532 Loss: 3.7500674724578857 AVG_Loss: 4.346113173802897 Top-5 Accuracy: 64.8780487804878 Batch_time: 0.9322860240936279s\n",
            "Epoch: 1/100 step: 3901/4532 Loss: 4.065078258514404 AVG_Loss: 4.332776641981733 Top-5 Accuracy: 60.14492753623188 Batch_time: 0.9340815544128418s\n",
            "Epoch: 1/100 step: 4001/4532 Loss: 3.949950695037842 AVG_Loss: 4.320991258236438 Top-5 Accuracy: 60.475161987041034 Batch_time: 0.9315938949584961s\n",
            "Epoch: 1/100 step: 4101/4532 Loss: 3.4953510761260986 AVG_Loss: 4.3081542855728525 Top-5 Accuracy: 66.57894736842105 Batch_time: 0.9313652515411377s\n",
            "Epoch: 1/100 step: 4201/4532 Loss: 3.980872392654419 AVG_Loss: 4.295639520485035 Top-5 Accuracy: 60.888888888888886 Batch_time: 0.9382386207580566s\n",
            "Epoch: 1/100 step: 4301/4532 Loss: 3.8371787071228027 AVG_Loss: 4.283951177899766 Top-5 Accuracy: 63.72315035799522 Batch_time: 0.930701732635498s\n",
            "Epoch: 1/100 step: 4401/4532 Loss: 3.7164809703826904 AVG_Loss: 4.272806249786059 Top-5 Accuracy: 66.73773987206823 Batch_time: 0.9313187599182129s\n",
            "Epoch: 1/100 step: 4501/4532 Loss: 4.186453819274902 AVG_Loss: 4.261234079570863 Top-5 Accuracy: 59.16666666666667 Batch_time: 0.9343457221984863s\n",
            "['Bleu_1', 'Bleu_2', 'Bleu_3', 'Bleu_4'] [0.612924950953102, 0.3813758521838656, 0.22668468409490536, 0.13683700368548812]\n",
            "ROUGE_L 0.4771262770603278\n",
            "CIDEr 0.3819349227579872\n",
            "EVA LOSS: 3.764599133779118 TOP-5 Accuracy 64.35975520482563 BLEU-1 0.612924950953102 BLEU2 0.3813758521838656 BLEU3 0.22668468409490536 BLEU-4 0.13683700368548812 ROUGE_L 0.4771262770603278 CIDEr 0.3819349227579872\n",
            "Epoch: 2/100 step: 1/4532 Loss: 3.367675304412842 AVG_Loss: 3.367675304412842 Top-5 Accuracy: 70.6896551724138 Batch_time: 2.8633995056152344s\n",
            "Epoch: 2/100 step: 101/4532 Loss: 3.872727155685425 AVG_Loss: 3.660000059450032 Top-5 Accuracy: 64.01869158878505 Batch_time: 0.9325401782989502s\n",
            "Epoch: 2/100 step: 201/4532 Loss: 3.518428087234497 AVG_Loss: 3.6556878299111806 Top-5 Accuracy: 68.997668997669 Batch_time: 0.9326648712158203s\n",
            "Epoch: 2/100 step: 301/4532 Loss: 3.6795191764831543 AVG_Loss: 3.6635315997721674 Top-5 Accuracy: 64.7450110864745 Batch_time: 0.9311716556549072s\n",
            "Epoch: 2/100 step: 401/4532 Loss: 3.7741575241088867 AVG_Loss: 3.661102165655912 Top-5 Accuracy: 64.2691415313225 Batch_time: 0.9330489635467529s\n",
            "Epoch: 2/100 step: 501/4532 Loss: 3.5374717712402344 AVG_Loss: 3.652865643557387 Top-5 Accuracy: 64.67391304347825 Batch_time: 0.9299938678741455s\n",
            "Epoch: 2/100 step: 601/4532 Loss: 3.6433277130126953 AVG_Loss: 3.646348034096637 Top-5 Accuracy: 66.270783847981 Batch_time: 0.9325425624847412s\n",
            "Epoch: 2/100 step: 701/4532 Loss: 4.015603542327881 AVG_Loss: 3.641064415825012 Top-5 Accuracy: 61.55606407322655 Batch_time: 0.931725263595581s\n",
            "Epoch: 2/100 step: 801/4532 Loss: 3.4266111850738525 AVG_Loss: 3.637884850245744 Top-5 Accuracy: 70.18348623853211 Batch_time: 0.9335665702819824s\n",
            "Epoch: 2/100 step: 901/4532 Loss: 3.736029624938965 AVG_Loss: 3.6357061512102935 Top-5 Accuracy: 63.63636363636363 Batch_time: 0.9310288429260254s\n",
            "Epoch: 2/100 step: 1001/4532 Loss: 3.6834986209869385 AVG_Loss: 3.631864706309071 Top-5 Accuracy: 65.990990990991 Batch_time: 0.9332687854766846s\n",
            "Epoch: 2/100 step: 1101/4532 Loss: 3.55067777633667 AVG_Loss: 3.628261207923099 Top-5 Accuracy: 66.97247706422019 Batch_time: 0.9336841106414795s\n",
            "Epoch: 2/100 step: 1201/4532 Loss: 3.375458240509033 AVG_Loss: 3.626225850012455 Top-5 Accuracy: 68.76513317191284 Batch_time: 0.9334008693695068s\n",
            "Epoch: 2/100 step: 1301/4532 Loss: 3.7963359355926514 AVG_Loss: 3.621752422458993 Top-5 Accuracy: 65.31914893617021 Batch_time: 0.9324228763580322s\n",
            "Epoch: 2/100 step: 1401/4532 Loss: 3.75369930267334 AVG_Loss: 3.621186961961547 Top-5 Accuracy: 63.5 Batch_time: 0.9332494735717773s\n",
            "Epoch: 2/100 step: 1501/4532 Loss: 3.6804282665252686 AVG_Loss: 3.6180852823234395 Top-5 Accuracy: 63.33333333333333 Batch_time: 0.9314186573028564s\n",
            "Epoch: 2/100 step: 1601/4532 Loss: 3.6871936321258545 AVG_Loss: 3.6162902757052047 Top-5 Accuracy: 64.24731182795699 Batch_time: 0.9330663681030273s\n",
            "Epoch: 2/100 step: 1701/4532 Loss: 3.5901589393615723 AVG_Loss: 3.613710469472504 Top-5 Accuracy: 65.5 Batch_time: 0.9315829277038574s\n",
            "Epoch: 2/100 step: 1801/4532 Loss: 3.9994494915008545 AVG_Loss: 3.6108765317246823 Top-5 Accuracy: 61.24721603563475 Batch_time: 0.9349167346954346s\n",
            "Epoch: 2/100 step: 1901/4532 Loss: 3.756056070327759 AVG_Loss: 3.6089409485473634 Top-5 Accuracy: 60.348583877995644 Batch_time: 0.9347717761993408s\n",
            "Epoch: 2/100 step: 2001/4532 Loss: 3.634216070175171 AVG_Loss: 3.606125937259533 Top-5 Accuracy: 65.72769953051643 Batch_time: 0.9337894916534424s\n",
            "Epoch: 2/100 step: 2101/4532 Loss: 3.521876335144043 AVG_Loss: 3.604447102861466 Top-5 Accuracy: 67.3170731707317 Batch_time: 0.9312660694122314s\n",
            "Epoch: 2/100 step: 2201/4532 Loss: 3.552277088165283 AVG_Loss: 3.6025508290427863 Top-5 Accuracy: 65.58891454965358 Batch_time: 0.9315061569213867s\n",
            "Epoch: 2/100 step: 2301/4532 Loss: 3.627415418624878 AVG_Loss: 3.599459419949284 Top-5 Accuracy: 68.39506172839506 Batch_time: 0.9329659938812256s\n",
            "Epoch: 2/100 step: 2401/4532 Loss: 3.4610342979431152 AVG_Loss: 3.595363084124375 Top-5 Accuracy: 67.55555555555556 Batch_time: 0.9335343837738037s\n",
            "Epoch: 2/100 step: 2501/4532 Loss: 3.5212388038635254 AVG_Loss: 3.591771111309358 Top-5 Accuracy: 67.8646934460888 Batch_time: 0.9320068359375s\n",
            "Epoch: 2/100 step: 2601/4532 Loss: 3.5520238876342773 AVG_Loss: 3.5888432151423904 Top-5 Accuracy: 67.3076923076923 Batch_time: 0.9343376159667969s\n",
            "Epoch: 2/100 step: 2701/4532 Loss: 3.1979868412017822 AVG_Loss: 3.58485799628656 Top-5 Accuracy: 72.8395061728395 Batch_time: 0.9329495429992676s\n",
            "Epoch: 2/100 step: 2801/4532 Loss: 3.497176170349121 AVG_Loss: 3.581254788419385 Top-5 Accuracy: 69.01041666666667 Batch_time: 0.9314472675323486s\n",
            "Epoch: 2/100 step: 2901/4532 Loss: 3.125216484069824 AVG_Loss: 3.5783422555627595 Top-5 Accuracy: 72.35142118863048 Batch_time: 0.9356234073638916s\n",
            "Epoch: 2/100 step: 3001/4532 Loss: 3.42386794090271 AVG_Loss: 3.5755347607665278 Top-5 Accuracy: 67.77777777777777 Batch_time: 0.9322624206542969s\n",
            "Epoch: 2/100 step: 3101/4532 Loss: 3.7760963439941406 AVG_Loss: 3.572911519137112 Top-5 Accuracy: 63.8676844783715 Batch_time: 0.931251049041748s\n",
            "Epoch: 2/100 step: 3201/4532 Loss: 3.248220205307007 AVG_Loss: 3.5700907571007265 Top-5 Accuracy: 73.50835322195704 Batch_time: 0.9330465793609619s\n",
            "Epoch: 2/100 step: 3301/4532 Loss: 3.5864484310150146 AVG_Loss: 3.56694891381225 Top-5 Accuracy: 65.19823788546255 Batch_time: 0.9326891899108887s\n",
            "Epoch: 2/100 step: 3401/4532 Loss: 3.53314471244812 AVG_Loss: 3.5648033802395944 Top-5 Accuracy: 66.22807017543859 Batch_time: 0.9345741271972656s\n",
            "Epoch: 2/100 step: 3501/4532 Loss: 3.349879026412964 AVG_Loss: 3.5614791985745153 Top-5 Accuracy: 70.58823529411765 Batch_time: 0.9302575588226318s\n",
            "Epoch: 2/100 step: 3601/4532 Loss: 3.4758198261260986 AVG_Loss: 3.559154936749476 Top-5 Accuracy: 67.71300448430493 Batch_time: 0.9323024749755859s\n",
            "Epoch: 2/100 step: 3701/4532 Loss: 3.908031940460205 AVG_Loss: 3.556407685068947 Top-5 Accuracy: 60.046728971962615 Batch_time: 0.9324841499328613s\n",
            "Epoch: 2/100 step: 3801/4532 Loss: 3.621438503265381 AVG_Loss: 3.5546745877253945 Top-5 Accuracy: 64.2156862745098 Batch_time: 0.9333779811859131s\n",
            "Epoch: 2/100 step: 3901/4532 Loss: 3.564255952835083 AVG_Loss: 3.551949900989946 Top-5 Accuracy: 69.79695431472081 Batch_time: 0.9331355094909668s\n",
            "Epoch: 2/100 step: 4001/4532 Loss: 3.7060234546661377 AVG_Loss: 3.548836281716908 Top-5 Accuracy: 65.16587677725119 Batch_time: 0.9312257766723633s\n",
            "Epoch: 2/100 step: 4101/4532 Loss: 3.725456476211548 AVG_Loss: 3.5468694554094915 Top-5 Accuracy: 64.3956043956044 Batch_time: 0.9321458339691162s\n",
            "Epoch: 2/100 step: 4201/4532 Loss: 3.664877414703369 AVG_Loss: 3.544488604848059 Top-5 Accuracy: 63.982102908277405 Batch_time: 0.9336063861846924s\n",
            "Epoch: 2/100 step: 4301/4532 Loss: 3.2286815643310547 AVG_Loss: 3.541901646433861 Top-5 Accuracy: 72.76785714285715 Batch_time: 0.934307336807251s\n",
            "Epoch: 2/100 step: 4401/4532 Loss: 3.7897982597351074 AVG_Loss: 3.5394387097635414 Top-5 Accuracy: 63.1578947368421 Batch_time: 0.9379405975341797s\n",
            "Epoch: 2/100 step: 4501/4532 Loss: 3.2513835430145264 AVG_Loss: 3.5358911480676993 Top-5 Accuracy: 71.39479905437352 Batch_time: 0.9322705268859863s\n",
            "['Bleu_1', 'Bleu_2', 'Bleu_3', 'Bleu_4'] [0.6339638663582139, 0.4048518311369864, 0.24682524014597956, 0.15168311193583614]\n",
            "ROUGE_L 0.4879606734761554\n",
            "CIDEr 0.4439595678513829\n",
            "EVA LOSS: 3.5530566079302877 TOP-5 Accuracy 66.80185060466751 BLEU-1 0.6339638663582139 BLEU2 0.4048518311369864 BLEU3 0.24682524014597956 BLEU-4 0.15168311193583614 ROUGE_L 0.4879606734761554 CIDEr 0.4439595678513829\n",
            "Epoch: 3/100 step: 1/4532 Loss: 3.449666976928711 AVG_Loss: 3.449666976928711 Top-5 Accuracy: 70.17543859649122 Batch_time: 3.2710537910461426s\n",
            "Epoch: 3/100 step: 101/4532 Loss: 3.4823801517486572 AVG_Loss: 3.270782088466309 Top-5 Accuracy: 68.91891891891892 Batch_time: 0.9332680702209473s\n",
            "Epoch: 3/100 step: 201/4532 Loss: 3.200697660446167 AVG_Loss: 3.2795951807585157 Top-5 Accuracy: 69.41747572815534 Batch_time: 0.9346168041229248s\n",
            "Epoch: 3/100 step: 301/4532 Loss: 3.1690056324005127 AVG_Loss: 3.2790878652610482 Top-5 Accuracy: 73.3173076923077 Batch_time: 0.9312295913696289s\n",
            "Epoch: 3/100 step: 401/4532 Loss: 2.956151008605957 AVG_Loss: 3.2775814385947872 Top-5 Accuracy: 74.44717444717445 Batch_time: 0.9336843490600586s\n",
            "Epoch: 3/100 step: 501/4532 Loss: 3.3901400566101074 AVG_Loss: 3.2869400517290606 Top-5 Accuracy: 71.35678391959799 Batch_time: 0.9351513385772705s\n",
            "Epoch: 3/100 step: 601/4532 Loss: 3.430551767349243 AVG_Loss: 3.2880666851402034 Top-5 Accuracy: 69.05311778290992 Batch_time: 0.9328017234802246s\n",
            "Epoch: 3/100 step: 701/4532 Loss: 3.107956886291504 AVG_Loss: 3.2837144279959896 Top-5 Accuracy: 72.39709443099274 Batch_time: 0.931135892868042s\n",
            "Epoch: 3/100 step: 801/4532 Loss: 3.247392416000366 AVG_Loss: 3.28252811663544 Top-5 Accuracy: 71.67755991285404 Batch_time: 0.9339578151702881s\n",
            "Epoch: 3/100 step: 901/4532 Loss: 3.345618963241577 AVG_Loss: 3.2840642833495273 Top-5 Accuracy: 69.05829596412556 Batch_time: 0.9342136383056641s\n",
            "Epoch: 3/100 step: 1001/4532 Loss: 3.135373830795288 AVG_Loss: 3.2792911111250462 Top-5 Accuracy: 72.97297297297297 Batch_time: 0.9348762035369873s\n",
            "Epoch: 3/100 step: 1101/4532 Loss: 3.281722068786621 AVG_Loss: 3.280324084886841 Top-5 Accuracy: 69.61722488038278 Batch_time: 0.9341526031494141s\n",
            "Epoch: 3/100 step: 1201/4532 Loss: 3.115650177001953 AVG_Loss: 3.2825544451857915 Top-5 Accuracy: 72.84946236559139 Batch_time: 0.9317190647125244s\n",
            "Epoch: 3/100 step: 1301/4532 Loss: 3.2043046951293945 AVG_Loss: 3.278687144671733 Top-5 Accuracy: 71.42857142857143 Batch_time: 0.9329714775085449s\n",
            "Epoch: 3/100 step: 1401/4532 Loss: 3.3387811183929443 AVG_Loss: 3.2764758735346997 Top-5 Accuracy: 69.1415313225058 Batch_time: 0.9312188625335693s\n",
            "Epoch: 3/100 step: 1501/4532 Loss: 3.4105868339538574 AVG_Loss: 3.274502203464978 Top-5 Accuracy: 69.59619952494062 Batch_time: 0.9328384399414062s\n",
            "Epoch: 3/100 step: 1601/4532 Loss: 3.3109753131866455 AVG_Loss: 3.272441949021456 Top-5 Accuracy: 68.34862385321101 Batch_time: 0.930504560470581s\n",
            "Epoch: 3/100 step: 1701/4532 Loss: 3.3181965351104736 AVG_Loss: 3.2729583292571025 Top-5 Accuracy: 71.24352331606217 Batch_time: 0.9328601360321045s\n",
            "Epoch: 3/100 step: 1801/4532 Loss: 3.2236030101776123 AVG_Loss: 3.2705436027506725 Top-5 Accuracy: 71.49643705463183 Batch_time: 0.9352414608001709s\n",
            "Epoch: 3/100 step: 1901/4532 Loss: 3.15299391746521 AVG_Loss: 3.2693109723311213 Top-5 Accuracy: 73.71937639198218 Batch_time: 0.9319591522216797s\n"
          ]
        }
      ]
    },
    {
      "cell_type": "code",
      "source": [
        ""
      ],
      "metadata": {
        "id": "JMsf-uQAvOwv"
      },
      "execution_count": null,
      "outputs": []
    }
  ]
}