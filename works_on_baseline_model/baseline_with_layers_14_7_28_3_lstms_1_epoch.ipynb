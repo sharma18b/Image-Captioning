{
  "nbformat": 4,
  "nbformat_minor": 0,
  "metadata": {
    "colab": {
      "name": "baseline with 14 7 28 3 lstms 1 epoch.ipynb",
      "provenance": [],
      "authorship_tag": "ABX9TyOptxrgjX75Mpt6Wye2/Jtd",
      "include_colab_link": true
    },
    "kernelspec": {
      "name": "python3",
      "display_name": "Python 3"
    },
    "language_info": {
      "name": "python"
    },
    "accelerator": "GPU"
  },
  "cells": [
    {
      "cell_type": "markdown",
      "metadata": {
        "id": "view-in-github",
        "colab_type": "text"
      },
      "source": [
        "<a href=\"https://colab.research.google.com/github/sharma18b/Image-Captioning/blob/main/works_on_baseline_model/baseline_with_layers_14_7_28_3_lstms_1_epoch.ipynb\" target=\"_parent\"><img src=\"https://colab.research.google.com/assets/colab-badge.svg\" alt=\"Open In Colab\"/></a>"
      ]
    },
    {
      "cell_type": "code",
      "execution_count": 1,
      "metadata": {
        "colab": {
          "base_uri": "https://localhost:8080/"
        },
        "id": "gpSCSaha6ngA",
        "outputId": "db58a447-9849-4bd1-a80d-45f8554edbdc"
      },
      "outputs": [
        {
          "output_type": "stream",
          "name": "stdout",
          "text": [
            "Warning: Your Kaggle API key is readable by other users on this system! To fix this, you can run 'chmod 600 /content/kaggle.json'\n",
            "Downloading baseline.zip to /content\n",
            "100% 4.78G/4.79G [00:45<00:00, 120MB/s]\n",
            "100% 4.79G/4.79G [00:45<00:00, 113MB/s]\n"
          ]
        }
      ],
      "source": [
        "import os\n",
        "os.environ['KAGGLE_CONFIG_DIR']='/content/'\n",
        "!kaggle datasets download -d 'rishisharma18/baseline'"
      ]
    },
    {
      "cell_type": "code",
      "source": [
        "!unzip baseline.zip"
      ],
      "metadata": {
        "colab": {
          "base_uri": "https://localhost:8080/"
        },
        "id": "9bJBU7AB7JsU",
        "outputId": "629289a7-d20d-4a64-dfdc-d09fdd7938db"
      },
      "execution_count": 2,
      "outputs": [
        {
          "output_type": "stream",
          "name": "stdout",
          "text": [
            "Archive:  baseline.zip\n",
            "  inflating: Image-Caption/caption.py  \n",
            "  inflating: Image-Caption/create_input_files.py  \n",
            "  inflating: Image-Caption/dataset/dataset_flickr30k.json  \n",
            "  inflating: Image-Caption/dataset/generated_data/TEST_CAPLENS_flickr30k_5_cap_per_img_5_min_word_freq.json  \n",
            "  inflating: Image-Caption/dataset/generated_data/TEST_CAPTIONS_flickr30k_5_cap_per_img_5_min_word_freq.json  \n",
            "  inflating: Image-Caption/dataset/generated_data/TEST_IMAGES_flickr30k_5_cap_per_img_5_min_word_freq.hdf5  \n",
            "  inflating: Image-Caption/dataset/generated_data/TRAIN_CAPLENS_flickr30k_5_cap_per_img_5_min_word_freq.json  \n",
            "  inflating: Image-Caption/dataset/generated_data/TRAIN_CAPTIONS_flickr30k_5_cap_per_img_5_min_word_freq.json  \n",
            "  inflating: Image-Caption/dataset/generated_data/TRAIN_IMAGES_flickr30k_5_cap_per_img_5_min_word_freq.hdf5  \n",
            "  inflating: Image-Caption/dataset/generated_data/VAL_CAPLENS_flickr30k_5_cap_per_img_5_min_word_freq.json  \n",
            "  inflating: Image-Caption/dataset/generated_data/VAL_CAPTIONS_flickr30k_5_cap_per_img_5_min_word_freq.json  \n",
            "  inflating: Image-Caption/dataset/generated_data/VAL_IMAGES_flickr30k_5_cap_per_img_5_min_word_freq.hdf5  \n",
            "  inflating: Image-Caption/dataset/generated_data/WORDMAP_flickr30k_5_cap_per_img_5_min_word_freq.json  \n",
            "  inflating: Image-Caption/datasets.py  \n",
            "  inflating: Image-Caption/eval.py   \n",
            "  inflating: Image-Caption/eval_func/bleu/LICENSE  \n",
            "  inflating: Image-Caption/eval_func/bleu/__init__.py  \n",
            "  inflating: Image-Caption/eval_func/bleu/bleu.py  \n",
            "  inflating: Image-Caption/eval_func/bleu/bleu_scorer.py  \n",
            "  inflating: Image-Caption/eval_func/cider/__init__.py  \n",
            "  inflating: Image-Caption/eval_func/cider/cider.py  \n",
            "  inflating: Image-Caption/eval_func/cider/cider_scorer.py  \n",
            "  inflating: Image-Caption/eval_func/meteor/__init__.py  \n",
            "  inflating: Image-Caption/eval_func/meteor/data/paraphrase-en-clean  \n",
            "  inflating: Image-Caption/eval_func/meteor/meteor-1.5.jar  \n",
            "  inflating: Image-Caption/eval_func/meteor/meteor.py  \n",
            "  inflating: Image-Caption/eval_func/rouge/__init__.py  \n",
            "  inflating: Image-Caption/eval_func/rouge/rouge.py  \n",
            "  inflating: Image-Caption/img/1.png  \n",
            "  inflating: Image-Caption/img/2.png  \n",
            "  inflating: Image-Caption/img/3.png  \n",
            "  inflating: Image-Caption/img/4.png  \n",
            "  inflating: Image-Caption/img/5.png  \n",
            "  inflating: Image-Caption/img/6.png  \n",
            "  inflating: Image-Caption/img/7.png  \n",
            "  inflating: Image-Caption/img/8.png  \n",
            "  inflating: Image-Caption/img/error_repeat.png  \n",
            "  inflating: Image-Caption/models.py  \n",
            "  inflating: Image-Caption/train.py  \n",
            "  inflating: Image-Caption/transformer.py  \n",
            "  inflating: Image-Caption/utils.py  \n"
          ]
        }
      ]
    },
    {
      "cell_type": "code",
      "source": [
        "cd Image-Caption/"
      ],
      "metadata": {
        "colab": {
          "base_uri": "https://localhost:8080/"
        },
        "id": "8NiDdX_G7m_t",
        "outputId": "4e4a7e12-de89-4551-8dd6-5400d2927245"
      },
      "execution_count": 3,
      "outputs": [
        {
          "output_type": "stream",
          "name": "stdout",
          "text": [
            "/content/Image-Caption\n"
          ]
        }
      ]
    },
    {
      "cell_type": "code",
      "source": [
        "ls"
      ],
      "metadata": {
        "colab": {
          "base_uri": "https://localhost:8080/"
        },
        "id": "W0CRUg-k-8v_",
        "outputId": "0a567fe7-3a04-41a0-be8d-9a3562651e53"
      },
      "execution_count": 4,
      "outputs": [
        {
          "output_type": "stream",
          "name": "stdout",
          "text": [
            "caption.py             datasets.py  \u001b[0m\u001b[01;34mimg\u001b[0m/       transformer.py\n",
            "create_input_files.py  \u001b[01;34meval_func\u001b[0m/   models.py  utils.py\n",
            "\u001b[01;34mdataset\u001b[0m/               eval.py      train.py\n"
          ]
        }
      ]
    },
    {
      "cell_type": "code",
      "source": [
        "!python train.py"
      ],
      "metadata": {
        "colab": {
          "base_uri": "https://localhost:8080/"
        },
        "id": "JCz4YMkD-94M",
        "outputId": "b22844de-a23f-49c2-9d5d-31dda47ed2ec"
      },
      "execution_count": null,
      "outputs": [
        {
          "output_type": "stream",
          "name": "stdout",
          "text": [
            "cuda\n",
            "Epoch: 1/100 step: 1/4532 Loss-A: 9.41429615020752 Loss-B: 9.739591598510742 Loss-C: 9.780949592590332 Loss-AB: -81.28703308105469 Loss-BC: -105.45591735839844 Loss-CA: 17.7186279296875 AVG_Loss_A: 9.41429615020752 AVG_Loss_B: 9.739591598510742 AVG_Loss_C: 9.780949592590332 Top-5 Accuracy_A: 0.0 Top-5 Accuracy_B: 0.0 Top-5 Accuracy_C: 0.45351473922902497 Batch_time: 5.74800968170166s\n",
            "Epoch: 1/100 step: 101/4532 Loss-A: 6.038191318511963 Loss-B: 6.355618953704834 Loss-C: 6.478610992431641 Loss-AB: -130662.84375 Loss-BC: -135579.140625 Loss-CA: -133279.625 AVG_Loss_A: 6.75108979327001 AVG_Loss_B: 7.094764624464089 AVG_Loss_C: 7.168542710733536 Top-5 Accuracy_A: 35.476190476190474 Top-5 Accuracy_B: 33.57142857142857 Top-5 Accuracy_C: 32.857142857142854 Batch_time: 3.3342814445495605s\n",
            "Epoch: 1/100 step: 201/4532 Loss-A: 6.067112445831299 Loss-B: 6.442591667175293 Loss-C: 6.5176310539245605 Loss-AB: -175157.21875 Loss-BC: -177693.3125 Loss-CA: -176534.6875 AVG_Loss_A: 6.352011130711232 AVG_Loss_B: 6.687995876431875 AVG_Loss_C: 6.775638982707673 Top-5 Accuracy_A: 32.8159645232816 Top-5 Accuracy_B: 33.924611973392466 Top-5 Accuracy_C: 33.924611973392466 Batch_time: 3.2018816471099854s\n",
            "Epoch: 1/100 step: 301/4532 Loss-A: 5.641868591308594 Loss-B: 5.982755184173584 Loss-C: 6.100088119506836 Loss-AB: -190030.265625 Loss-BC: -191924.25 Loss-CA: -191748.390625 AVG_Loss_A: 6.16163278027956 AVG_Loss_B: 6.49847497600411 AVG_Loss_C: 6.588003478332943 Top-5 Accuracy_A: 33.33333333333333 Top-5 Accuracy_B: 35.33333333333333 Top-5 Accuracy_C: 34.44444444444444 Batch_time: 3.2853329181671143s\n",
            "Epoch: 1/100 step: 401/4532 Loss-A: 5.40294885635376 Loss-B: 5.7709431648254395 Loss-C: 5.823459148406982 Loss-AB: -192633.375 Loss-BC: -196576.28125 Loss-CA: -195867.3125 AVG_Loss_A: 6.029819110030967 AVG_Loss_B: 6.365172467997209 AVG_Loss_C: 6.456495587299307 Top-5 Accuracy_A: 40.3598971722365 Top-5 Accuracy_B: 37.789203084832906 Top-5 Accuracy_C: 39.33161953727506 Batch_time: 2.9407076835632324s\n",
            "Epoch: 1/100 step: 501/4532 Loss-A: 5.688644886016846 Loss-B: 6.0103583335876465 Loss-C: 6.106084823608398 Loss-AB: -202689.953125 Loss-BC: -204464.21875 Loss-CA: -202882.671875 AVG_Loss_A: 5.919226022803788 AVG_Loss_B: 6.25462692142653 AVG_Loss_C: 6.34602262973674 Top-5 Accuracy_A: 40.625 Top-5 Accuracy_B: 40.848214285714285 Top-5 Accuracy_C: 41.07142857142858 Batch_time: 3.2120912075042725s\n",
            "Epoch: 1/100 step: 601/4532 Loss-A: 5.384194374084473 Loss-B: 5.713368892669678 Loss-C: 5.7771759033203125 Loss-AB: -200476.609375 Loss-BC: -203580.53125 Loss-CA: -203077.40625 AVG_Loss_A: 5.833334509520363 AVG_Loss_B: 6.168181763691757 AVG_Loss_C: 6.2601068709404535 Top-5 Accuracy_A: 43.02884615384615 Top-5 Accuracy_B: 43.75 Top-5 Accuracy_C: 44.71153846153846 Batch_time: 3.025461196899414s\n",
            "Epoch: 1/100 step: 701/4532 Loss-A: 5.35978889465332 Loss-B: 5.714139938354492 Loss-C: 5.7759246826171875 Loss-AB: -197911.0625 Loss-BC: -203600.453125 Loss-CA: -201853.015625 AVG_Loss_A: 5.7491871064760485 AVG_Loss_B: 6.084794744765278 AVG_Loss_C: 6.177344197497042 Top-5 Accuracy_A: 41.0 Top-5 Accuracy_B: 40.75 Top-5 Accuracy_C: 41.75 Batch_time: 2.9764418601989746s\n",
            "Epoch: 1/100 step: 801/4532 Loss-A: 5.601134300231934 Loss-B: 5.863772869110107 Loss-C: 5.95075798034668 Loss-AB: -205002.140625 Loss-BC: -209615.6875 Loss-CA: -207466.40625 AVG_Loss_A: 5.677731480567775 AVG_Loss_B: 6.012829925256733 AVG_Loss_C: 6.106378211070203 Top-5 Accuracy_A: 45.45454545454545 Top-5 Accuracy_B: 45.73002754820937 Top-5 Accuracy_C: 44.35261707988981 Batch_time: 2.813579797744751s\n",
            "Epoch: 1/100 step: 901/4532 Loss-A: 4.806217193603516 Loss-B: 5.147458076477051 Loss-C: 5.225500106811523 Loss-AB: -201763.0625 Loss-BC: -206753.609375 Loss-CA: -202419.234375 AVG_Loss_A: 5.61307229141415 AVG_Loss_B: 5.947174369317913 AVG_Loss_C: 6.041670771661211 Top-5 Accuracy_A: 48.958333333333336 Top-5 Accuracy_B: 51.458333333333336 Top-5 Accuracy_C: 51.25 Batch_time: 3.3313164710998535s\n",
            "Epoch: 1/100 step: 1001/4532 Loss-A: 4.899575233459473 Loss-B: 5.2283525466918945 Loss-C: 5.358433246612549 Loss-AB: -208669.765625 Loss-BC: -213258.40625 Loss-CA: -208613.0 AVG_Loss_A: 5.550089945187173 AVG_Loss_B: 5.883706674384021 AVG_Loss_C: 5.97926300244248 Top-5 Accuracy_A: 49.137931034482754 Top-5 Accuracy_B: 50.21551724137931 Top-5 Accuracy_C: 48.060344827586206 Batch_time: 3.267328977584839s\n",
            "Epoch: 1/100 step: 1101/4532 Loss-A: 5.068759918212891 Loss-B: 5.387583255767822 Loss-C: 5.474300384521484 Loss-AB: -196845.34375 Loss-BC: -201809.109375 Loss-CA: -200188.8125 AVG_Loss_A: 5.4983646876378955 AVG_Loss_B: 5.830785191285922 AVG_Loss_C: 5.927139932013543 Top-5 Accuracy_A: 48.01980198019802 Top-5 Accuracy_B: 47.277227722772274 Top-5 Accuracy_C: 47.524752475247524 Batch_time: 3.104302406311035s\n",
            "Epoch: 1/100 step: 1201/4532 Loss-A: 4.687694549560547 Loss-B: 4.989344596862793 Loss-C: 5.109482288360596 Loss-AB: -201314.75 Loss-BC: -204370.34375 Loss-CA: -203026.609375 AVG_Loss_A: 5.449991748031074 AVG_Loss_B: 5.78113164734498 AVG_Loss_C: 5.877840492488306 Top-5 Accuracy_A: 52.84974093264248 Top-5 Accuracy_B: 53.36787564766839 Top-5 Accuracy_C: 52.07253886010362 Batch_time: 2.9817545413970947s\n",
            "Epoch: 1/100 step: 1301/4532 Loss-A: 4.818755149841309 Loss-B: 5.161431312561035 Loss-C: 5.256335258483887 Loss-AB: -202517.734375 Loss-BC: -207089.703125 Loss-CA: -205437.546875 AVG_Loss_A: 5.4042830993897 AVG_Loss_B: 5.734440293693866 AVG_Loss_C: 5.831518712049274 Top-5 Accuracy_A: 49.01098901098901 Top-5 Accuracy_B: 47.472527472527474 Top-5 Accuracy_C: 49.01098901098901 Batch_time: 3.346937656402588s\n",
            "Epoch: 1/100 step: 1401/4532 Loss-A: 4.6183180809021 Loss-B: 4.94881010055542 Loss-C: 5.057896137237549 Loss-AB: -199914.125 Loss-BC: -206903.609375 Loss-CA: -204145.1875 AVG_Loss_A: 5.363697360530677 AVG_Loss_B: 5.69268319227998 AVG_Loss_C: 5.79046885397868 Top-5 Accuracy_A: 52.093023255813954 Top-5 Accuracy_B: 53.02325581395349 Top-5 Accuracy_C: 51.627906976744185 Batch_time: 3.227088689804077s\n",
            "Epoch: 1/100 step: 1501/4532 Loss-A: 5.120213031768799 Loss-B: 5.443790912628174 Loss-C: 5.523534774780273 Loss-AB: -197987.3125 Loss-BC: -202052.875 Loss-CA: -200118.765625 AVG_Loss_A: 5.326804414705695 AVG_Loss_B: 5.6552102971972085 AVG_Loss_C: 5.7532959678462605 Top-5 Accuracy_A: 47.25536992840095 Top-5 Accuracy_B: 45.584725536992835 Top-5 Accuracy_C: 45.82338902147971 Batch_time: 3.104858875274658s\n",
            "Epoch: 1/100 step: 1601/4532 Loss-A: 4.840449333190918 Loss-B: 5.110889911651611 Loss-C: 5.20856237411499 Loss-AB: -198130.703125 Loss-BC: -202666.140625 Loss-CA: -202589.171875 AVG_Loss_A: 5.289074604705549 AVG_Loss_B: 5.61656538696877 AVG_Loss_C: 5.715033934627233 Top-5 Accuracy_A: 48.35680751173709 Top-5 Accuracy_B: 48.12206572769953 Top-5 Accuracy_C: 47.652582159624416 Batch_time: 3.339304208755493s\n",
            "Epoch: 1/100 step: 1701/4532 Loss-A: 4.737588405609131 Loss-B: 5.058544158935547 Loss-C: 5.15693998336792 Loss-AB: -192196.34375 Loss-BC: -198524.21875 Loss-CA: -196843.78125 AVG_Loss_A: 5.256733225577894 AVG_Loss_B: 5.582960799357892 AVG_Loss_C: 5.682033589777639 Top-5 Accuracy_A: 50.717703349282296 Top-5 Accuracy_B: 51.67464114832536 Top-5 Accuracy_C: 52.63157894736842 Batch_time: 3.0967423915863037s\n",
            "Epoch: 1/100 step: 1801/4532 Loss-A: 4.463397979736328 Loss-B: 4.76737642288208 Loss-C: 4.814919471740723 Loss-AB: -191097.25 Loss-BC: -194849.359375 Loss-CA: -193956.078125 AVG_Loss_A: 5.224176812956924 AVG_Loss_B: 5.549570696713596 AVG_Loss_C: 5.6490434018050495 Top-5 Accuracy_A: 56.04938271604938 Top-5 Accuracy_B: 56.79012345679012 Top-5 Accuracy_C: 57.53086419753086 Batch_time: 3.0538992881774902s\n",
            "Epoch: 1/100 step: 1901/4532 Loss-A: 4.743834495544434 Loss-B: 5.061413764953613 Loss-C: 5.086119174957275 Loss-AB: -192666.09375 Loss-BC: -197009.34375 Loss-CA: -193574.375 AVG_Loss_A: 5.192467880144764 AVG_Loss_B: 5.5172206216808455 AVG_Loss_C: 5.616998581638189 Top-5 Accuracy_A: 54.09836065573771 Top-5 Accuracy_B: 53.278688524590166 Top-5 Accuracy_C: 54.644808743169406 Batch_time: 2.8373963832855225s\n",
            "Epoch: 1/100 step: 2001/4532 Loss-A: 4.6180243492126465 Loss-B: 4.959080696105957 Loss-C: 5.07675838470459 Loss-AB: -185046.234375 Loss-BC: -190739.546875 Loss-CA: -188987.984375 AVG_Loss_A: 5.163746987249183 AVG_Loss_B: 5.487750382899162 AVG_Loss_C: 5.587853973811187 Top-5 Accuracy_A: 48.218527315914486 Top-5 Accuracy_B: 50.5938242280285 Top-5 Accuracy_C: 50.8313539192399 Batch_time: 3.0781431198120117s\n",
            "Epoch: 1/100 step: 2101/4532 Loss-A: 4.8787641525268555 Loss-B: 5.198305606842041 Loss-C: 5.336452960968018 Loss-AB: -191633.9375 Loss-BC: -195217.0625 Loss-CA: -193790.828125 AVG_Loss_A: 5.136288391009428 AVG_Loss_B: 5.459593226079872 AVG_Loss_C: 5.559957556594251 Top-5 Accuracy_A: 48.728813559322035 Top-5 Accuracy_B: 47.88135593220339 Top-5 Accuracy_C: 48.728813559322035 Batch_time: 3.316288471221924s\n",
            "Epoch: 1/100 step: 2201/4532 Loss-A: 4.345978736877441 Loss-B: 4.663416862487793 Loss-C: 4.762914657592773 Loss-AB: -192551.453125 Loss-BC: -196839.609375 Loss-CA: -194347.8125 AVG_Loss_A: 5.109652058320938 AVG_Loss_B: 5.432455300717444 AVG_Loss_C: 5.532700691357047 Top-5 Accuracy_A: 55.38461538461539 Top-5 Accuracy_B: 54.285714285714285 Top-5 Accuracy_C: 54.285714285714285 Batch_time: 3.2632791996002197s\n",
            "Epoch: 1/100 step: 2301/4532 Loss-A: 4.065975666046143 Loss-B: 4.372628211975098 Loss-C: 4.497443675994873 Loss-AB: -197046.84375 Loss-BC: -200328.59375 Loss-CA: -198081.234375 AVG_Loss_A: 5.083767558790425 AVG_Loss_B: 5.4060234063221255 AVG_Loss_C: 5.50638348283853 Top-5 Accuracy_A: 58.239277652370205 Top-5 Accuracy_B: 59.36794582392776 Top-5 Accuracy_C: 57.56207674943567 Batch_time: 3.217095136642456s\n",
            "Epoch: 1/100 step: 2401/4532 Loss-A: 4.653710842132568 Loss-B: 5.020272254943848 Loss-C: 5.101498603820801 Loss-AB: -194091.890625 Loss-BC: -197487.96875 Loss-CA: -197286.953125 AVG_Loss_A: 5.059637357688232 AVG_Loss_B: 5.381252838430263 AVG_Loss_C: 5.481888064494368 Top-5 Accuracy_A: 52.84552845528455 Top-5 Accuracy_B: 53.048780487804876 Top-5 Accuracy_C: 52.235772357723576 Batch_time: 3.4438579082489014s\n",
            "Epoch: 1/100 step: 2501/4532 Loss-A: 4.590829372406006 Loss-B: 4.884627819061279 Loss-C: 5.005885124206543 Loss-AB: -190962.21875 Loss-BC: -195496.265625 Loss-CA: -190774.09375 AVG_Loss_A: 5.037829435332181 AVG_Loss_B: 5.358883527361855 AVG_Loss_C: 5.459468160713025 Top-5 Accuracy_A: 52.22929936305733 Top-5 Accuracy_B: 53.92781316348196 Top-5 Accuracy_C: 53.07855626326964 Batch_time: 3.3264715671539307s\n",
            "Epoch: 1/100 step: 2601/4532 Loss-A: 4.5814080238342285 Loss-B: 4.849864482879639 Loss-C: 4.996138572692871 Loss-AB: -187843.03125 Loss-BC: -193586.515625 Loss-CA: -190973.984375 AVG_Loss_A: 5.016752288952567 AVG_Loss_B: 5.337263410870906 AVG_Loss_C: 5.438003004444553 Top-5 Accuracy_A: 54.187192118226605 Top-5 Accuracy_B: 54.679802955665025 Top-5 Accuracy_C: 54.433497536945815 Batch_time: 3.0450491905212402s\n",
            "Epoch: 1/100 step: 2701/4532 Loss-A: 4.197728157043457 Loss-B: 4.475785255432129 Loss-C: 4.580822467803955 Loss-AB: -193716.4375 Loss-BC: -197746.28125 Loss-CA: -199149.65625 AVG_Loss_A: 4.996476815378011 AVG_Loss_B: 5.316428627169417 AVG_Loss_C: 5.417278163306433 Top-5 Accuracy_A: 57.10900473933649 Top-5 Accuracy_B: 58.056872037914694 Top-5 Accuracy_C: 57.58293838862559 Batch_time: 3.071291208267212s\n",
            "Epoch: 1/100 step: 2801/4532 Loss-A: 4.4992475509643555 Loss-B: 4.768301963806152 Loss-C: 4.893553733825684 Loss-AB: -194648.984375 Loss-BC: -198389.421875 Loss-CA: -197938.21875 AVG_Loss_A: 4.9760642543311535 AVG_Loss_B: 5.295742406769294 AVG_Loss_C: 5.396581282570163 Top-5 Accuracy_A: 53.588516746411486 Top-5 Accuracy_B: 53.82775119617225 Top-5 Accuracy_C: 54.78468899521531 Batch_time: 2.985131025314331s\n",
            "Epoch: 1/100 step: 2901/4532 Loss-A: 4.142070770263672 Loss-B: 4.464613914489746 Loss-C: 4.57722282409668 Loss-AB: -187413.3125 Loss-BC: -189416.40625 Loss-CA: -189880.875 AVG_Loss_A: 4.95811832573851 AVG_Loss_B: 5.277265272471101 AVG_Loss_C: 5.378295047082825 Top-5 Accuracy_A: 60.08492569002124 Top-5 Accuracy_B: 60.297239915074314 Top-5 Accuracy_C: 60.297239915074314 Batch_time: 3.3963701725006104s\n",
            "Epoch: 1/100 step: 3001/4532 Loss-A: 4.317229270935059 Loss-B: 4.628775596618652 Loss-C: 4.738395690917969 Loss-AB: -194512.71875 Loss-BC: -196671.234375 Loss-CA: -196958.84375 AVG_Loss_A: 4.938649939272202 AVG_Loss_B: 5.257417894653472 AVG_Loss_C: 5.358447730966754 Top-5 Accuracy_A: 56.57276995305164 Top-5 Accuracy_B: 57.74647887323944 Top-5 Accuracy_C: 57.74647887323944 Batch_time: 3.0628390312194824s\n",
            "Epoch: 1/100 step: 3101/4532 Loss-A: 4.256706714630127 Loss-B: 4.539050579071045 Loss-C: 4.667779445648193 Loss-AB: -192980.53125 Loss-BC: -195075.640625 Loss-CA: -193682.9375 AVG_Loss_A: 4.920505936730961 AVG_Loss_B: 5.23878625792844 AVG_Loss_C: 5.340052141828646 Top-5 Accuracy_A: 60.103626943005175 Top-5 Accuracy_B: 59.84455958549222 Top-5 Accuracy_C: 61.398963730569946 Batch_time: 2.9994962215423584s\n",
            "Epoch: 1/100 step: 3201/4532 Loss-A: 4.385438442230225 Loss-B: 4.707129001617432 Loss-C: 4.798532485961914 Loss-AB: -190135.0 Loss-BC: -192424.109375 Loss-CA: -190523.15625 AVG_Loss_A: 4.903865831664524 AVG_Loss_B: 5.22185813151029 AVG_Loss_C: 5.323342842799751 Top-5 Accuracy_A: 56.009070294784586 Top-5 Accuracy_B: 57.36961451247166 Top-5 Accuracy_C: 56.916099773242635 Batch_time: 3.1337482929229736s\n",
            "Epoch: 1/100 step: 3301/4532 Loss-A: 4.174850940704346 Loss-B: 4.491421699523926 Loss-C: 4.617484092712402 Loss-AB: -192478.796875 Loss-BC: -197827.703125 Loss-CA: -192775.703125 AVG_Loss_A: 4.886992963184901 AVG_Loss_B: 5.204569941046502 AVG_Loss_C: 5.306295394113388 Top-5 Accuracy_A: 60.666666666666664 Top-5 Accuracy_B: 59.33333333333333 Top-5 Accuracy_C: 59.33333333333333 Batch_time: 3.2017581462860107s\n",
            "Epoch: 1/100 step: 3401/4532 Loss-A: 4.474329471588135 Loss-B: 4.822958469390869 Loss-C: 4.982116222381592 Loss-AB: -189031.515625 Loss-BC: -192999.75 Loss-CA: -193766.21875 AVG_Loss_A: 4.871525558478098 AVG_Loss_B: 5.188893355126829 AVG_Loss_C: 5.290662669389181 Top-5 Accuracy_A: 54.56310679611651 Top-5 Accuracy_B: 54.95145631067961 Top-5 Accuracy_C: 56.116504854368934 Batch_time: 3.488267183303833s\n",
            "Epoch: 1/100 step: 3501/4532 Loss-A: 4.240103721618652 Loss-B: 4.568724632263184 Loss-C: 4.700080871582031 Loss-AB: -190806.21875 Loss-BC: -195023.484375 Loss-CA: -192187.453125 AVG_Loss_A: 4.856450748908877 AVG_Loss_B: 5.173462929283659 AVG_Loss_C: 5.275223982113827 Top-5 Accuracy_A: 55.23613963039014 Top-5 Accuracy_B: 57.289527720739216 Top-5 Accuracy_C: 56.468172484599584 Batch_time: 3.342546224594116s\n",
            "Epoch: 1/100 step: 3601/4532 Loss-A: 4.358879566192627 Loss-B: 4.6571855545043945 Loss-C: 4.745412349700928 Loss-AB: -193284.921875 Loss-BC: -198617.46875 Loss-CA: -196583.09375 AVG_Loss_A: 4.842002254815546 AVG_Loss_B: 5.15864233436192 AVG_Loss_C: 5.260576551965356 Top-5 Accuracy_A: 55.913978494623656 Top-5 Accuracy_B: 56.98924731182796 Top-5 Accuracy_C: 56.98924731182796 Batch_time: 3.5642428398132324s\n",
            "Epoch: 1/100 step: 3701/4532 Loss-A: 4.45564603805542 Loss-B: 4.751748085021973 Loss-C: 4.911495685577393 Loss-AB: -186563.21875 Loss-BC: -189641.125 Loss-CA: -189574.296875 AVG_Loss_A: 4.82879850618356 AVG_Loss_B: 5.145115006800624 AVG_Loss_C: 5.247231348075963 Top-5 Accuracy_A: 52.522935779816514 Top-5 Accuracy_B: 54.12844036697248 Top-5 Accuracy_C: 54.357798165137616 Batch_time: 3.1311795711517334s\n",
            "Epoch: 1/100 step: 3801/4532 Loss-A: 4.325799942016602 Loss-B: 4.594963550567627 Loss-C: 4.662237644195557 Loss-AB: -191811.078125 Loss-BC: -195141.890625 Loss-CA: -193626.8125 AVG_Loss_A: 4.815202110655815 AVG_Loss_B: 5.131155987970035 AVG_Loss_C: 5.23336631805931 Top-5 Accuracy_A: 57.10659898477157 Top-5 Accuracy_B: 59.64467005076142 Top-5 Accuracy_C: 57.868020304568525 Batch_time: 3.0027077198028564s\n",
            "Epoch: 1/100 step: 3901/4532 Loss-A: 4.493248462677002 Loss-B: 4.812671184539795 Loss-C: 4.900332927703857 Loss-AB: -186503.375 Loss-BC: -197784.75 Loss-CA: -192674.734375 AVG_Loss_A: 4.801730163774907 AVG_Loss_B: 5.117610158822066 AVG_Loss_C: 5.219818938154387 Top-5 Accuracy_A: 54.93975903614458 Top-5 Accuracy_B: 53.975903614457835 Top-5 Accuracy_C: 53.493975903614455 Batch_time: 3.1123247146606445s\n",
            "Epoch: 1/100 step: 4001/4532 Loss-A: 4.037558555603027 Loss-B: 4.317551136016846 Loss-C: 4.391955375671387 Loss-AB: -194248.953125 Loss-BC: -198511.0625 Loss-CA: -196755.71875 AVG_Loss_A: 4.787973141935391 AVG_Loss_B: 5.103569889839531 AVG_Loss_C: 5.205787621177132 Top-5 Accuracy_A: 62.96296296296296 Top-5 Accuracy_B: 62.169312169312164 Top-5 Accuracy_C: 61.37566137566137 Batch_time: 2.839035749435425s\n",
            "Epoch: 1/100 step: 4101/4532 Loss-A: 4.260754585266113 Loss-B: 4.560611724853516 Loss-C: 4.669003963470459 Loss-AB: -192890.140625 Loss-BC: -196269.734375 Loss-CA: -195064.21875 AVG_Loss_A: 4.775556026084753 AVG_Loss_B: 5.09082700259803 AVG_Loss_C: 5.193112750055227 Top-5 Accuracy_A: 56.25 Top-5 Accuracy_B: 57.93269230769231 Top-5 Accuracy_C: 56.49038461538462 Batch_time: 2.996403932571411s\n",
            "Epoch: 1/100 step: 4201/4532 Loss-A: 4.419652938842773 Loss-B: 4.738505840301514 Loss-C: 4.883977890014648 Loss-AB: -193680.0625 Loss-BC: -200269.015625 Loss-CA: -198563.46875 AVG_Loss_A: 4.7629444910451735 AVG_Loss_B: 5.077961886687478 AVG_Loss_C: 5.180301125306367 Top-5 Accuracy_A: 53.68663594470046 Top-5 Accuracy_B: 53.225806451612904 Top-5 Accuracy_C: 54.14746543778802 Batch_time: 3.123375654220581s\n",
            "Epoch: 1/100 step: 4301/4532 Loss-A: 4.61533260345459 Loss-B: 4.929331302642822 Loss-C: 5.04301643371582 Loss-AB: -191309.71875 Loss-BC: -194128.1875 Loss-CA: -194807.828125 AVG_Loss_A: 4.7508984462297335 AVG_Loss_B: 5.065588218744193 AVG_Loss_C: 5.167926364665442 Top-5 Accuracy_A: 50.91743119266055 Top-5 Accuracy_B: 51.37614678899083 Top-5 Accuracy_C: 51.14678899082569 Batch_time: 3.2643320560455322s\n",
            "Epoch: 1/100 step: 4401/4532 Loss-A: 4.1527862548828125 Loss-B: 4.478700160980225 Loss-C: 4.562633037567139 Loss-AB: -193938.21875 Loss-BC: -199580.90625 Loss-CA: -197729.640625 AVG_Loss_A: 4.73889767033434 AVG_Loss_B: 5.053391363042141 AVG_Loss_C: 5.155775238237391 Top-5 Accuracy_A: 59.05707196029777 Top-5 Accuracy_B: 59.30521091811415 Top-5 Accuracy_C: 57.5682382133995 Batch_time: 3.015469789505005s\n"
          ]
        }
      ]
    },
    {
      "cell_type": "code",
      "source": [
        ""
      ],
      "metadata": {
        "id": "XAgb0fWJ_AUo"
      },
      "execution_count": null,
      "outputs": []
    }
  ]
}