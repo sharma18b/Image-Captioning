{
  "nbformat": 4,
  "nbformat_minor": 0,
  "metadata": {
    "colab": {
      "name": "New Model Code Test.ipynb",
      "provenance": [],
      "collapsed_sections": [],
      "authorship_tag": "ABX9TyMy299ch7YYkqDjWvjl1+S5",
      "include_colab_link": true
    },
    "kernelspec": {
      "name": "python3",
      "display_name": "Python 3"
    },
    "language_info": {
      "name": "python"
    },
    "accelerator": "GPU"
  },
  "cells": [
    {
      "cell_type": "markdown",
      "metadata": {
        "id": "view-in-github",
        "colab_type": "text"
      },
      "source": [
        "<a href=\"https://colab.research.google.com/github/sharma18b/Image-Captioning/blob/main/works_on_baseline_model/New_Model_Code_Test.ipynb\" target=\"_parent\"><img src=\"https://colab.research.google.com/assets/colab-badge.svg\" alt=\"Open In Colab\"/></a>"
      ]
    },
    {
      "cell_type": "code",
      "execution_count": 1,
      "metadata": {
        "colab": {
          "base_uri": "https://localhost:8080/"
        },
        "id": "QbygthWIozmb",
        "outputId": "766d61e8-7cdf-4a52-e92e-52debeb3e318"
      },
      "outputs": [
        {
          "output_type": "stream",
          "name": "stdout",
          "text": [
            "Warning: Your Kaggle API key is readable by other users on this system! To fix this, you can run 'chmod 600 /content/kaggle.json'\n",
            "Downloading baseline.zip to /content\n",
            "100% 4.78G/4.79G [00:28<00:00, 183MB/s]\n",
            "100% 4.79G/4.79G [00:28<00:00, 181MB/s]\n"
          ]
        }
      ],
      "source": [
        "import os\n",
        "os.environ['KAGGLE_CONFIG_DIR']='/content/'\n",
        "!kaggle datasets download -d 'rishisharma18/baseline'"
      ]
    },
    {
      "cell_type": "code",
      "source": [
        "!unzip baseline.zip"
      ],
      "metadata": {
        "colab": {
          "base_uri": "https://localhost:8080/"
        },
        "id": "ijDfkgovpKso",
        "outputId": "6172f6e8-040a-4566-88db-3bfff062f794"
      },
      "execution_count": 2,
      "outputs": [
        {
          "output_type": "stream",
          "name": "stdout",
          "text": [
            "Archive:  baseline.zip\n",
            "  inflating: Image-Caption/caption.py  \n",
            "  inflating: Image-Caption/create_input_files.py  \n",
            "  inflating: Image-Caption/dataset/dataset_flickr30k.json  \n",
            "  inflating: Image-Caption/dataset/generated_data/TEST_CAPLENS_flickr30k_5_cap_per_img_5_min_word_freq.json  \n",
            "  inflating: Image-Caption/dataset/generated_data/TEST_CAPTIONS_flickr30k_5_cap_per_img_5_min_word_freq.json  \n",
            "  inflating: Image-Caption/dataset/generated_data/TEST_IMAGES_flickr30k_5_cap_per_img_5_min_word_freq.hdf5  \n",
            "  inflating: Image-Caption/dataset/generated_data/TRAIN_CAPLENS_flickr30k_5_cap_per_img_5_min_word_freq.json  \n",
            "  inflating: Image-Caption/dataset/generated_data/TRAIN_CAPTIONS_flickr30k_5_cap_per_img_5_min_word_freq.json  \n",
            "  inflating: Image-Caption/dataset/generated_data/TRAIN_IMAGES_flickr30k_5_cap_per_img_5_min_word_freq.hdf5  \n",
            "  inflating: Image-Caption/dataset/generated_data/VAL_CAPLENS_flickr30k_5_cap_per_img_5_min_word_freq.json  \n",
            "  inflating: Image-Caption/dataset/generated_data/VAL_CAPTIONS_flickr30k_5_cap_per_img_5_min_word_freq.json  \n",
            "  inflating: Image-Caption/dataset/generated_data/VAL_IMAGES_flickr30k_5_cap_per_img_5_min_word_freq.hdf5  \n",
            "  inflating: Image-Caption/dataset/generated_data/WORDMAP_flickr30k_5_cap_per_img_5_min_word_freq.json  \n",
            "  inflating: Image-Caption/datasets.py  \n",
            "  inflating: Image-Caption/eval.py   \n",
            "  inflating: Image-Caption/eval_func/bleu/LICENSE  \n",
            "  inflating: Image-Caption/eval_func/bleu/__init__.py  \n",
            "  inflating: Image-Caption/eval_func/bleu/bleu.py  \n",
            "  inflating: Image-Caption/eval_func/bleu/bleu_scorer.py  \n",
            "  inflating: Image-Caption/eval_func/cider/__init__.py  \n",
            "  inflating: Image-Caption/eval_func/cider/cider.py  \n",
            "  inflating: Image-Caption/eval_func/cider/cider_scorer.py  \n",
            "  inflating: Image-Caption/eval_func/meteor/__init__.py  \n",
            "  inflating: Image-Caption/eval_func/meteor/data/paraphrase-en-clean  \n",
            "  inflating: Image-Caption/eval_func/meteor/meteor-1.5.jar  \n",
            "  inflating: Image-Caption/eval_func/meteor/meteor.py  \n",
            "  inflating: Image-Caption/eval_func/rouge/__init__.py  \n",
            "  inflating: Image-Caption/eval_func/rouge/rouge.py  \n",
            "  inflating: Image-Caption/img/1.png  \n",
            "  inflating: Image-Caption/img/2.png  \n",
            "  inflating: Image-Caption/img/3.png  \n",
            "  inflating: Image-Caption/img/4.png  \n",
            "  inflating: Image-Caption/img/5.png  \n",
            "  inflating: Image-Caption/img/6.png  \n",
            "  inflating: Image-Caption/img/7.png  \n",
            "  inflating: Image-Caption/img/8.png  \n",
            "  inflating: Image-Caption/img/error_repeat.png  \n",
            "  inflating: Image-Caption/models.py  \n",
            "  inflating: Image-Caption/train.py  \n",
            "  inflating: Image-Caption/transformer.py  \n",
            "  inflating: Image-Caption/utils.py  \n"
          ]
        }
      ]
    },
    {
      "cell_type": "code",
      "source": [
        "cd Image-Caption/"
      ],
      "metadata": {
        "colab": {
          "base_uri": "https://localhost:8080/"
        },
        "id": "oFyr0svFrWn_",
        "outputId": "2fedda23-3af4-4870-e0e1-4df30f839b64"
      },
      "execution_count": 3,
      "outputs": [
        {
          "output_type": "stream",
          "name": "stdout",
          "text": [
            "/content/Image-Caption\n"
          ]
        }
      ]
    },
    {
      "cell_type": "code",
      "source": [
        "!python train.py"
      ],
      "metadata": {
        "colab": {
          "base_uri": "https://localhost:8080/"
        },
        "id": "BNoppM9-rvNI",
        "outputId": "8647e323-ec7f-4550-aa98-75d7697db524"
      },
      "execution_count": null,
      "outputs": [
        {
          "output_type": "stream",
          "name": "stdout",
          "text": [
            "cuda\n",
            "Epoch: 1/100 step: 1/4532 Loss-A: 9.314146995544434 Loss-B: 9.711931228637695 Loss-C: 9.840824127197266 Loss-AB: -94.2879409790039 Loss-BC: -91.42112731933594 Loss-CA: -141.63589477539062 AVG_Loss_A: 9.314146995544434 AVG_Loss_B: 9.711931228637695 AVG_Loss_C: 9.840824127197266 Top-5 Accuracy_A: 0.6109979633401222 Top-5 Accuracy_B: 0.0 Top-5 Accuracy_C: 0.20366598778004075 Batch_time: 6.404913425445557s\n",
            "Epoch: 1/100 step: 101/4532 Loss-A: 6.065871715545654 Loss-B: 6.421422958374023 Loss-C: 6.55311393737793 Loss-AB: -133418.453125 Loss-BC: -129998.6484375 Loss-CA: -131735.78125 AVG_Loss_A: 6.738189583683579 AVG_Loss_B: 7.1149372619441245 AVG_Loss_C: 7.2411227625791605 Top-5 Accuracy_A: 34.7394540942928 Top-5 Accuracy_B: 35.98014888337469 Top-5 Accuracy_C: 34.49131513647643 Batch_time: 3.2522029876708984s\n",
            "Epoch: 1/100 step: 201/4532 Loss-A: 5.863375186920166 Loss-B: 6.223006248474121 Loss-C: 6.273758888244629 Loss-AB: -177215.203125 Loss-BC: -179105.8125 Loss-CA: -176197.9375 AVG_Loss_A: 6.332627819450785 AVG_Loss_B: 6.6867562965093965 AVG_Loss_C: 6.806940798600421 Top-5 Accuracy_A: 35.44303797468355 Top-5 Accuracy_B: 35.232067510548525 Top-5 Accuracy_C: 36.07594936708861 Batch_time: 3.555176258087158s\n",
            "Epoch: 1/100 step: 301/4532 Loss-A: 5.770732879638672 Loss-B: 6.108234405517578 Loss-C: 6.212494850158691 Loss-AB: -190803.984375 Loss-BC: -192702.765625 Loss-CA: -189873.234375 AVG_Loss_A: 6.142374535920352 AVG_Loss_B: 6.488170377377737 AVG_Loss_C: 6.603409988346744 Top-5 Accuracy_A: 34.633027522935784 Top-5 Accuracy_B: 35.321100917431195 Top-5 Accuracy_C: 36.00917431192661 Batch_time: 3.5324409008026123s\n",
            "['Bleu_1', 'Bleu_2', 'Bleu_3', 'Bleu_4'] [0.38578665339227586, 0.19318543508558814, 0.09949607212796648, 0.056207303336473564]\n",
            "ROUGE_L 0.34839519031962396\n",
            "CIDEr 0.06155774032506981\n",
            "['Bleu_1', 'Bleu_2', 'Bleu_3', 'Bleu_4'] [0.3913794618019855, 0.19789256322698445, 0.10287500716638924, 0.05877679263894703]\n",
            "ROUGE_L 0.35082932507383924\n",
            "CIDEr 0.06443441994722106\n",
            "['Bleu_1', 'Bleu_2', 'Bleu_3', 'Bleu_4'] [0.3840151093672108, 0.19291459040781728, 0.09925172362070925, 0.055972934197883684]\n",
            "ROUGE_L 0.34583106086359483\n",
            "CIDEr 0.06791197113594155\n",
            "EVA LOSS: 5.646477080798911 TOP-5 Accuracy 37.12482796989839 BLEU-1 0.38578665339227586 BLEU2 0.19318543508558814 BLEU3 0.09949607212796648 BLEU-4 0.056207303336473564 ROUGE_L 0.34839519031962396 CIDEr 0.06155774032506981\n",
            "EVA LOSS: 5.977631176936288 TOP-5 Accuracy 36.84665163538403 BLEU-1 0.3913794618019855 BLEU2 0.19789256322698445 BLEU3 0.10287500716638924 BLEU-4 0.05877679263894703 ROUGE_L 0.35082932507383924 CIDEr 0.06443441994722106\n",
            "EVA LOSS: 6.083657885193982 TOP-5 Accuracy 36.95060173933413 BLEU-1 0.3840151093672108 BLEU2 0.19291459040781728 BLEU3 0.09925172362070925 BLEU-4 0.055972934197883684 ROUGE_L 0.34583106086359483 CIDEr 0.06791197113594155\n",
            "Epoch: 2/100 step: 1/4532 Loss-A: 5.910594463348389 Loss-B: 6.230556964874268 Loss-C: 6.374630928039551 Loss-AB: -193037.0 Loss-BC: -192852.3125 Loss-CA: -190697.796875 AVG_Loss_A: 5.910594463348389 AVG_Loss_B: 6.230556964874268 AVG_Loss_C: 6.374630928039551 Top-5 Accuracy_A: 31.555555555555554 Top-5 Accuracy_B: 32.22222222222222 Top-5 Accuracy_C: 30.444444444444443 Batch_time: 3.790823221206665s\n",
            "Epoch: 2/100 step: 101/4532 Loss-A: 5.202769756317139 Loss-B: 5.5158867835998535 Loss-C: 5.640496253967285 Loss-AB: -197252.40625 Loss-BC: -196618.71875 Loss-CA: -193691.453125 AVG_Loss_A: 5.621423286499241 AVG_Loss_B: 5.950688762370889 AVG_Loss_C: 6.054751102493141 Top-5 Accuracy_A: 42.89156626506024 Top-5 Accuracy_B: 43.132530120481924 Top-5 Accuracy_C: 43.132530120481924 Batch_time: 3.1765024662017822s\n",
            "Epoch: 2/100 step: 201/4532 Loss-A: 5.171210289001465 Loss-B: 5.486485481262207 Loss-C: 5.606932640075684 Loss-AB: -203348.609375 Loss-BC: -206294.796875 Loss-CA: -203246.78125 AVG_Loss_A: 5.562392060137949 AVG_Loss_B: 5.888886111841604 AVG_Loss_C: 5.992607588580253 Top-5 Accuracy_A: 44.22604422604423 Top-5 Accuracy_B: 44.47174447174447 Top-5 Accuracy_C: 43.73464373464373 Batch_time: 3.112658739089966s\n",
            "Epoch: 2/100 step: 301/4532 Loss-A: 5.277878761291504 Loss-B: 5.611693859100342 Loss-C: 5.718527793884277 Loss-AB: -213059.546875 Loss-BC: -214135.984375 Loss-CA: -207904.765625 AVG_Loss_A: 5.4863345007187485 AVG_Loss_B: 5.810150561871308 AVG_Loss_C: 5.914269448660748 Top-5 Accuracy_A: 42.52873563218391 Top-5 Accuracy_B: 40.91954022988506 Top-5 Accuracy_C: 40.91954022988506 Batch_time: 3.2992122173309326s\n",
            "['Bleu_1', 'Bleu_2', 'Bleu_3', 'Bleu_4'] [0.47572545459868004, 0.25267440362381705, 0.12260587682707692, 0.0634534754932224]\n",
            "ROUGE_L 0.3959550904110919\n",
            "CIDEr 0.09626431722369455\n",
            "['Bleu_1', 'Bleu_2', 'Bleu_3', 'Bleu_4'] [0.46584287429356486, 0.24820261379435332, 0.12028283184864802, 0.06268313206058529]\n",
            "ROUGE_L 0.39416851408521575\n",
            "CIDEr 0.10651343261781115\n",
            "['Bleu_1', 'Bleu_2', 'Bleu_3', 'Bleu_4'] [0.47604755351232825, 0.2525662480520251, 0.12307978763814187, 0.06437392608817166]\n",
            "ROUGE_L 0.3980190823117948\n",
            "CIDEr 0.10027827080388216\n",
            "EVA LOSS: 5.269523566814507 TOP-5 Accuracy 44.33837954964716 BLEU-1 0.47572545459868004 BLEU2 0.25267440362381705 BLEU3 0.12260587682707692 BLEU-4 0.0634534754932224 ROUGE_L 0.3959550904110919 CIDEr 0.09626431722369455\n",
            "EVA LOSS: 5.5867798791469685 TOP-5 Accuracy 44.38083804280988 BLEU-1 0.46584287429356486 BLEU2 0.24820261379435332 BLEU3 0.12028283184864802 BLEU-4 0.06268313206058529 ROUGE_L 0.39416851408521575 CIDEr 0.10651343261781115\n",
            "EVA LOSS: 5.69412067973147 TOP-5 Accuracy 44.33691546367603 BLEU-1 0.47604755351232825 BLEU2 0.2525662480520251 BLEU3 0.12307978763814187 BLEU-4 0.06437392608817166 ROUGE_L 0.3980190823117948 CIDEr 0.10027827080388216\n",
            "Epoch: 3/100 step: 1/4532 Loss-A: 5.37249231338501 Loss-B: 5.689776420593262 Loss-C: 5.742250919342041 Loss-AB: -212055.5625 Loss-BC: -212589.1875 Loss-CA: -208715.125 AVG_Loss_A: 5.37249231338501 AVG_Loss_B: 5.689776420593262 AVG_Loss_C: 5.742250919342041 Top-5 Accuracy_A: 44.39140811455847 Top-5 Accuracy_B: 43.198090692124104 Top-5 Accuracy_C: 43.198090692124104 Batch_time: 3.7727253437042236s\n",
            "Epoch: 3/100 step: 101/4532 Loss-A: 5.292482852935791 Loss-B: 5.5732741355896 Loss-C: 5.700008869171143 Loss-AB: -211277.96875 Loss-BC: -213537.125 Loss-CA: -207889.53125 AVG_Loss_A: 5.264482088907467 AVG_Loss_B: 5.587280317734639 AVG_Loss_C: 5.682693963837703 Top-5 Accuracy_A: 45.57291666666667 Top-5 Accuracy_B: 44.53125 Top-5 Accuracy_C: 44.79166666666667 Batch_time: 3.010239362716675s\n",
            "Epoch: 3/100 step: 201/4532 Loss-A: 5.168450832366943 Loss-B: 5.451817512512207 Loss-C: 5.538722515106201 Loss-AB: -207196.140625 Loss-BC: -206387.75 Loss-CA: -205399.15625 AVG_Loss_A: 5.2021457165516 AVG_Loss_B: 5.522729301003128 AVG_Loss_C: 5.621883655911639 Top-5 Accuracy_A: 46.84931506849315 Top-5 Accuracy_B: 45.47945205479452 Top-5 Accuracy_C: 46.3013698630137 Batch_time: 2.995366096496582s\n",
            "Epoch: 3/100 step: 301/4532 Loss-A: 4.808710098266602 Loss-B: 5.1285624504089355 Loss-C: 5.240758419036865 Loss-AB: -203666.578125 Loss-BC: -206938.21875 Loss-CA: -202340.765625 AVG_Loss_A: 5.160655401917494 AVG_Loss_B: 5.482857470897211 AVG_Loss_C: 5.581285716841888 Top-5 Accuracy_A: 51.434878587196465 Top-5 Accuracy_B: 51.434878587196465 Top-5 Accuracy_C: 51.87637969094922 Batch_time: 3.3598265647888184s\n",
            "['Bleu_1', 'Bleu_2', 'Bleu_3', 'Bleu_4'] [0.5085209803519514, 0.27881065962553914, 0.14029318588977963, 0.07577788439732415]\n",
            "ROUGE_L 0.41371694143047766\n",
            "CIDEr 0.14785603587567375\n",
            "['Bleu_1', 'Bleu_2', 'Bleu_3', 'Bleu_4'] [0.5084624169131062, 0.2807633856294859, 0.14438765265161066, 0.07962543709763001]\n",
            "ROUGE_L 0.4157014791522556\n",
            "CIDEr 0.14648790541842713\n",
            "['Bleu_1', 'Bleu_2', 'Bleu_3', 'Bleu_4'] [0.509018769582135, 0.28107451240983283, 0.14379698727462129, 0.07855653100480053]\n",
            "ROUGE_L 0.415871541190284\n",
            "CIDEr 0.15025313607481205\n",
            "EVA LOSS: 5.005986862624394 TOP-5 Accuracy 48.106936839331205 BLEU-1 0.5085209803519514 BLEU2 0.27881065962553914 BLEU3 0.14029318588977963 BLEU-4 0.07577788439732415 ROUGE_L 0.41371694143047766 CIDEr 0.14785603587567375\n",
            "EVA LOSS: 5.329302782565726 TOP-5 Accuracy 48.41000263535475 BLEU-1 0.5084624169131062 BLEU2 0.2807633856294859 BLEU3 0.14438765265161066 BLEU-4 0.07962543709763001 ROUGE_L 0.4157014791522556 CIDEr 0.14648790541842713\n",
            "EVA LOSS: 5.434949359783215 TOP-5 Accuracy 48.30166027349126 BLEU-1 0.509018769582135 BLEU2 0.28107451240983283 BLEU3 0.14379698727462129 BLEU-4 0.07855653100480053 ROUGE_L 0.415871541190284 CIDEr 0.15025313607481205\n",
            "Epoch: 4/100 step: 1/4532 Loss-A: 4.866218566894531 Loss-B: 5.229113578796387 Loss-C: 5.264967441558838 Loss-AB: -203569.28125 Loss-BC: -206655.875 Loss-CA: -203199.9375 AVG_Loss_A: 4.866218566894531 AVG_Loss_B: 5.229113578796387 AVG_Loss_C: 5.264967441558838 Top-5 Accuracy_A: 48.82506527415144 Top-5 Accuracy_B: 49.86945169712794 Top-5 Accuracy_C: 49.86945169712794 Batch_time: 3.606586456298828s\n"
          ]
        }
      ]
    },
    {
      "cell_type": "code",
      "source": [
        ""
      ],
      "metadata": {
        "id": "Y5RKSJP5rxP4"
      },
      "execution_count": null,
      "outputs": []
    }
  ]
}