{
  "nbformat": 4,
  "nbformat_minor": 0,
  "metadata": {
    "colab": {
      "name": "BTP Phase 2.ipynb",
      "provenance": [],
      "collapsed_sections": [],
      "authorship_tag": "ABX9TyPscjo0lwtb6fA9ZjhcLsZq",
      "include_colab_link": true
    },
    "kernelspec": {
      "name": "python3",
      "display_name": "Python 3"
    },
    "language_info": {
      "name": "python"
    }
  },
  "cells": [
    {
      "cell_type": "markdown",
      "metadata": {
        "id": "view-in-github",
        "colab_type": "text"
      },
      "source": [
        "<a href=\"https://colab.research.google.com/github/sharma18b/Image-Captioning/blob/main/Colab%20Works/BTP_Phase_2.ipynb\" target=\"_parent\"><img src=\"https://colab.research.google.com/assets/colab-badge.svg\" alt=\"Open In Colab\"/></a>"
      ]
    },
    {
      "cell_type": "code",
      "metadata": {
        "id": "dAzZdQy_2k5j",
        "colab": {
          "base_uri": "https://localhost:8080/",
          "height": 35
        },
        "outputId": "29c41fff-6496-442c-f13e-fbac8074b3bb"
      },
      "source": [
        "pwd\n"
      ],
      "execution_count": null,
      "outputs": [
        {
          "output_type": "execute_result",
          "data": {
            "application/vnd.google.colaboratory.intrinsic+json": {
              "type": "string"
            },
            "text/plain": [
              "'/content'"
            ]
          },
          "metadata": {
            "tags": []
          },
          "execution_count": 1
        }
      ]
    },
    {
      "cell_type": "code",
      "metadata": {
        "id": "95pDzdZj22WD",
        "colab": {
          "base_uri": "https://localhost:8080/"
        },
        "outputId": "3f1c340f-d09e-4735-ea0e-448a99d628c3"
      },
      "source": [
        "!wget https://www.dropbox.com/s/cirzj1b2jul6yzx/flickr30k_nbt_1024.tar.gz?dl=0"
      ],
      "execution_count": null,
      "outputs": [
        {
          "output_type": "stream",
          "text": [
            "--2021-04-07 05:16:32--  https://www.dropbox.com/s/cirzj1b2jul6yzx/flickr30k_nbt_1024.tar.gz?dl=0\n",
            "Resolving www.dropbox.com (www.dropbox.com)... 162.125.6.18, 2620:100:6019:18::a27d:412\n",
            "Connecting to www.dropbox.com (www.dropbox.com)|162.125.6.18|:443... connected.\n",
            "HTTP request sent, awaiting response... 301 Moved Permanently\n",
            "Location: /s/raw/cirzj1b2jul6yzx/flickr30k_nbt_1024.tar.gz [following]\n",
            "--2021-04-07 05:16:33--  https://www.dropbox.com/s/raw/cirzj1b2jul6yzx/flickr30k_nbt_1024.tar.gz\n",
            "Reusing existing connection to www.dropbox.com:443.\n",
            "HTTP request sent, awaiting response... 302 Found\n",
            "Location: https://uc920f891993b78100ef4a49787e.dl.dropboxusercontent.com/cd/0/inline/BMKAaYytrRJclUPh2zKMt5Qs4ZZhv_29l1yvQnHd8Mej1hpyEwJ7Xp-VIf3_eovhW8Vv1jSCtTC2O6sxEnYK2esHI-QKrnOo5aqkGqeDRDMpbMpduyH3WsHsv7Pi-lZ6m7BYo2U5OTQodGEdOtmMH7eO/file# [following]\n",
            "--2021-04-07 05:16:33--  https://uc920f891993b78100ef4a49787e.dl.dropboxusercontent.com/cd/0/inline/BMKAaYytrRJclUPh2zKMt5Qs4ZZhv_29l1yvQnHd8Mej1hpyEwJ7Xp-VIf3_eovhW8Vv1jSCtTC2O6sxEnYK2esHI-QKrnOo5aqkGqeDRDMpbMpduyH3WsHsv7Pi-lZ6m7BYo2U5OTQodGEdOtmMH7eO/file\n",
            "Resolving uc920f891993b78100ef4a49787e.dl.dropboxusercontent.com (uc920f891993b78100ef4a49787e.dl.dropboxusercontent.com)... 162.125.6.15, 2620:100:6019:15::a27d:40f\n",
            "Connecting to uc920f891993b78100ef4a49787e.dl.dropboxusercontent.com (uc920f891993b78100ef4a49787e.dl.dropboxusercontent.com)|162.125.6.15|:443... connected.\n",
            "HTTP request sent, awaiting response... 302 Found\n",
            "Location: /cd/0/inline2/BMLgZtyu0RnNPWcJOafQieBkqrswRJ2XF38iN3WCkPUAXYwK9RIdfeLjQ2-GXo_5TsOj0OlddJ0CmT4xdWegqx3s5fK25OTknFGNghouNyYv4CLP1ytDwv8E2KZKKh7LgCpVMRGcoVMH7l_-G5pw_t0vzRN1Um58T3KF_BDyKbsm4fgGzTHXb7_VVkxdtZEh6x2qmagr2HBg-vxiQXYtgFKZxdSDUqvELpAzoLY8wDFHeHwadQoXwxyJjdRvZM9njRtbIbeq2N1hMu9rMbwp6HPqyxJiNoaTp6xDSm-UP3o_1XkyV2rxAWQ8i1bdm3LHAspy7HJ5NCt426PP6daur7V8SY605y1fBkOB6Szcz89_pgCjDAyL-was3oodjgTnEVQ/file [following]\n",
            "--2021-04-07 05:16:34--  https://uc920f891993b78100ef4a49787e.dl.dropboxusercontent.com/cd/0/inline2/BMLgZtyu0RnNPWcJOafQieBkqrswRJ2XF38iN3WCkPUAXYwK9RIdfeLjQ2-GXo_5TsOj0OlddJ0CmT4xdWegqx3s5fK25OTknFGNghouNyYv4CLP1ytDwv8E2KZKKh7LgCpVMRGcoVMH7l_-G5pw_t0vzRN1Um58T3KF_BDyKbsm4fgGzTHXb7_VVkxdtZEh6x2qmagr2HBg-vxiQXYtgFKZxdSDUqvELpAzoLY8wDFHeHwadQoXwxyJjdRvZM9njRtbIbeq2N1hMu9rMbwp6HPqyxJiNoaTp6xDSm-UP3o_1XkyV2rxAWQ8i1bdm3LHAspy7HJ5NCt426PP6daur7V8SY605y1fBkOB6Szcz89_pgCjDAyL-was3oodjgTnEVQ/file\n",
            "Reusing existing connection to uc920f891993b78100ef4a49787e.dl.dropboxusercontent.com:443.\n",
            "HTTP request sent, awaiting response... 200 OK\n",
            "Length: 750691179 (716M) [application/octet-stream]\n",
            "Saving to: ‘flickr30k_nbt_1024.tar.gz?dl=0’\n",
            "\n",
            "flickr30k_nbt_1024. 100%[===================>] 715.91M   167MB/s    in 4.8s    \n",
            "\n",
            "2021-04-07 05:16:39 (150 MB/s) - ‘flickr30k_nbt_1024.tar.gz?dl=0’ saved [750691179/750691179]\n",
            "\n"
          ],
          "name": "stdout"
        }
      ]
    },
    {
      "cell_type": "code",
      "metadata": {
        "id": "S_OAYRfC3a5K",
        "colab": {
          "base_uri": "https://localhost:8080/"
        },
        "outputId": "1507f203-3f7c-4a3a-ac84-b38c5901b921"
      },
      "source": [
        "#gunzip flickr30k_nbt_1024.tar.gz\n",
        "!tar -xvf flickr30k_nbt_1024.tar.gz"
      ],
      "execution_count": null,
      "outputs": [
        {
          "output_type": "stream",
          "text": [
            "flickr30k_nbt_1024/\n",
            "flickr30k_nbt_1024/model-best.pth\n",
            "flickr30k_nbt_1024/infos_.pkl\n",
            "flickr30k_nbt_1024/histories_.pkl\n",
            "flickr30k_nbt_1024/infos_-best.pkl\n",
            "flickr30k_nbt_1024/model.pth\n"
          ],
          "name": "stdout"
        }
      ]
    },
    {
      "cell_type": "code",
      "metadata": {
        "id": "8cBhKoHl33MN"
      },
      "source": [
        "# Model class must be defined somewhere\n",
        "# import torch\n",
        "# import torch.nn as nn\n",
        "# import torch.nn.functional as F\n",
        "#from pytorch_model_summary import summary\n",
        "#from torchvision import models\n",
        "#model = torch.load('/content/flickr30k_nbt_1024/model-best.pth',map_location=torch.device('cpu'))"
      ],
      "execution_count": null,
      "outputs": []
    },
    {
      "cell_type": "code",
      "metadata": {
        "id": "XhKthcfM75vj",
        "colab": {
          "base_uri": "https://localhost:8080/"
        },
        "outputId": "472b7205-be36-4c84-e26b-013c21688db7"
      },
      "source": [
        "!wget https://github.com/jiasenlu/NeuralBabyTalk/archive/refs/heads/master.zip"
      ],
      "execution_count": null,
      "outputs": [
        {
          "output_type": "stream",
          "text": [
            "--2021-04-07 05:17:46--  https://github.com/jiasenlu/NeuralBabyTalk/archive/refs/heads/master.zip\n",
            "Resolving github.com (github.com)... 140.82.112.4\n",
            "Connecting to github.com (github.com)|140.82.112.4|:443... connected.\n",
            "HTTP request sent, awaiting response... 302 Found\n",
            "Location: https://codeload.github.com/jiasenlu/NeuralBabyTalk/zip/refs/heads/master [following]\n",
            "--2021-04-07 05:17:46--  https://codeload.github.com/jiasenlu/NeuralBabyTalk/zip/refs/heads/master\n",
            "Resolving codeload.github.com (codeload.github.com)... 140.82.114.9\n",
            "Connecting to codeload.github.com (codeload.github.com)|140.82.114.9|:443... connected.\n",
            "HTTP request sent, awaiting response... 200 OK\n",
            "Length: unspecified [application/zip]\n",
            "Saving to: ‘master.zip’\n",
            "\n",
            "master.zip              [   <=>              ]   9.40M  19.0MB/s    in 0.5s    \n",
            "\n",
            "2021-04-07 05:17:47 (19.0 MB/s) - ‘master.zip’ saved [9861430]\n",
            "\n"
          ],
          "name": "stdout"
        }
      ]
    },
    {
      "cell_type": "code",
      "metadata": {
        "id": "I7MWKLe48qnM",
        "colab": {
          "base_uri": "https://localhost:8080/"
        },
        "outputId": "715bcf5c-2e13-4bac-86ec-179cbc50cde6"
      },
      "source": [
        "!unzip master.zip"
      ],
      "execution_count": null,
      "outputs": [
        {
          "output_type": "stream",
          "text": [
            "Archive:  master.zip\n",
            "c351ae6ca59380eb4cf38384d3e66233b4d9e1b1\n",
            "   creating: NeuralBabyTalk-master/\n",
            "  inflating: NeuralBabyTalk-master/.gitignore  \n",
            "  inflating: NeuralBabyTalk-master/.gitmodules  \n",
            "  inflating: NeuralBabyTalk-master/Dockerfile  \n",
            "  inflating: NeuralBabyTalk-master/LICENSE  \n",
            "  inflating: NeuralBabyTalk-master/README.md  \n",
            "   creating: NeuralBabyTalk-master/cfgs/\n",
            "  inflating: NeuralBabyTalk-master/cfgs/noc_coco_res101.yml  \n",
            "  inflating: NeuralBabyTalk-master/cfgs/noc_coco_vgg16.yml  \n",
            "  inflating: NeuralBabyTalk-master/cfgs/normal_coco_res101.yml  \n",
            "  inflating: NeuralBabyTalk-master/cfgs/robust_coco.yml  \n",
            "   creating: NeuralBabyTalk-master/data/\n",
            "  inflating: NeuralBabyTalk-master/data/README.md  \n",
            "   creating: NeuralBabyTalk-master/data/coco/\n",
            "  inflating: NeuralBabyTalk-master/data/coco/coco_class_name.txt  \n",
            "   creating: NeuralBabyTalk-master/data/flickr30k/\n",
            "  inflating: NeuralBabyTalk-master/data/flickr30k/flickr30k_class_name.txt  \n",
            "   creating: NeuralBabyTalk-master/data/noc_coco/\n",
            "  inflating: NeuralBabyTalk-master/data/noc_coco/split_noc_coco.json  \n",
            "   creating: NeuralBabyTalk-master/data/robust_coco/\n",
            "  inflating: NeuralBabyTalk-master/data/robust_coco/split_robust_coco.json  \n",
            "  inflating: NeuralBabyTalk-master/demo.py  \n",
            "   creating: NeuralBabyTalk-master/demo/\n",
            "  inflating: NeuralBabyTalk-master/demo/img1.png  \n",
            "  inflating: NeuralBabyTalk-master/demo/img2.png  \n",
            "  inflating: NeuralBabyTalk-master/generate_robust_split.py  \n",
            "  inflating: NeuralBabyTalk-master/main.py  \n",
            "   creating: NeuralBabyTalk-master/misc/\n",
            "  inflating: NeuralBabyTalk-master/misc/AttModel.py  \n",
            "  inflating: NeuralBabyTalk-master/misc/CaptionModel.py  \n",
            " extracting: NeuralBabyTalk-master/misc/__init__.py  \n",
            "   creating: NeuralBabyTalk-master/misc/__pycache__/\n",
            "  inflating: NeuralBabyTalk-master/misc/__pycache__/__init__.cpython-36.pyc  \n",
            "  inflating: NeuralBabyTalk-master/misc/__pycache__/eval_utils.cpython-36.pyc  \n",
            "  inflating: NeuralBabyTalk-master/misc/bak.py  \n",
            "  inflating: NeuralBabyTalk-master/misc/bbox_transform.py  \n",
            "  inflating: NeuralBabyTalk-master/misc/dataloader_coco.py  \n",
            "  inflating: NeuralBabyTalk-master/misc/dataloader_flickr30k.py  \n",
            "  inflating: NeuralBabyTalk-master/misc/dataloader_hdf.py  \n",
            "  inflating: NeuralBabyTalk-master/misc/eval_utils.py  \n",
            "  inflating: NeuralBabyTalk-master/misc/model.py  \n",
            "  inflating: NeuralBabyTalk-master/misc/resnet.py  \n",
            "  inflating: NeuralBabyTalk-master/misc/rewards.py  \n",
            "  inflating: NeuralBabyTalk-master/misc/utils.py  \n",
            "  inflating: NeuralBabyTalk-master/misc/vgg16.py  \n",
            "  inflating: NeuralBabyTalk-master/opts.py  \n",
            "   creating: NeuralBabyTalk-master/pooling/\n",
            " extracting: NeuralBabyTalk-master/pooling/__init__.py  \n",
            "  inflating: NeuralBabyTalk-master/pooling/make.sh  \n",
            "   creating: NeuralBabyTalk-master/pooling/roi_align/\n",
            " extracting: NeuralBabyTalk-master/pooling/roi_align/__init__.py  \n",
            "   creating: NeuralBabyTalk-master/pooling/roi_align/_ext/\n",
            " extracting: NeuralBabyTalk-master/pooling/roi_align/_ext/__init__.py  \n",
            "   creating: NeuralBabyTalk-master/pooling/roi_align/_ext/roi_align/\n",
            "  inflating: NeuralBabyTalk-master/pooling/roi_align/_ext/roi_align/__init__.py  \n",
            "  inflating: NeuralBabyTalk-master/pooling/roi_align/_ext/roi_align/_roi_align.so  \n",
            "  inflating: NeuralBabyTalk-master/pooling/roi_align/build.py  \n",
            "   creating: NeuralBabyTalk-master/pooling/roi_align/functions/\n",
            " extracting: NeuralBabyTalk-master/pooling/roi_align/functions/__init__.py  \n",
            "  inflating: NeuralBabyTalk-master/pooling/roi_align/functions/roi_align.py  \n",
            "  inflating: NeuralBabyTalk-master/pooling/roi_align/make.sh  \n",
            "   creating: NeuralBabyTalk-master/pooling/roi_align/modules/\n",
            " extracting: NeuralBabyTalk-master/pooling/roi_align/modules/__init__.py  \n",
            "  inflating: NeuralBabyTalk-master/pooling/roi_align/modules/roi_align.py  \n",
            "   creating: NeuralBabyTalk-master/pooling/roi_align/src/\n",
            "  inflating: NeuralBabyTalk-master/pooling/roi_align/src/roi_align.c  \n",
            "  inflating: NeuralBabyTalk-master/pooling/roi_align/src/roi_align.h  \n",
            "  inflating: NeuralBabyTalk-master/pooling/roi_align/src/roi_align_cuda.c  \n",
            "  inflating: NeuralBabyTalk-master/pooling/roi_align/src/roi_align_cuda.h  \n",
            "  inflating: NeuralBabyTalk-master/pooling/roi_align/src/roi_align_kernel.cu  \n",
            "  inflating: NeuralBabyTalk-master/pooling/roi_align/src/roi_align_kernel.h  \n",
            "   creating: NeuralBabyTalk-master/prepro/\n",
            "  inflating: NeuralBabyTalk-master/prepro/prepro_det.py  \n",
            "  inflating: NeuralBabyTalk-master/prepro/prepro_dic_coco.py  \n",
            "  inflating: NeuralBabyTalk-master/prepro/prepro_dic_flickr.py  \n",
            "  inflating: NeuralBabyTalk-master/prepro/prepro_ngrams.py  \n",
            "  inflating: NeuralBabyTalk-master/prepro/prepro_ngrams_bak.py  \n",
            "  inflating: NeuralBabyTalk-master/prepro/prepro_ngrams_flickr30k.py  \n",
            "   creating: NeuralBabyTalk-master/tools/\n",
            "   creating: NeuralBabyTalk-master/tools/coco-caption/\n",
            "   creating: NeuralBabyTalk-master/tools/pycider/\n",
            "   creating: NeuralBabyTalk-master/tools/pycider/PyDataFormat/\n",
            " extracting: NeuralBabyTalk-master/tools/pycider/PyDataFormat/__init__.py  \n",
            "  inflating: NeuralBabyTalk-master/tools/pycider/PyDataFormat/__init__.pyc  \n",
            "  inflating: NeuralBabyTalk-master/tools/pycider/PyDataFormat/jsonify_refs.py  \n",
            "  inflating: NeuralBabyTalk-master/tools/pycider/PyDataFormat/loadData.py  \n",
            "  inflating: NeuralBabyTalk-master/tools/pycider/PyDataFormat/loadData.pyc  \n",
            "  inflating: NeuralBabyTalk-master/tools/pycider/README.md  \n",
            "  inflating: NeuralBabyTalk-master/tools/pycider/cidereval.ipynb  \n",
            "  inflating: NeuralBabyTalk-master/tools/pycider/cidereval.py  \n",
            "  inflating: NeuralBabyTalk-master/tools/pycider/license.txt  \n",
            "  inflating: NeuralBabyTalk-master/tools/pycider/params.json  \n",
            "   creating: NeuralBabyTalk-master/tools/pycider/pyciderevalcap/\n",
            " extracting: NeuralBabyTalk-master/tools/pycider/pyciderevalcap/__init__.py  \n",
            "  inflating: NeuralBabyTalk-master/tools/pycider/pyciderevalcap/__init__.pyc  \n",
            "   creating: NeuralBabyTalk-master/tools/pycider/pyciderevalcap/cider/\n",
            " extracting: NeuralBabyTalk-master/tools/pycider/pyciderevalcap/cider/__init__.py  \n",
            "  inflating: NeuralBabyTalk-master/tools/pycider/pyciderevalcap/cider/__init__.pyc  \n",
            "  inflating: NeuralBabyTalk-master/tools/pycider/pyciderevalcap/cider/cider.py  \n",
            "  inflating: NeuralBabyTalk-master/tools/pycider/pyciderevalcap/cider/cider.pyc  \n",
            "  inflating: NeuralBabyTalk-master/tools/pycider/pyciderevalcap/cider/cider_scorer.py  \n",
            "  inflating: NeuralBabyTalk-master/tools/pycider/pyciderevalcap/cider/cider_scorer.pyc  \n",
            "   creating: NeuralBabyTalk-master/tools/pycider/pyciderevalcap/ciderD/\n",
            " extracting: NeuralBabyTalk-master/tools/pycider/pyciderevalcap/ciderD/__init__.py  \n",
            "  inflating: NeuralBabyTalk-master/tools/pycider/pyciderevalcap/ciderD/__init__.pyc  \n",
            "  inflating: NeuralBabyTalk-master/tools/pycider/pyciderevalcap/ciderD/ciderD.py  \n",
            "  inflating: NeuralBabyTalk-master/tools/pycider/pyciderevalcap/ciderD/ciderD.pyc  \n",
            "  inflating: NeuralBabyTalk-master/tools/pycider/pyciderevalcap/ciderD/ciderD_scorer.py  \n",
            "  inflating: NeuralBabyTalk-master/tools/pycider/pyciderevalcap/ciderD/ciderD_scorer.pyc  \n",
            "  inflating: NeuralBabyTalk-master/tools/pycider/pyciderevalcap/eval.py  \n",
            "  inflating: NeuralBabyTalk-master/tools/pycider/pyciderevalcap/eval.pyc  \n",
            "   creating: NeuralBabyTalk-master/tools/pycider/pyciderevalcap/tokenizer/\n",
            " extracting: NeuralBabyTalk-master/tools/pycider/pyciderevalcap/tokenizer/__init__.py  \n",
            "  inflating: NeuralBabyTalk-master/tools/pycider/pyciderevalcap/tokenizer/__init__.pyc  \n",
            "  inflating: NeuralBabyTalk-master/tools/pycider/pyciderevalcap/tokenizer/ptbtokenizer.py  \n",
            "  inflating: NeuralBabyTalk-master/tools/pycider/pyciderevalcap/tokenizer/ptbtokenizer.pyc  \n",
            "  inflating: NeuralBabyTalk-master/tools/pycider/pyciderevalcap/tokenizer/stanford-corenlp-3.4.1.jar  \n",
            " extracting: NeuralBabyTalk-master/tools/pycider/pyciderevalcap/tokenizer/tmpBF49XX  \n",
            " extracting: NeuralBabyTalk-master/tools/pycider/pyciderevalcap/tokenizer/tmpql9uU7  \n",
            " extracting: NeuralBabyTalk-master/tools/pycider/pyciderevalcap/tokenizer/tmpuCp_T0  \n",
            " extracting: NeuralBabyTalk-master/tools/pycider/pyciderevalcap/tokenizer/tmpxAmV_C  \n",
            " extracting: NeuralBabyTalk-master/tools/pycider/pyciderevalcap/tokenizer/tmpzNW4I2  \n",
            "   creating: NeuralBabyTalk-master/tools/sentence_gen_tools/\n",
            " extracting: NeuralBabyTalk-master/tools/sentence_gen_tools/__init__.py  \n",
            "  inflating: NeuralBabyTalk-master/tools/sentence_gen_tools/coco_eval.py  \n"
          ],
          "name": "stdout"
        }
      ]
    },
    {
      "cell_type": "code",
      "metadata": {
        "id": "oWSpux_j8_Jy",
        "colab": {
          "base_uri": "https://localhost:8080/"
        },
        "outputId": "7dff99d5-b948-4c77-bca9-bcbd4ac61792"
      },
      "source": [
        "cd NeuralBabyTalk-master/"
      ],
      "execution_count": null,
      "outputs": [
        {
          "output_type": "stream",
          "text": [
            "/content/NeuralBabyTalk-master\n"
          ],
          "name": "stdout"
        }
      ]
    },
    {
      "cell_type": "code",
      "metadata": {
        "id": "m79f6riT-btE"
      },
      "source": [
        "mkdir save"
      ],
      "execution_count": null,
      "outputs": []
    },
    {
      "cell_type": "code",
      "metadata": {
        "colab": {
          "base_uri": "https://localhost:8080/"
        },
        "id": "zlyNWvT1-0TF",
        "outputId": "7514dd7a-c080-41ab-89e6-ff1779d8b1b7"
      },
      "source": [
        "!wget https://github.com/salaniz/pycocoevalcap/archive/refs/heads/master.zip"
      ],
      "execution_count": null,
      "outputs": [
        {
          "output_type": "stream",
          "text": [
            "--2021-04-07 05:18:16--  https://github.com/salaniz/pycocoevalcap/archive/refs/heads/master.zip\n",
            "Resolving github.com (github.com)... 140.82.114.3\n",
            "Connecting to github.com (github.com)|140.82.114.3|:443... connected.\n",
            "HTTP request sent, awaiting response... 302 Found\n",
            "Location: https://codeload.github.com/salaniz/pycocoevalcap/zip/refs/heads/master [following]\n",
            "--2021-04-07 05:18:16--  https://codeload.github.com/salaniz/pycocoevalcap/zip/refs/heads/master\n",
            "Resolving codeload.github.com (codeload.github.com)... 140.82.112.10\n",
            "Connecting to codeload.github.com (codeload.github.com)|140.82.112.10|:443... connected.\n",
            "HTTP request sent, awaiting response... 200 OK\n",
            "Length: unspecified [application/zip]\n",
            "Saving to: ‘master.zip’\n",
            "\n",
            "master.zip              [        <=>         ] 105.54M  21.1MB/s    in 5.0s    \n",
            "\n",
            "2021-04-07 05:18:21 (21.1 MB/s) - ‘master.zip’ saved [110664368]\n",
            "\n"
          ],
          "name": "stdout"
        }
      ]
    },
    {
      "cell_type": "code",
      "metadata": {
        "colab": {
          "base_uri": "https://localhost:8080/"
        },
        "id": "ZaFpfPz4_B2a",
        "outputId": "f9b9567f-f911-42d9-99d3-1f560c60a72a"
      },
      "source": [
        "!unzip master.zip"
      ],
      "execution_count": null,
      "outputs": [
        {
          "output_type": "stream",
          "text": [
            "Archive:  master.zip\n",
            "ad63453cfab57a81a02b2949b17a91fab1c3df77\n",
            "   creating: pycocoevalcap-master/\n",
            " extracting: pycocoevalcap-master/.gitignore  \n",
            "  inflating: pycocoevalcap-master/README.md  \n",
            "   creating: pycocoevalcap-master/bleu/\n",
            "  inflating: pycocoevalcap-master/bleu/LICENSE  \n",
            "  inflating: pycocoevalcap-master/bleu/bleu.py  \n",
            "  inflating: pycocoevalcap-master/bleu/bleu_scorer.py  \n",
            "   creating: pycocoevalcap-master/cider/\n",
            "  inflating: pycocoevalcap-master/cider/cider.py  \n",
            "  inflating: pycocoevalcap-master/cider/cider_scorer.py  \n",
            "  inflating: pycocoevalcap-master/eval.py  \n",
            "   creating: pycocoevalcap-master/example/\n",
            "  inflating: pycocoevalcap-master/example/captions_val2014.json  \n",
            "  inflating: pycocoevalcap-master/example/captions_val2014_fakecap_results.json  \n",
            "  inflating: pycocoevalcap-master/example/coco_eval_example.py  \n",
            "  inflating: pycocoevalcap-master/license.txt  \n",
            "   creating: pycocoevalcap-master/meteor/\n",
            "   creating: pycocoevalcap-master/meteor/data/\n",
            " extracting: pycocoevalcap-master/meteor/data/paraphrase-en.gz  \n",
            "  inflating: pycocoevalcap-master/meteor/meteor-1.5.jar  \n",
            "  inflating: pycocoevalcap-master/meteor/meteor.py  \n",
            "   creating: pycocoevalcap-master/rouge/\n",
            "  inflating: pycocoevalcap-master/rouge/rouge.py  \n",
            "  inflating: pycocoevalcap-master/setup.py  \n",
            "   creating: pycocoevalcap-master/spice/\n",
            " extracting: pycocoevalcap-master/spice/__init__.py  \n",
            "  inflating: pycocoevalcap-master/spice/get_stanford_models.py  \n",
            "   creating: pycocoevalcap-master/spice/lib/\n",
            "  inflating: pycocoevalcap-master/spice/lib/Meteor-1.5.jar  \n",
            "  inflating: pycocoevalcap-master/spice/lib/SceneGraphParser-1.0.jar  \n",
            "  inflating: pycocoevalcap-master/spice/lib/ejml-0.23.jar  \n",
            "  inflating: pycocoevalcap-master/spice/lib/fst-2.47.jar  \n",
            "  inflating: pycocoevalcap-master/spice/lib/guava-19.0.jar  \n",
            "  inflating: pycocoevalcap-master/spice/lib/hamcrest-core-1.3.jar  \n",
            "  inflating: pycocoevalcap-master/spice/lib/jackson-core-2.5.3.jar  \n",
            "  inflating: pycocoevalcap-master/spice/lib/javassist-3.19.0-GA.jar  \n",
            "  inflating: pycocoevalcap-master/spice/lib/json-simple-1.1.1.jar  \n",
            "  inflating: pycocoevalcap-master/spice/lib/junit-4.12.jar  \n",
            "  inflating: pycocoevalcap-master/spice/lib/lmdbjni-0.4.6.jar  \n",
            "  inflating: pycocoevalcap-master/spice/lib/lmdbjni-linux64-0.4.6.jar  \n",
            "  inflating: pycocoevalcap-master/spice/lib/lmdbjni-osx64-0.4.6.jar  \n",
            "  inflating: pycocoevalcap-master/spice/lib/lmdbjni-win64-0.4.6.jar  \n",
            "  inflating: pycocoevalcap-master/spice/lib/objenesis-2.4.jar  \n",
            "  inflating: pycocoevalcap-master/spice/lib/slf4j-api-1.7.12.jar  \n",
            "  inflating: pycocoevalcap-master/spice/lib/slf4j-simple-1.7.21.jar  \n",
            "  inflating: pycocoevalcap-master/spice/spice-1.0.jar  \n",
            "  inflating: pycocoevalcap-master/spice/spice.py  \n",
            "   creating: pycocoevalcap-master/tokenizer/\n",
            "  inflating: pycocoevalcap-master/tokenizer/ptbtokenizer.py  \n",
            "  inflating: pycocoevalcap-master/tokenizer/stanford-corenlp-3.4.1.jar  \n"
          ],
          "name": "stdout"
        }
      ]
    },
    {
      "cell_type": "code",
      "metadata": {
        "colab": {
          "base_uri": "https://localhost:8080/",
          "height": 306
        },
        "id": "_CE-ylj2V_33",
        "outputId": "638a3baf-5e55-4be1-dc22-12fbfae725be"
      },
      "source": [
        "!pip install torch==0.4.1"
      ],
      "execution_count": null,
      "outputs": [
        {
          "output_type": "stream",
          "text": [
            "Collecting torch==0.4.1\n",
            "\u001b[?25l  Downloading https://files.pythonhosted.org/packages/a2/6f/60e77fe7a4b4e23808f1e4c6261dec2ea15abbfd91b0d791f107365f4f2b/torch-0.4.1-cp37-cp37m-manylinux1_x86_64.whl (519.5MB)\n",
            "\u001b[K     |████████████████████████████████| 519.5MB 34kB/s \n",
            "\u001b[31mERROR: torchvision 0.9.1+cu101 has requirement torch==1.8.1, but you'll have torch 0.4.1 which is incompatible.\u001b[0m\n",
            "\u001b[31mERROR: torchtext 0.9.1 has requirement torch==1.8.1, but you'll have torch 0.4.1 which is incompatible.\u001b[0m\n",
            "\u001b[31mERROR: fastai 1.0.61 has requirement torch>=1.0.0, but you'll have torch 0.4.1 which is incompatible.\u001b[0m\n",
            "\u001b[?25hInstalling collected packages: torch\n",
            "  Found existing installation: torch 1.8.1+cu101\n",
            "    Uninstalling torch-1.8.1+cu101:\n",
            "      Successfully uninstalled torch-1.8.1+cu101\n",
            "Successfully installed torch-0.4.1\n"
          ],
          "name": "stdout"
        },
        {
          "output_type": "display_data",
          "data": {
            "application/vnd.colab-display-data+json": {
              "pip_warning": {
                "packages": [
                  "torch"
                ]
              }
            }
          },
          "metadata": {
            "tags": []
          }
        }
      ]
    },
    {
      "cell_type": "code",
      "metadata": {
        "colab": {
          "base_uri": "https://localhost:8080/"
        },
        "id": "Z7G4vrTaW7IM",
        "outputId": "a83048a7-3271-4329-e516-77f9ca10e880"
      },
      "source": [
        "cd NeuralBabyTalk-master/"
      ],
      "execution_count": null,
      "outputs": [
        {
          "output_type": "stream",
          "text": [
            "/content/NeuralBabyTalk-master\n"
          ],
          "name": "stdout"
        }
      ]
    },
    {
      "cell_type": "code",
      "metadata": {
        "colab": {
          "base_uri": "https://localhost:8080/"
        },
        "id": "IdxmO9RhaynU",
        "outputId": "44a29494-ac53-4eb4-c482-74a7f0aefbe9"
      },
      "source": [
        "!wget https://www.dropbox.com/s/h4ru86ocb10axa1/flickr30k_cleaned_class.json.tar.gz?dl=0"
      ],
      "execution_count": null,
      "outputs": [
        {
          "output_type": "stream",
          "text": [
            "--2021-04-07 05:21:48--  https://www.dropbox.com/s/h4ru86ocb10axa1/flickr30k_cleaned_class.json.tar.gz?dl=0\n",
            "Resolving www.dropbox.com (www.dropbox.com)... 162.125.6.18, 2620:100:601c:18::a27d:612\n",
            "Connecting to www.dropbox.com (www.dropbox.com)|162.125.6.18|:443... connected.\n",
            "HTTP request sent, awaiting response... 301 Moved Permanently\n",
            "Location: /s/raw/h4ru86ocb10axa1/flickr30k_cleaned_class.json.tar.gz [following]\n",
            "--2021-04-07 05:21:49--  https://www.dropbox.com/s/raw/h4ru86ocb10axa1/flickr30k_cleaned_class.json.tar.gz\n",
            "Reusing existing connection to www.dropbox.com:443.\n",
            "HTTP request sent, awaiting response... 302 Found\n",
            "Location: https://ucda7b5ef4257b68842c0cfecbb4.dl.dropboxusercontent.com/cd/0/inline/BMLoIsc3spumr2ieQhN4Etiw5gDgSZGizFOZI3lBB_zKyEVoWGIHOB132SOMSA399eqFs19pwkEuzZTSmpLkmdHaaVK6B_iBdbS7J3IwpJ3aP8MFhvkBCEBD6PG3aOj34pp7ZIcGtupiwibAFBd7PEzV/file# [following]\n",
            "--2021-04-07 05:21:49--  https://ucda7b5ef4257b68842c0cfecbb4.dl.dropboxusercontent.com/cd/0/inline/BMLoIsc3spumr2ieQhN4Etiw5gDgSZGizFOZI3lBB_zKyEVoWGIHOB132SOMSA399eqFs19pwkEuzZTSmpLkmdHaaVK6B_iBdbS7J3IwpJ3aP8MFhvkBCEBD6PG3aOj34pp7ZIcGtupiwibAFBd7PEzV/file\n",
            "Resolving ucda7b5ef4257b68842c0cfecbb4.dl.dropboxusercontent.com (ucda7b5ef4257b68842c0cfecbb4.dl.dropboxusercontent.com)... 162.125.6.15, 2620:100:601c:15::a27d:60f\n",
            "Connecting to ucda7b5ef4257b68842c0cfecbb4.dl.dropboxusercontent.com (ucda7b5ef4257b68842c0cfecbb4.dl.dropboxusercontent.com)|162.125.6.15|:443... connected.\n",
            "HTTP request sent, awaiting response... 302 Found\n",
            "Location: /cd/0/inline2/BMI6uLA40tTJwMg2VyaSCyzgSy1Px8AasJpcLYd9LzqwNk5VLYKPuUIAPvMdXEVI6x6e19NOZx9UrGYSU-0kNB6h8NQYSIIDxVADIicDzp4qd_nlRDX3K5Q2DWxnguAzgbDuwOPFklHMVpNGKFJetbQljUAuqqnoHXqXUurlChiUEcMc_EB1wcqw94d-KRyXRtkO6-umqfM6qOHklTU7k-wItSxlULI6_T0_GoiMcY-Be7FXF5u-kFwHdDtFUbywzNi_YBnCvKHDaWHcarVdCOeMZoTtFM96ijEmjKmDst_BzAMYpa-mDZlGHbba_wQo6DjYBHaVMD1Sq-vTs1DgHMJ66PC0kS9Jje5qmCAE58yoIlpm7AarwQs-fznTvem363M/file [following]\n",
            "--2021-04-07 05:21:49--  https://ucda7b5ef4257b68842c0cfecbb4.dl.dropboxusercontent.com/cd/0/inline2/BMI6uLA40tTJwMg2VyaSCyzgSy1Px8AasJpcLYd9LzqwNk5VLYKPuUIAPvMdXEVI6x6e19NOZx9UrGYSU-0kNB6h8NQYSIIDxVADIicDzp4qd_nlRDX3K5Q2DWxnguAzgbDuwOPFklHMVpNGKFJetbQljUAuqqnoHXqXUurlChiUEcMc_EB1wcqw94d-KRyXRtkO6-umqfM6qOHklTU7k-wItSxlULI6_T0_GoiMcY-Be7FXF5u-kFwHdDtFUbywzNi_YBnCvKHDaWHcarVdCOeMZoTtFM96ijEmjKmDst_BzAMYpa-mDZlGHbba_wQo6DjYBHaVMD1Sq-vTs1DgHMJ66PC0kS9Jje5qmCAE58yoIlpm7AarwQs-fznTvem363M/file\n",
            "Reusing existing connection to ucda7b5ef4257b68842c0cfecbb4.dl.dropboxusercontent.com:443.\n",
            "HTTP request sent, awaiting response... 200 OK\n",
            "Length: 12113867 (12M) [application/octet-stream]\n",
            "Saving to: ‘flickr30k_cleaned_class.json.tar.gz?dl=0’\n",
            "\n",
            "flickr30k_cleaned_c 100%[===================>]  11.55M  --.-KB/s    in 0.05s   \n",
            "\n",
            "2021-04-07 05:21:50 (211 MB/s) - ‘flickr30k_cleaned_class.json.tar.gz?dl=0’ saved [12113867/12113867]\n",
            "\n"
          ],
          "name": "stdout"
        }
      ]
    },
    {
      "cell_type": "code",
      "metadata": {
        "colab": {
          "base_uri": "https://localhost:8080/"
        },
        "id": "CVBIn3lya7dw",
        "outputId": "8cf0cb8d-b1e9-460d-e721-3733714e9f83"
      },
      "source": [
        "!tar -xvf flickr30k_cleaned_class.json.tar.gz?dl=0"
      ],
      "execution_count": null,
      "outputs": [
        {
          "output_type": "stream",
          "text": [
            "flickr30k_cleaned_class.json\n"
          ],
          "name": "stdout"
        }
      ]
    },
    {
      "cell_type": "code",
      "metadata": {
        "colab": {
          "base_uri": "https://localhost:8080/"
        },
        "id": "1GmQWztHbGhd",
        "outputId": "9367863c-83ff-43d3-90b8-73af25f4d9cd"
      },
      "source": [
        "!wget https://www.dropbox.com/s/twve5exs8qj9xgd/flickr30k.tar.gz?dl=0"
      ],
      "execution_count": null,
      "outputs": [
        {
          "output_type": "stream",
          "text": [
            "--2021-04-07 05:22:14--  https://www.dropbox.com/s/twve5exs8qj9xgd/flickr30k.tar.gz?dl=0\n",
            "Resolving www.dropbox.com (www.dropbox.com)... 162.125.6.18, 2620:100:601c:18::a27d:612\n",
            "Connecting to www.dropbox.com (www.dropbox.com)|162.125.6.18|:443... connected.\n",
            "HTTP request sent, awaiting response... 301 Moved Permanently\n",
            "Location: /s/raw/twve5exs8qj9xgd/flickr30k.tar.gz [following]\n",
            "--2021-04-07 05:22:14--  https://www.dropbox.com/s/raw/twve5exs8qj9xgd/flickr30k.tar.gz\n",
            "Reusing existing connection to www.dropbox.com:443.\n",
            "HTTP request sent, awaiting response... 302 Found\n",
            "Location: https://uc76fafc3aeca11772eea9de564e.dl.dropboxusercontent.com/cd/0/inline/BMLAbG2QOfTFGftAlTntBKleqbTirrzCTcEW9PwA0fy8GAyWzCXVuGcYrZ7lNgTL4HRwC6mGfavq3y3PbPNxx3hOA6vYgbOAzGiH8TEyjHFWHix1G6ExsEywSFGwo3e_mUFxmiPCVUuldCGCYwfcqqWj/file# [following]\n",
            "--2021-04-07 05:22:15--  https://uc76fafc3aeca11772eea9de564e.dl.dropboxusercontent.com/cd/0/inline/BMLAbG2QOfTFGftAlTntBKleqbTirrzCTcEW9PwA0fy8GAyWzCXVuGcYrZ7lNgTL4HRwC6mGfavq3y3PbPNxx3hOA6vYgbOAzGiH8TEyjHFWHix1G6ExsEywSFGwo3e_mUFxmiPCVUuldCGCYwfcqqWj/file\n",
            "Resolving uc76fafc3aeca11772eea9de564e.dl.dropboxusercontent.com (uc76fafc3aeca11772eea9de564e.dl.dropboxusercontent.com)... 162.125.6.15, 2620:100:601c:15::a27d:60f\n",
            "Connecting to uc76fafc3aeca11772eea9de564e.dl.dropboxusercontent.com (uc76fafc3aeca11772eea9de564e.dl.dropboxusercontent.com)|162.125.6.15|:443... connected.\n",
            "HTTP request sent, awaiting response... 302 Found\n",
            "Location: /cd/0/inline2/BMI1OAqwyqRsJZRLDqSPDIUVeEsxSkkcGdTZsMtijiHDI30f6BcK09vFq9gS5Fai7EKbzNxEg5BXpLTKzTayNki3ODcPHlGp8gsQizxrCJvdk5zJMY7fwrF2qumXzylARnghrbaHUvGm4O76XQlzKsvTsGgRnhlXnAv1aj16dwh_F1fBgNXPEpvIGKGy-1MJ_Ct0vN1XlXtf5lt5rFKXhb_MLqlOwDgoH7MnylMbJoylmaq5DAlz5TEjEPJDDyPT8BIE4uX9x1SqO9UDP_C3fujxayDDg6hkkTxsLVtrHlhUSf-RjJcRLhCt6U8_YWLBsAoxgtrd7gjXCn3jHB9brQecGpzdz48JxeNRVDsEO_IGmHQCFbq3v5PV_agj_5nsN5I/file [following]\n",
            "--2021-04-07 05:22:15--  https://uc76fafc3aeca11772eea9de564e.dl.dropboxusercontent.com/cd/0/inline2/BMI1OAqwyqRsJZRLDqSPDIUVeEsxSkkcGdTZsMtijiHDI30f6BcK09vFq9gS5Fai7EKbzNxEg5BXpLTKzTayNki3ODcPHlGp8gsQizxrCJvdk5zJMY7fwrF2qumXzylARnghrbaHUvGm4O76XQlzKsvTsGgRnhlXnAv1aj16dwh_F1fBgNXPEpvIGKGy-1MJ_Ct0vN1XlXtf5lt5rFKXhb_MLqlOwDgoH7MnylMbJoylmaq5DAlz5TEjEPJDDyPT8BIE4uX9x1SqO9UDP_C3fujxayDDg6hkkTxsLVtrHlhUSf-RjJcRLhCt6U8_YWLBsAoxgtrd7gjXCn3jHB9brQecGpzdz48JxeNRVDsEO_IGmHQCFbq3v5PV_agj_5nsN5I/file\n",
            "Reusing existing connection to uc76fafc3aeca11772eea9de564e.dl.dropboxusercontent.com:443.\n",
            "HTTP request sent, awaiting response... 200 OK\n",
            "Length: 7426908 (7.1M) [application/octet-stream]\n",
            "Saving to: ‘flickr30k.tar.gz?dl=0’\n",
            "\n",
            "flickr30k.tar.gz?dl 100%[===================>]   7.08M  --.-KB/s    in 0.04s   \n",
            "\n",
            "2021-04-07 05:22:16 (186 MB/s) - ‘flickr30k.tar.gz?dl=0’ saved [7426908/7426908]\n",
            "\n"
          ],
          "name": "stdout"
        }
      ]
    },
    {
      "cell_type": "code",
      "metadata": {
        "colab": {
          "base_uri": "https://localhost:8080/"
        },
        "id": "A3NKod0IecKT",
        "outputId": "74a3312e-04fd-407d-b6c4-ca739b5a5c64"
      },
      "source": [
        "!tar -xvf flickr30k.tar.gz"
      ],
      "execution_count": null,
      "outputs": [
        {
          "output_type": "stream",
          "text": [
            "cap_flickr30k.json\n",
            "dic_flickr30k.json\n"
          ],
          "name": "stdout"
        }
      ]
    },
    {
      "cell_type": "code",
      "metadata": {
        "colab": {
          "base_uri": "https://localhost:8080/"
        },
        "id": "2RTZ_Qlle8M0",
        "outputId": "3b4e9d45-ab69-4557-cbfe-b8e89455e3f0"
      },
      "source": [
        "!wget https://www.dropbox.com/s/5o6so7h4xq5ki1t/flickr30k_detection.h5.tar.gz?dl=0"
      ],
      "execution_count": null,
      "outputs": [
        {
          "output_type": "stream",
          "text": [
            "--2021-04-07 05:22:53--  https://www.dropbox.com/s/5o6so7h4xq5ki1t/flickr30k_detection.h5.tar.gz?dl=0\n",
            "Resolving www.dropbox.com (www.dropbox.com)... 162.125.6.18, 2620:100:6019:18::a27d:412\n",
            "Connecting to www.dropbox.com (www.dropbox.com)|162.125.6.18|:443... connected.\n",
            "HTTP request sent, awaiting response... 301 Moved Permanently\n",
            "Location: /s/raw/5o6so7h4xq5ki1t/flickr30k_detection.h5.tar.gz [following]\n",
            "--2021-04-07 05:22:53--  https://www.dropbox.com/s/raw/5o6so7h4xq5ki1t/flickr30k_detection.h5.tar.gz\n",
            "Reusing existing connection to www.dropbox.com:443.\n",
            "HTTP request sent, awaiting response... 302 Found\n",
            "Location: https://ucb42c1a45adcc58a28cca6d0a15.dl.dropboxusercontent.com/cd/0/inline/BML4McDxA9avDep29fZrg02f-dInpSoln0cS-TJ5CQdFchZDeBLiSJYIQw7sD2qSmV5mr6Ggu3mNtfD-Hu1_gSZdl6djCYyq1MCZI8cBv1DHpFLttjd3T1ftIoLudY4r649IwdXg0ByUqWY3WWTSP5ZM/file# [following]\n",
            "--2021-04-07 05:22:53--  https://ucb42c1a45adcc58a28cca6d0a15.dl.dropboxusercontent.com/cd/0/inline/BML4McDxA9avDep29fZrg02f-dInpSoln0cS-TJ5CQdFchZDeBLiSJYIQw7sD2qSmV5mr6Ggu3mNtfD-Hu1_gSZdl6djCYyq1MCZI8cBv1DHpFLttjd3T1ftIoLudY4r649IwdXg0ByUqWY3WWTSP5ZM/file\n",
            "Resolving ucb42c1a45adcc58a28cca6d0a15.dl.dropboxusercontent.com (ucb42c1a45adcc58a28cca6d0a15.dl.dropboxusercontent.com)... 162.125.6.15, 2620:100:6019:15::a27d:40f\n",
            "Connecting to ucb42c1a45adcc58a28cca6d0a15.dl.dropboxusercontent.com (ucb42c1a45adcc58a28cca6d0a15.dl.dropboxusercontent.com)|162.125.6.15|:443... connected.\n",
            "HTTP request sent, awaiting response... 302 Found\n",
            "Location: /cd/0/inline2/BMI7FHxl5bsYnV5HSTKS-rRZOnmKnf6E_-71xrs-lJtSLY0lPRVPGpgsyR2v8t8jTPrRpyMYM87TPPPBgZ0L11yOqBE_1b-p1pdN2gr1Xn2_nyUwqywRZpwBoC2TAfaimICltJ4ZbFjj2TdMJ3BMK4X_JJdpy7nIHOBWEnA3aXHPRV2CdiU4TOFLTslt7REGJEDxSZR3-ReHzCo2lBp1yMxYwldaYacrj9iXynQT7EUDD-H71jBAz8djNUkt6jW2OyGK8r0MUse-P29FOk2dm8Liq2hXgvjdxRlBWrhbJ3N3Zx5HXz8EdjHlh4hkCYYB2KFF5aJqkBkJgmpQrjmjpDwYEO3b0FN9yCF5t2b8ntwGqNVzql3GHgZvwGmBMMfEAUA/file [following]\n",
            "--2021-04-07 05:22:55--  https://ucb42c1a45adcc58a28cca6d0a15.dl.dropboxusercontent.com/cd/0/inline2/BMI7FHxl5bsYnV5HSTKS-rRZOnmKnf6E_-71xrs-lJtSLY0lPRVPGpgsyR2v8t8jTPrRpyMYM87TPPPBgZ0L11yOqBE_1b-p1pdN2gr1Xn2_nyUwqywRZpwBoC2TAfaimICltJ4ZbFjj2TdMJ3BMK4X_JJdpy7nIHOBWEnA3aXHPRV2CdiU4TOFLTslt7REGJEDxSZR3-ReHzCo2lBp1yMxYwldaYacrj9iXynQT7EUDD-H71jBAz8djNUkt6jW2OyGK8r0MUse-P29FOk2dm8Liq2hXgvjdxRlBWrhbJ3N3Zx5HXz8EdjHlh4hkCYYB2KFF5aJqkBkJgmpQrjmjpDwYEO3b0FN9yCF5t2b8ntwGqNVzql3GHgZvwGmBMMfEAUA/file\n",
            "Reusing existing connection to ucb42c1a45adcc58a28cca6d0a15.dl.dropboxusercontent.com:443.\n",
            "HTTP request sent, awaiting response... 200 OK\n",
            "Length: 28002737 (27M) [application/octet-stream]\n",
            "Saving to: ‘flickr30k_detection.h5.tar.gz?dl=0’\n",
            "\n",
            "flickr30k_detection 100%[===================>]  26.71M  --.-KB/s    in 0.1s    \n",
            "\n",
            "2021-04-07 05:22:55 (232 MB/s) - ‘flickr30k_detection.h5.tar.gz?dl=0’ saved [28002737/28002737]\n",
            "\n"
          ],
          "name": "stdout"
        }
      ]
    },
    {
      "cell_type": "code",
      "metadata": {
        "colab": {
          "base_uri": "https://localhost:8080/"
        },
        "id": "8mUim7fze8AV",
        "outputId": "4817125d-cfd4-4a3b-db0d-659bbce0dcea"
      },
      "source": [
        "!tar xvf flickr30k_detection.h5.tar.gz?dl=0"
      ],
      "execution_count": null,
      "outputs": [
        {
          "output_type": "stream",
          "text": [
            "flickr30k_detection.h5\n"
          ],
          "name": "stdout"
        }
      ]
    },
    {
      "cell_type": "code",
      "metadata": {
        "colab": {
          "base_uri": "https://localhost:8080/"
        },
        "id": "BSzDK22Re7xA",
        "outputId": "87ba1865-ff93-4b1b-b68a-b9ed3658e517"
      },
      "source": [
        "pip install torch==0.4.1"
      ],
      "execution_count": null,
      "outputs": [
        {
          "output_type": "stream",
          "text": [
            "Collecting torch==0.4.1\n",
            "  Using cached https://files.pythonhosted.org/packages/a2/6f/60e77fe7a4b4e23808f1e4c6261dec2ea15abbfd91b0d791f107365f4f2b/torch-0.4.1-cp37-cp37m-manylinux1_x86_64.whl\n",
            "\u001b[31mERROR: fastai 1.0.61 has requirement torch>=1.0.0, but you'll have torch 0.4.1 which is incompatible.\u001b[0m\n",
            "Installing collected packages: torch\n",
            "  Found existing installation: torch 1.0.0\n",
            "    Uninstalling torch-1.0.0:\n",
            "      Successfully uninstalled torch-1.0.0\n",
            "Successfully installed torch-0.4.1\n"
          ],
          "name": "stdout"
        }
      ]
    },
    {
      "cell_type": "code",
      "metadata": {
        "colab": {
          "base_uri": "https://localhost:8080/"
        },
        "id": "lFSG0s-7o8oW",
        "outputId": "c73c1565-3225-4855-9e11-60abc0886419"
      },
      "source": [
        "pip install torchtext==0.2.3"
      ],
      "execution_count": null,
      "outputs": [
        {
          "output_type": "stream",
          "text": [
            "Collecting torchtext==0.2.3\n",
            "\u001b[?25l  Downloading https://files.pythonhosted.org/packages/78/90/474d5944d43001a6e72b9aaed5c3e4f77516fbef2317002da2096fd8b5ea/torchtext-0.2.3.tar.gz (42kB)\n",
            "\r\u001b[K     |███████▊                        | 10kB 20.1MB/s eta 0:00:01\r\u001b[K     |███████████████▍                | 20kB 26.9MB/s eta 0:00:01\r\u001b[K     |███████████████████████         | 30kB 21.0MB/s eta 0:00:01\r\u001b[K     |██████████████████████████████▊ | 40kB 24.1MB/s eta 0:00:01\r\u001b[K     |████████████████████████████████| 51kB 6.6MB/s \n",
            "\u001b[?25hRequirement already satisfied: tqdm in /usr/local/lib/python3.7/dist-packages (from torchtext==0.2.3) (4.19.9)\n",
            "Requirement already satisfied: requests in /usr/local/lib/python3.7/dist-packages (from torchtext==0.2.3) (2.23.0)\n",
            "Requirement already satisfied: chardet<4,>=3.0.2 in /usr/local/lib/python3.7/dist-packages (from requests->torchtext==0.2.3) (3.0.4)\n",
            "Requirement already satisfied: urllib3!=1.25.0,!=1.25.1,<1.26,>=1.21.1 in /usr/local/lib/python3.7/dist-packages (from requests->torchtext==0.2.3) (1.24.3)\n",
            "Requirement already satisfied: idna<3,>=2.5 in /usr/local/lib/python3.7/dist-packages (from requests->torchtext==0.2.3) (2.10)\n",
            "Requirement already satisfied: certifi>=2017.4.17 in /usr/local/lib/python3.7/dist-packages (from requests->torchtext==0.2.3) (2020.12.5)\n",
            "Building wheels for collected packages: torchtext\n",
            "  Building wheel for torchtext (setup.py) ... \u001b[?25l\u001b[?25hdone\n",
            "  Created wheel for torchtext: filename=torchtext-0.2.3-cp37-none-any.whl size=40134 sha256=f7ebaf4add2ff263a7f3152ba5b3cbc8b813aa833ce5f0db71ed277d7e0ba28a\n",
            "  Stored in directory: /root/.cache/pip/wheels/42/a6/f4/b267328bde6bb680094a0c173e8e5627ccc99543abded97204\n",
            "Successfully built torchtext\n",
            "Installing collected packages: torchtext\n",
            "  Found existing installation: torchtext 0.9.1\n",
            "    Uninstalling torchtext-0.9.1:\n",
            "      Successfully uninstalled torchtext-0.9.1\n",
            "Successfully installed torchtext-0.2.3\n"
          ],
          "name": "stdout"
        }
      ]
    },
    {
      "cell_type": "code",
      "metadata": {
        "colab": {
          "base_uri": "https://localhost:8080/"
        },
        "id": "LFlaFvntiB3R",
        "outputId": "f6ef7750-3041-4f81-e662-312397999236"
      },
      "source": [
        "cd NeuralBabyTalk-master"
      ],
      "execution_count": null,
      "outputs": [
        {
          "output_type": "stream",
          "text": [
            "/content/NeuralBabyTalk-master\n"
          ],
          "name": "stdout"
        }
      ]
    },
    {
      "cell_type": "code",
      "metadata": {
        "colab": {
          "base_uri": "https://localhost:8080/"
        },
        "id": "zi-pXGdYq2fl",
        "outputId": "0a35e30c-c6ad-4fd6-84b6-749e9d3787e5"
      },
      "source": [
        "!pip install conda\n",
        "!conda install pytorch=0.4.1 -c pytorch"
      ],
      "execution_count": null,
      "outputs": [
        {
          "output_type": "stream",
          "text": [
            "Collecting conda\n",
            "\u001b[?25l  Downloading https://files.pythonhosted.org/packages/74/4e/c533c3136427be62c38cc0e038cabf167bb54489c2ced2f6df903c456861/conda-4.3.16.tar.gz (299kB)\n",
            "\u001b[K     |████████████████████████████████| 307kB 23.1MB/s \n",
            "\u001b[?25hCollecting pycosat>=0.6.1\n",
            "\u001b[?25l  Downloading https://files.pythonhosted.org/packages/c0/fd/e38d68774c0a345b0090d608a90f1fbf423970d812f7ec7aef9ac024e648/pycosat-0.6.3.zip (66kB)\n",
            "\u001b[K     |████████████████████████████████| 71kB 9.6MB/s \n",
            "\u001b[?25hRequirement already satisfied: requests>=2.12.4 in /usr/local/lib/python3.7/dist-packages (from conda) (2.23.0)\n",
            "Collecting ruamel.yaml>=0.11.14\n",
            "\u001b[?25l  Downloading https://files.pythonhosted.org/packages/82/b8/d5bc68c849d0a60b1acb3ad20fec5d23534733701f5db6b2cc029076bf72/ruamel.yaml-0.17.2-py3-none-any.whl (101kB)\n",
            "\u001b[K     |████████████████████████████████| 102kB 11.4MB/s \n",
            "\u001b[?25hRequirement already satisfied: chardet<4,>=3.0.2 in /usr/local/lib/python3.7/dist-packages (from requests>=2.12.4->conda) (3.0.4)\n",
            "Requirement already satisfied: certifi>=2017.4.17 in /usr/local/lib/python3.7/dist-packages (from requests>=2.12.4->conda) (2020.12.5)\n",
            "Requirement already satisfied: idna<3,>=2.5 in /usr/local/lib/python3.7/dist-packages (from requests>=2.12.4->conda) (2.10)\n",
            "Requirement already satisfied: urllib3!=1.25.0,!=1.25.1,<1.26,>=1.21.1 in /usr/local/lib/python3.7/dist-packages (from requests>=2.12.4->conda) (1.24.3)\n",
            "Collecting ruamel.yaml.clib>=0.1.2; platform_python_implementation == \"CPython\" and python_version < \"3.10\"\n",
            "\u001b[?25l  Downloading https://files.pythonhosted.org/packages/5e/6e/f652c56bbb2c3d3fca252ffc7c0358597f57a1bbdf484dac683054950c63/ruamel.yaml.clib-0.2.2-cp37-cp37m-manylinux1_x86_64.whl (547kB)\n",
            "\u001b[K     |████████████████████████████████| 552kB 55.1MB/s \n",
            "\u001b[?25hBuilding wheels for collected packages: conda, pycosat\n",
            "  Building wheel for conda (setup.py) ... \u001b[?25l\u001b[?25hdone\n",
            "  Created wheel for conda: filename=conda-4.3.16-cp37-none-any.whl size=336938 sha256=92b34ccc47f2d4b2991acba2195ae8e3b0ec83805af8b431daf151de9d82b744\n",
            "  Stored in directory: /root/.cache/pip/wheels/a3/50/79/302742d53e2231ec545cb3791abfdd24de234021ed8e0588a0\n",
            "  Building wheel for pycosat (setup.py) ... \u001b[?25l\u001b[?25hdone\n",
            "  Created wheel for pycosat: filename=pycosat-0.6.3-cp37-cp37m-linux_x86_64.whl size=143822 sha256=6320e4a835c9970e9b1192d7947939d55477951732533cf563b2b796087b53fa\n",
            "  Stored in directory: /root/.cache/pip/wheels/c4/67/ff/5570304e45814eccef48a3c69c3af25d0456ed3a34eddbbe38\n",
            "Successfully built conda pycosat\n",
            "Installing collected packages: pycosat, ruamel.yaml.clib, ruamel.yaml, conda\n",
            "Successfully installed conda-4.3.16 pycosat-0.6.3 ruamel.yaml-0.17.2 ruamel.yaml.clib-0.2.2\n",
            "ERROR: The install method you used for conda--probably either `pip install conda`\n",
            "or `easy_install conda`--is not compatible with using conda as an application.\n",
            "If your intention is to install conda as a standalone application, currently\n",
            "supported install methods include the Anaconda installer and the miniconda\n",
            "installer.  You can download the miniconda installer from\n",
            "https://conda.io/miniconda.html.\n",
            "\n"
          ],
          "name": "stdout"
        }
      ]
    },
    {
      "cell_type": "code",
      "metadata": {
        "colab": {
          "base_uri": "https://localhost:8080/",
          "height": 441
        },
        "id": "vOREZ2oHrOgt",
        "outputId": "aed060de-7970-44b9-bb4a-095ad69d2271"
      },
      "source": [
        "pip install numpy==1.15.0"
      ],
      "execution_count": null,
      "outputs": [
        {
          "output_type": "stream",
          "text": [
            "Collecting numpy==1.15.0\n",
            "\u001b[?25l  Downloading https://files.pythonhosted.org/packages/27/92/c01d3a6c58ceab0e6ec36ad3af41bc076014cc916afcb979ab4c9558f347/numpy-1.15.0-cp37-cp37m-manylinux1_x86_64.whl (13.8MB)\n",
            "\u001b[K     |████████████████████████████████| 13.9MB 239kB/s \n",
            "\u001b[31mERROR: tifffile 2021.3.17 has requirement numpy>=1.15.1, but you'll have numpy 1.15.0 which is incompatible.\u001b[0m\n",
            "\u001b[31mERROR: tensorflow 2.4.1 has requirement numpy~=1.19.2, but you'll have numpy 1.15.0 which is incompatible.\u001b[0m\n",
            "\u001b[31mERROR: pyerfa 1.7.2 has requirement numpy>=1.16, but you'll have numpy 1.15.0 which is incompatible.\u001b[0m\n",
            "\u001b[31mERROR: pyarrow 3.0.0 has requirement numpy>=1.16.6, but you'll have numpy 1.15.0 which is incompatible.\u001b[0m\n",
            "\u001b[31mERROR: plotnine 0.6.0 has requirement numpy>=1.16.0, but you'll have numpy 1.15.0 which is incompatible.\u001b[0m\n",
            "\u001b[31mERROR: pandas 1.1.5 has requirement numpy>=1.15.4, but you'll have numpy 1.15.0 which is incompatible.\u001b[0m\n",
            "\u001b[31mERROR: jaxlib 0.1.64+cuda110 has requirement numpy>=1.16, but you'll have numpy 1.15.0 which is incompatible.\u001b[0m\n",
            "\u001b[31mERROR: fbprophet 0.7.1 has requirement numpy>=1.15.4, but you'll have numpy 1.15.0 which is incompatible.\u001b[0m\n",
            "\u001b[31mERROR: datascience 0.10.6 has requirement folium==0.2.1, but you'll have folium 0.8.3 which is incompatible.\u001b[0m\n",
            "\u001b[31mERROR: astropy 4.2 has requirement numpy>=1.17, but you'll have numpy 1.15.0 which is incompatible.\u001b[0m\n",
            "\u001b[31mERROR: albumentations 0.1.12 has requirement imgaug<0.2.7,>=0.2.5, but you'll have imgaug 0.2.9 which is incompatible.\u001b[0m\n",
            "\u001b[?25hInstalling collected packages: numpy\n",
            "  Found existing installation: numpy 1.19.5\n",
            "    Uninstalling numpy-1.19.5:\n",
            "      Successfully uninstalled numpy-1.19.5\n",
            "Successfully installed numpy-1.15.0\n"
          ],
          "name": "stdout"
        },
        {
          "output_type": "display_data",
          "data": {
            "application/vnd.colab-display-data+json": {
              "pip_warning": {
                "packages": [
                  "numpy"
                ]
              }
            }
          },
          "metadata": {
            "tags": []
          }
        }
      ]
    },
    {
      "cell_type": "code",
      "metadata": {
        "id": "zzk_8Kbmze22"
      },
      "source": [
        ""
      ],
      "execution_count": null,
      "outputs": []
    },
    {
      "cell_type": "code",
      "metadata": {
        "id": "dOQCRG8i9WoO",
        "colab": {
          "base_uri": "https://localhost:8080/"
        },
        "outputId": "3b3e83ee-9f37-4b1e-ad9a-e980100ea213"
      },
      "source": [
        "!python main.py --path_opt cfgs/normal_flickr_res101.yml --batch_size 20 --cuda True --num_workers 20 --max_epoch 30 --inference_only True --beam_size 3 --start_from save/flickr30k_nbt_1024"
      ],
      "execution_count": null,
      "outputs": [
        {
          "output_type": "stream",
          "text": [
            "2021-04-06 10:10:51.612588: I tensorflow/stream_executor/platform/default/dso_loader.cc:49] Successfully opened dynamic library libcudart.so.11.0\n",
            "Namespace(att_feat_size=2048, att_hid_size=512, att_model='topdown', batch_size=20, beam_size=3, cached_tokens='coco-train-idxs', cbs=False, cbs_mode='all', cbs_tag_size=3, checkpoint_path='save/flickr30k_nbt_1024', cider_df='corpus', cnn_backend='res101', cnn_learning_rate=1e-05, cnn_optim='adam', cnn_optim_alpha=0.8, cnn_optim_beta=0.999, cnn_weight_decay=0, cuda=True, data_path='data', dataset='flickr30k', decode_noc=False, det_oracle=False, disp_interval=100, drop_prob_lm=0.5, fc_feat_size=2048, finetune_cnn=False, fixed_block=1, grad_clip=0.1, id='', image_crop_size=512, image_path='data/coco/images', image_size=576, inference_only=True, input_dic='data/flickr30k/dic_flickr30k.json', input_encoding_size=512, input_json='data/flickr30k/dataset_flickr30k.json', language_eval=1, learning_rate=0.0005, learning_rate_decay_every=3, learning_rate_decay_rate=0.8, learning_rate_decay_start=1, load_best_score=1, losses_log_every=10, mGPUs=False, max_epochs=30, num_layers=1, num_workers=20, optim='adam', optim_alpha=0.9, optim_beta=0.999, optim_epsilon=1e-08, path_opt='cfgs/normal_flickr_res101.yml', proposal_h5='data/flickr30k/flickr30k_detection.h5', rnn_size=1024, rnn_type='lstm', scheduled_sampling_increase_every=5, scheduled_sampling_increase_prob=0.05, scheduled_sampling_max_prob=0.25, scheduled_sampling_start=-1, self_critical=False, seq_length=20, seq_per_img=5, start_from='save/flickr30k_nbt_1024', val_every_epoch=3, val_images_use=-1, val_split='test', weight_decay=0)\n",
            "DataLoader loading json file:  data/flickr30k/dic_flickr30k.json\n",
            "vocab size is  8639\n",
            "Traceback (most recent call last):\n",
            "  File \"main.py\", line 213, in <module>\n",
            "    dataset = DataLoader(opt, split='train')\n",
            "  File \"/content/NeuralBabyTalk-master/misc/dataloader_flickr30k.py\", line 78, in __init__\n",
            "    self.glove_fg[i+1] = vector\n",
            "  File \"/usr/local/lib/python3.7/dist-packages/torch/tensor.py\", line 399, in __array__\n",
            "    return self.cpu().numpy().astype(dtype, copy=False)\n",
            "RuntimeError: PyTorch was compiled without NumPy support\n"
          ],
          "name": "stdout"
        }
      ]
    },
    {
      "cell_type": "code",
      "metadata": {
        "id": "qjziNrU49ZKx",
        "colab": {
          "base_uri": "https://localhost:8080/"
        },
        "outputId": "9b4e1e95-b032-45a4-cdeb-d06bd21291f3"
      },
      "source": [
        "pip install torchvision==0.2.2"
      ],
      "execution_count": null,
      "outputs": [
        {
          "output_type": "stream",
          "text": [
            "Requirement already satisfied: torchvision==0.2.2 in /usr/local/lib/python3.7/dist-packages (0.2.2)\n",
            "Requirement already satisfied: pillow>=4.1.1 in /usr/local/lib/python3.7/dist-packages (from torchvision==0.2.2) (7.1.2)\n",
            "Requirement already satisfied: tqdm==4.19.9 in /usr/local/lib/python3.7/dist-packages (from torchvision==0.2.2) (4.19.9)\n",
            "Requirement already satisfied: numpy in /usr/local/lib/python3.7/dist-packages (from torchvision==0.2.2) (1.19.5)\n",
            "Requirement already satisfied: torch in /usr/local/lib/python3.7/dist-packages (from torchvision==0.2.2) (1.0.0)\n",
            "Requirement already satisfied: six in /usr/local/lib/python3.7/dist-packages (from torchvision==0.2.2) (1.15.0)\n"
          ],
          "name": "stdout"
        }
      ]
    },
    {
      "cell_type": "code",
      "metadata": {
        "id": "9qamQlgAXjDV"
      },
      "source": [
        "import os\n",
        "os.environ['KAGGLE_CONFIG_DIR']='/content'"
      ],
      "execution_count": null,
      "outputs": []
    },
    {
      "cell_type": "code",
      "metadata": {
        "colab": {
          "base_uri": "https://localhost:8080/"
        },
        "id": "ICRrC7Km0K0j",
        "outputId": "615f5893-b7a3-4226-981a-387e8466569a"
      },
      "source": [
        "!kaggle datasets download -d nunenuh/flickr30k"
      ],
      "execution_count": null,
      "outputs": [
        {
          "output_type": "stream",
          "text": [
            "Warning: Your Kaggle API key is readable by other users on this system! To fix this, you can run 'chmod 600 /content/kaggle.json'\n",
            "Downloading flickr30k.zip to /content\n",
            "100% 8.14G/8.16G [02:07<00:00, 102MB/s] \n",
            "100% 8.16G/8.16G [02:07<00:00, 68.9MB/s]\n"
          ],
          "name": "stdout"
        }
      ]
    },
    {
      "cell_type": "code",
      "metadata": {
        "id": "_N_tFaaS0vCE"
      },
      "source": [
        ""
      ],
      "execution_count": null,
      "outputs": []
    }
  ]
}